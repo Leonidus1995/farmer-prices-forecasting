{
 "cells": [
  {
   "cell_type": "code",
   "execution_count": null,
   "id": "268135ab",
   "metadata": {},
   "outputs": [],
   "source": [
    "# required packages\n",
    "import pandas as pd\n",
    "import numpy as np"
   ]
  },
  {
   "cell_type": "code",
   "execution_count": 6,
   "id": "8437f5e6",
   "metadata": {},
   "outputs": [
    {
     "data": {
      "text/html": [
       "<div>\n",
       "<style scoped>\n",
       "    .dataframe tbody tr th:only-of-type {\n",
       "        vertical-align: middle;\n",
       "    }\n",
       "\n",
       "    .dataframe tbody tr th {\n",
       "        vertical-align: top;\n",
       "    }\n",
       "\n",
       "    .dataframe thead th {\n",
       "        text-align: right;\n",
       "    }\n",
       "</style>\n",
       "<table border=\"1\" class=\"dataframe\">\n",
       "  <thead>\n",
       "    <tr style=\"text-align: right;\">\n",
       "      <th></th>\n",
       "      <th>Area Code</th>\n",
       "      <th>Area Code (M49)</th>\n",
       "      <th>Area</th>\n",
       "      <th>Item Code</th>\n",
       "      <th>Item</th>\n",
       "      <th>Element Code</th>\n",
       "      <th>Element</th>\n",
       "      <th>Year Code</th>\n",
       "      <th>Year</th>\n",
       "      <th>Unit</th>\n",
       "      <th>Value</th>\n",
       "      <th>Flag</th>\n",
       "    </tr>\n",
       "  </thead>\n",
       "  <tbody>\n",
       "    <tr>\n",
       "      <th>0</th>\n",
       "      <td>2</td>\n",
       "      <td>'004</td>\n",
       "      <td>Afghanistan</td>\n",
       "      <td>23018</td>\n",
       "      <td>Total Credit</td>\n",
       "      <td>6224</td>\n",
       "      <td>Value Standard Local Currency</td>\n",
       "      <td>2006</td>\n",
       "      <td>2006</td>\n",
       "      <td>million SLC</td>\n",
       "      <td>14520.67225</td>\n",
       "      <td>X</td>\n",
       "    </tr>\n",
       "    <tr>\n",
       "      <th>1</th>\n",
       "      <td>2</td>\n",
       "      <td>'004</td>\n",
       "      <td>Afghanistan</td>\n",
       "      <td>23018</td>\n",
       "      <td>Total Credit</td>\n",
       "      <td>6224</td>\n",
       "      <td>Value Standard Local Currency</td>\n",
       "      <td>2007</td>\n",
       "      <td>2007</td>\n",
       "      <td>million SLC</td>\n",
       "      <td>28140.40959</td>\n",
       "      <td>X</td>\n",
       "    </tr>\n",
       "    <tr>\n",
       "      <th>2</th>\n",
       "      <td>2</td>\n",
       "      <td>'004</td>\n",
       "      <td>Afghanistan</td>\n",
       "      <td>23018</td>\n",
       "      <td>Total Credit</td>\n",
       "      <td>6224</td>\n",
       "      <td>Value Standard Local Currency</td>\n",
       "      <td>2008</td>\n",
       "      <td>2008</td>\n",
       "      <td>million SLC</td>\n",
       "      <td>40000.00000</td>\n",
       "      <td>A</td>\n",
       "    </tr>\n",
       "    <tr>\n",
       "      <th>3</th>\n",
       "      <td>2</td>\n",
       "      <td>'004</td>\n",
       "      <td>Afghanistan</td>\n",
       "      <td>23018</td>\n",
       "      <td>Total Credit</td>\n",
       "      <td>6224</td>\n",
       "      <td>Value Standard Local Currency</td>\n",
       "      <td>2009</td>\n",
       "      <td>2009</td>\n",
       "      <td>million SLC</td>\n",
       "      <td>49673.29589</td>\n",
       "      <td>X</td>\n",
       "    </tr>\n",
       "    <tr>\n",
       "      <th>4</th>\n",
       "      <td>2</td>\n",
       "      <td>'004</td>\n",
       "      <td>Afghanistan</td>\n",
       "      <td>23018</td>\n",
       "      <td>Total Credit</td>\n",
       "      <td>6224</td>\n",
       "      <td>Value Standard Local Currency</td>\n",
       "      <td>2010</td>\n",
       "      <td>2010</td>\n",
       "      <td>million SLC</td>\n",
       "      <td>63646.36800</td>\n",
       "      <td>A</td>\n",
       "    </tr>\n",
       "  </tbody>\n",
       "</table>\n",
       "</div>"
      ],
      "text/plain": [
       "   Area Code Area Code (M49)         Area  Item Code          Item  \\\n",
       "0          2            '004  Afghanistan      23018  Total Credit   \n",
       "1          2            '004  Afghanistan      23018  Total Credit   \n",
       "2          2            '004  Afghanistan      23018  Total Credit   \n",
       "3          2            '004  Afghanistan      23018  Total Credit   \n",
       "4          2            '004  Afghanistan      23018  Total Credit   \n",
       "\n",
       "   Element Code                        Element  Year Code  Year         Unit  \\\n",
       "0          6224  Value Standard Local Currency       2006  2006  million SLC   \n",
       "1          6224  Value Standard Local Currency       2007  2007  million SLC   \n",
       "2          6224  Value Standard Local Currency       2008  2008  million SLC   \n",
       "3          6224  Value Standard Local Currency       2009  2009  million SLC   \n",
       "4          6224  Value Standard Local Currency       2010  2010  million SLC   \n",
       "\n",
       "         Value Flag  \n",
       "0  14520.67225    X  \n",
       "1  28140.40959    X  \n",
       "2  40000.00000    A  \n",
       "3  49673.29589    X  \n",
       "4  63646.36800    A  "
      ]
     },
     "execution_count": 6,
     "metadata": {},
     "output_type": "execute_result"
    }
   ],
   "source": [
    "# Loading original data\n",
    "raw_data = pd.read_csv('Datasets_MS_Project/Credit_to_Agriculture/Investment_CreditAgriculture_E_All_Data_(Normalized)/Investment_CreditAgriculture_E_All_Data_(Normalized).csv')\n",
    "raw_data.head()"
   ]
  },
  {
   "cell_type": "code",
   "execution_count": 7,
   "id": "f9826ab3",
   "metadata": {},
   "outputs": [
    {
     "name": "stdout",
     "output_type": "stream",
     "text": [
      "<class 'pandas.core.frame.DataFrame'>\n",
      "RangeIndex: 58485 entries, 0 to 58484\n",
      "Data columns (total 12 columns):\n",
      " #   Column           Non-Null Count  Dtype  \n",
      "---  ------           --------------  -----  \n",
      " 0   Area Code        58485 non-null  int64  \n",
      " 1   Area Code (M49)  58485 non-null  object \n",
      " 2   Area             58485 non-null  object \n",
      " 3   Item Code        58485 non-null  int64  \n",
      " 4   Item             58485 non-null  object \n",
      " 5   Element Code     58485 non-null  int64  \n",
      " 6   Element          58485 non-null  object \n",
      " 7   Year Code        58485 non-null  int64  \n",
      " 8   Year             58485 non-null  int64  \n",
      " 9   Unit             55455 non-null  object \n",
      " 10  Value            58485 non-null  float64\n",
      " 11  Flag             58485 non-null  object \n",
      "dtypes: float64(1), int64(5), object(6)\n",
      "memory usage: 5.4+ MB\n"
     ]
    }
   ],
   "source": [
    "raw_data.info()"
   ]
  },
  {
   "cell_type": "code",
   "execution_count": 8,
   "id": "cfe20b61",
   "metadata": {},
   "outputs": [
    {
     "data": {
      "text/plain": [
       "array(['Value Standard Local Currency',\n",
       "       'Value Standard Local Currency, 2015 prices', 'Value US$',\n",
       "       'Value US$, 2015 prices', 'Share of Total Credit US$, 2015 prices',\n",
       "       'Agriculture orientation index US$, 2015 prices'], dtype=object)"
      ]
     },
     "execution_count": 8,
     "metadata": {},
     "output_type": "execute_result"
    }
   ],
   "source": [
    "# Finding unique values of Element column\n",
    "raw_data['Element'].unique()"
   ]
  },
  {
   "cell_type": "code",
   "execution_count": 9,
   "id": "69c39fd4",
   "metadata": {},
   "outputs": [
    {
     "data": {
      "text/plain": [
       "array(['Total Credit', 'Credit to Agriculture, Forestry and Fishing',\n",
       "       'Credit to Agriculture', 'Credit to Agriculture and Forestry',\n",
       "       'Credit to Fishery', 'Credit to Agriculture and Fishery',\n",
       "       'Credit to Forestry', 'Credit to Forestry and Fishery'],\n",
       "      dtype=object)"
      ]
     },
     "execution_count": 9,
     "metadata": {},
     "output_type": "execute_result"
    }
   ],
   "source": [
    "raw_data['Item'].unique()"
   ]
  },
  {
   "cell_type": "markdown",
   "id": "cc5024cb",
   "metadata": {},
   "source": [
    "For our project we would consider just one of the items, among following: \n",
    "\"Credit to Agriculture\", and \"Credit to Agriculture, Forestry and Fishing\".\n",
    "It's 'Value US$, 2015 prices', 'Share of Total Credit US$, 2015 prices', \n",
    "'Agriculture orientation index US$, 2015 prices'. To keep the currency units \n",
    "standard across all the datasets, we are not considering values in local currencies. \n",
    "So, we would filter the raw_data accordingly."
   ]
  },
  {
   "cell_type": "code",
   "execution_count": null,
   "id": "8e6b2e9a",
   "metadata": {},
   "outputs": [
    {
     "data": {
      "text/plain": [
       "Item\n",
       "Credit to Agriculture, Forestry and Fishing    21154\n",
       "Total Credit                                   17757\n",
       "Credit to Agriculture                           6755\n",
       "Credit to Fishery                               3674\n",
       "Credit to Agriculture and Fishery               3288\n",
       "Credit to Agriculture and Forestry              2504\n",
       "Credit to Forestry                              1677\n",
       "Credit to Forestry and Fishery                  1676\n",
       "Name: count, dtype: int64"
      ]
     },
     "execution_count": 34,
     "metadata": {},
     "output_type": "execute_result"
    }
   ],
   "source": [
    "# finding the amount of data avilable for each of the items\n",
    "raw_data['Item'].value_counts()"
   ]
  },
  {
   "cell_type": "code",
   "execution_count": null,
   "id": "d0a8b9b5",
   "metadata": {},
   "outputs": [
    {
     "data": {
      "text/plain": [
       "Item\n",
       "Credit to Agriculture, Forestry and Fishing    0.361700\n",
       "Total Credit                                   0.303616\n",
       "Credit to Agriculture                          0.115500\n",
       "Credit to Fishery                              0.062820\n",
       "Credit to Agriculture and Fishery              0.056220\n",
       "Credit to Agriculture and Forestry             0.042814\n",
       "Credit to Forestry                             0.028674\n",
       "Credit to Forestry and Fishery                 0.028657\n",
       "Name: proportion, dtype: float64"
      ]
     },
     "execution_count": 37,
     "metadata": {},
     "output_type": "execute_result"
    }
   ],
   "source": [
    "# proportion of each unique value in \"Item\" column\n",
    "raw_data['Item'].value_counts(normalize=True)"
   ]
  },
  {
   "cell_type": "markdown",
   "id": "52e9443d",
   "metadata": {},
   "source": [
    "For our project, we would consider \"Credit to Agriculture, Forestry and Fishing\" \n",
    "because for this item, we have greater amount of data available among all the items. "
   ]
  },
  {
   "cell_type": "code",
   "execution_count": 38,
   "id": "2f3665f7",
   "metadata": {},
   "outputs": [
    {
     "name": "stdout",
     "output_type": "stream",
     "text": [
      "<class 'pandas.core.frame.DataFrame'>\n",
      "Index: 11076 entries, 96 to 58484\n",
      "Data columns (total 12 columns):\n",
      " #   Column           Non-Null Count  Dtype  \n",
      "---  ------           --------------  -----  \n",
      " 0   Area Code        11076 non-null  int64  \n",
      " 1   Area Code (M49)  11076 non-null  object \n",
      " 2   Area             11076 non-null  object \n",
      " 3   Item Code        11076 non-null  int64  \n",
      " 4   Item             11076 non-null  object \n",
      " 5   Element Code     11076 non-null  int64  \n",
      " 6   Element          11076 non-null  object \n",
      " 7   Year Code        11076 non-null  int64  \n",
      " 8   Year             11076 non-null  int64  \n",
      " 9   Unit             8046 non-null   object \n",
      " 10  Value            11076 non-null  float64\n",
      " 11  Flag             11076 non-null  object \n",
      "dtypes: float64(1), int64(5), object(6)\n",
      "memory usage: 1.1+ MB\n"
     ]
    }
   ],
   "source": [
    "# Filter the data\n",
    "elements_to_keep = [\n",
    "    'Value US$, 2015 prices',\n",
    "    'Share of Total Credit US$, 2015 prices', \n",
    "    'Agriculture orientation index US$, 2015 prices'\n",
    "    ]\n",
    "\n",
    "filtered_data = raw_data.loc[\n",
    "    (raw_data['Item']=='Credit to Agriculture, Forestry and Fishing') &\n",
    "    (raw_data['Element'].isin(elements_to_keep))\n",
    "    ]\n",
    "\n",
    "filtered_data.info()"
   ]
  },
  {
   "cell_type": "code",
   "execution_count": 43,
   "id": "cae8dd90",
   "metadata": {},
   "outputs": [
    {
     "data": {
      "text/html": [
       "<div>\n",
       "<style scoped>\n",
       "    .dataframe tbody tr th:only-of-type {\n",
       "        vertical-align: middle;\n",
       "    }\n",
       "\n",
       "    .dataframe tbody tr th {\n",
       "        vertical-align: top;\n",
       "    }\n",
       "\n",
       "    .dataframe thead th {\n",
       "        text-align: right;\n",
       "    }\n",
       "</style>\n",
       "<table border=\"1\" class=\"dataframe\">\n",
       "  <thead>\n",
       "    <tr style=\"text-align: right;\">\n",
       "      <th></th>\n",
       "      <th>Element</th>\n",
       "      <th>Unit</th>\n",
       "    </tr>\n",
       "  </thead>\n",
       "  <tbody>\n",
       "    <tr>\n",
       "      <th>0</th>\n",
       "      <td>Value US$, 2015 prices</td>\n",
       "      <td>million USD</td>\n",
       "    </tr>\n",
       "    <tr>\n",
       "      <th>1</th>\n",
       "      <td>Share of Total Credit US$, 2015 prices</td>\n",
       "      <td>%</td>\n",
       "    </tr>\n",
       "    <tr>\n",
       "      <th>2</th>\n",
       "      <td>Agriculture orientation index US$, 2015 prices</td>\n",
       "      <td>NaN</td>\n",
       "    </tr>\n",
       "  </tbody>\n",
       "</table>\n",
       "</div>"
      ],
      "text/plain": [
       "                                          Element         Unit\n",
       "0                          Value US$, 2015 prices  million USD\n",
       "1          Share of Total Credit US$, 2015 prices            %\n",
       "2  Agriculture orientation index US$, 2015 prices          NaN"
      ]
     },
     "execution_count": 43,
     "metadata": {},
     "output_type": "execute_result"
    }
   ],
   "source": [
    "# finding units for the elements\n",
    "unique_units = filtered_data[['Element', 'Unit']]\n",
    "unique_units.reset_index(inplace=True)\n",
    "\n",
    "pairs = {}\n",
    "for i in range(len(unique_units)):\n",
    "    pairs[unique_units['Element'][i]] = unique_units['Unit'][i]\n",
    "\n",
    "unique_units_df = pd.DataFrame(list(pairs.items()), columns = ['Element', 'Unit'])\n",
    "unique_units_df"
   ]
  },
  {
   "cell_type": "code",
   "execution_count": 39,
   "id": "e5193a8f",
   "metadata": {},
   "outputs": [
    {
     "data": {
      "text/plain": [
       "array(['Value US$, 2015 prices', 'Share of Total Credit US$, 2015 prices',\n",
       "       'Agriculture orientation index US$, 2015 prices'], dtype=object)"
      ]
     },
     "execution_count": 39,
     "metadata": {},
     "output_type": "execute_result"
    }
   ],
   "source": [
    "filtered_data['Element'].unique()"
   ]
  },
  {
   "cell_type": "code",
   "execution_count": null,
   "id": "f0109a8d",
   "metadata": {},
   "outputs": [
    {
     "data": {
      "text/html": [
       "<div>\n",
       "<style scoped>\n",
       "    .dataframe tbody tr th:only-of-type {\n",
       "        vertical-align: middle;\n",
       "    }\n",
       "\n",
       "    .dataframe tbody tr th {\n",
       "        vertical-align: top;\n",
       "    }\n",
       "\n",
       "    .dataframe thead th {\n",
       "        text-align: right;\n",
       "    }\n",
       "</style>\n",
       "<table border=\"1\" class=\"dataframe\">\n",
       "  <thead>\n",
       "    <tr style=\"text-align: right;\">\n",
       "      <th></th>\n",
       "      <th>Area Code</th>\n",
       "      <th>Area</th>\n",
       "      <th>Year Code</th>\n",
       "      <th>Year</th>\n",
       "      <th>Agriculture orientation index US$, 2015 prices</th>\n",
       "      <th>Share of Total Credit US$, 2015 prices</th>\n",
       "      <th>Value US$, 2015 prices</th>\n",
       "    </tr>\n",
       "  </thead>\n",
       "  <tbody>\n",
       "    <tr>\n",
       "      <th>0</th>\n",
       "      <td>1</td>\n",
       "      <td>Armenia</td>\n",
       "      <td>2000</td>\n",
       "      <td>2000</td>\n",
       "      <td>1.0</td>\n",
       "      <td>16.170246</td>\n",
       "      <td>36.830029</td>\n",
       "    </tr>\n",
       "    <tr>\n",
       "      <th>1</th>\n",
       "      <td>1</td>\n",
       "      <td>Armenia</td>\n",
       "      <td>2001</td>\n",
       "      <td>2001</td>\n",
       "      <td>1.0</td>\n",
       "      <td>15.957212</td>\n",
       "      <td>32.007980</td>\n",
       "    </tr>\n",
       "    <tr>\n",
       "      <th>2</th>\n",
       "      <td>1</td>\n",
       "      <td>Armenia</td>\n",
       "      <td>2002</td>\n",
       "      <td>2002</td>\n",
       "      <td>1.0</td>\n",
       "      <td>13.038528</td>\n",
       "      <td>26.333912</td>\n",
       "    </tr>\n",
       "    <tr>\n",
       "      <th>3</th>\n",
       "      <td>1</td>\n",
       "      <td>Armenia</td>\n",
       "      <td>2003</td>\n",
       "      <td>2003</td>\n",
       "      <td>1.0</td>\n",
       "      <td>12.554479</td>\n",
       "      <td>26.365699</td>\n",
       "    </tr>\n",
       "    <tr>\n",
       "      <th>4</th>\n",
       "      <td>1</td>\n",
       "      <td>Armenia</td>\n",
       "      <td>2004</td>\n",
       "      <td>2004</td>\n",
       "      <td>0.0</td>\n",
       "      <td>6.574773</td>\n",
       "      <td>26.196090</td>\n",
       "    </tr>\n",
       "  </tbody>\n",
       "</table>\n",
       "</div>"
      ],
      "text/plain": [
       "   Area Code     Area  Year Code  Year  \\\n",
       "0          1  Armenia       2000  2000   \n",
       "1          1  Armenia       2001  2001   \n",
       "2          1  Armenia       2002  2002   \n",
       "3          1  Armenia       2003  2003   \n",
       "4          1  Armenia       2004  2004   \n",
       "\n",
       "   Agriculture orientation index US$, 2015 prices  \\\n",
       "0                                             1.0   \n",
       "1                                             1.0   \n",
       "2                                             1.0   \n",
       "3                                             1.0   \n",
       "4                                             0.0   \n",
       "\n",
       "   Share of Total Credit US$, 2015 prices  Value US$, 2015 prices  \n",
       "0                               16.170246               36.830029  \n",
       "1                               15.957212               32.007980  \n",
       "2                               13.038528               26.333912  \n",
       "3                               12.554479               26.365699  \n",
       "4                                6.574773               26.196090  "
      ]
     },
     "execution_count": 42,
     "metadata": {},
     "output_type": "execute_result"
    }
   ],
   "source": [
    "# Restructuring data from long format to wide format\n",
    "pivoted_data = filtered_data.pivot_table(\n",
    "    index = ['Area Code', 'Area', 'Year Code', 'Year'],\n",
    "    columns = 'Element',\n",
    "    values = 'Value'\n",
    ")\n",
    "\n",
    "# Resetting row index\n",
    "pivoted_data.reset_index(inplace=True)\n",
    "\n",
    "# Setting column index to None\n",
    "pivoted_data.columns.name = None\n",
    "\n",
    "pivoted_data.head()"
   ]
  },
  {
   "cell_type": "code",
   "execution_count": 44,
   "id": "acb2e5da",
   "metadata": {},
   "outputs": [
    {
     "data": {
      "text/html": [
       "<div>\n",
       "<style scoped>\n",
       "    .dataframe tbody tr th:only-of-type {\n",
       "        vertical-align: middle;\n",
       "    }\n",
       "\n",
       "    .dataframe tbody tr th {\n",
       "        vertical-align: top;\n",
       "    }\n",
       "\n",
       "    .dataframe thead th {\n",
       "        text-align: right;\n",
       "    }\n",
       "</style>\n",
       "<table border=\"1\" class=\"dataframe\">\n",
       "  <thead>\n",
       "    <tr style=\"text-align: right;\">\n",
       "      <th></th>\n",
       "      <th>area_code</th>\n",
       "      <th>area</th>\n",
       "      <th>year_code</th>\n",
       "      <th>year</th>\n",
       "      <th>Agri_orientation_index_2015_USD</th>\n",
       "      <th>credit_to_ag_forest_fish_share_totalCredit</th>\n",
       "      <th>credit_to_ag_forest_fish_2015_USD</th>\n",
       "    </tr>\n",
       "  </thead>\n",
       "  <tbody>\n",
       "    <tr>\n",
       "      <th>0</th>\n",
       "      <td>1</td>\n",
       "      <td>Armenia</td>\n",
       "      <td>2000</td>\n",
       "      <td>2000</td>\n",
       "      <td>1.0</td>\n",
       "      <td>16.170246</td>\n",
       "      <td>36.830029</td>\n",
       "    </tr>\n",
       "    <tr>\n",
       "      <th>1</th>\n",
       "      <td>1</td>\n",
       "      <td>Armenia</td>\n",
       "      <td>2001</td>\n",
       "      <td>2001</td>\n",
       "      <td>1.0</td>\n",
       "      <td>15.957212</td>\n",
       "      <td>32.007980</td>\n",
       "    </tr>\n",
       "    <tr>\n",
       "      <th>2</th>\n",
       "      <td>1</td>\n",
       "      <td>Armenia</td>\n",
       "      <td>2002</td>\n",
       "      <td>2002</td>\n",
       "      <td>1.0</td>\n",
       "      <td>13.038528</td>\n",
       "      <td>26.333912</td>\n",
       "    </tr>\n",
       "    <tr>\n",
       "      <th>3</th>\n",
       "      <td>1</td>\n",
       "      <td>Armenia</td>\n",
       "      <td>2003</td>\n",
       "      <td>2003</td>\n",
       "      <td>1.0</td>\n",
       "      <td>12.554479</td>\n",
       "      <td>26.365699</td>\n",
       "    </tr>\n",
       "    <tr>\n",
       "      <th>4</th>\n",
       "      <td>1</td>\n",
       "      <td>Armenia</td>\n",
       "      <td>2004</td>\n",
       "      <td>2004</td>\n",
       "      <td>0.0</td>\n",
       "      <td>6.574773</td>\n",
       "      <td>26.196090</td>\n",
       "    </tr>\n",
       "  </tbody>\n",
       "</table>\n",
       "</div>"
      ],
      "text/plain": [
       "   area_code     area  year_code  year  Agri_orientation_index_2015_USD  \\\n",
       "0          1  Armenia       2000  2000                              1.0   \n",
       "1          1  Armenia       2001  2001                              1.0   \n",
       "2          1  Armenia       2002  2002                              1.0   \n",
       "3          1  Armenia       2003  2003                              1.0   \n",
       "4          1  Armenia       2004  2004                              0.0   \n",
       "\n",
       "   credit_to_ag_forest_fish_share_totalCredit  \\\n",
       "0                                   16.170246   \n",
       "1                                   15.957212   \n",
       "2                                   13.038528   \n",
       "3                                   12.554479   \n",
       "4                                    6.574773   \n",
       "\n",
       "   credit_to_ag_forest_fish_2015_USD  \n",
       "0                          36.830029  \n",
       "1                          32.007980  \n",
       "2                          26.333912  \n",
       "3                          26.365699  \n",
       "4                          26.196090  "
      ]
     },
     "execution_count": 44,
     "metadata": {},
     "output_type": "execute_result"
    }
   ],
   "source": [
    "# Renaming the columns\n",
    "cleaned_data = pivoted_data.rename(\n",
    "    columns = {\n",
    "        'Area Code': 'area_code',\n",
    "        'Area': 'area',\n",
    "        'Year Code': 'year_code',\n",
    "        'Year': 'year',\n",
    "        'Value US$, 2015 prices': 'credit_to_ag_forest_fish_2015_USD',\n",
    "        'Share of Total Credit US$, 2015 prices': 'credit_to_ag_forest_fish_share_totalCredit',\n",
    "        'Agriculture orientation index US$, 2015 prices': 'Agri_orientation_index_2015_USD'\n",
    "    }\n",
    ")\n",
    "cleaned_data.head()"
   ]
  },
  {
   "cell_type": "code",
   "execution_count": 45,
   "id": "7489dfa6",
   "metadata": {},
   "outputs": [],
   "source": [
    "# Exporting cleaned data to a csv file \n",
    "cleaned_data.to_csv('cleaned_datasets/credit_to_agri_forestry_fishery_cleaned.csv', index=False, encoding='utf-8')"
   ]
  }
 ],
 "metadata": {
  "kernelspec": {
   "display_name": "py312",
   "language": "python",
   "name": "python3"
  },
  "language_info": {
   "codemirror_mode": {
    "name": "ipython",
    "version": 3
   },
   "file_extension": ".py",
   "mimetype": "text/x-python",
   "name": "python",
   "nbconvert_exporter": "python",
   "pygments_lexer": "ipython3",
   "version": "3.12.5"
  }
 },
 "nbformat": 4,
 "nbformat_minor": 5
}
