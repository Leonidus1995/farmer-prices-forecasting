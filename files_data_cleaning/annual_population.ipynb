{
 "cells": [
  {
   "cell_type": "code",
   "execution_count": null,
   "id": "aa19f7b4",
   "metadata": {},
   "outputs": [],
   "source": [
    "# required packages\n",
    "import pandas as pd\n",
    "import numpy as np"
   ]
  },
  {
   "cell_type": "code",
   "execution_count": 2,
   "id": "76772766",
   "metadata": {},
   "outputs": [
    {
     "data": {
      "text/html": [
       "<div>\n",
       "<style scoped>\n",
       "    .dataframe tbody tr th:only-of-type {\n",
       "        vertical-align: middle;\n",
       "    }\n",
       "\n",
       "    .dataframe tbody tr th {\n",
       "        vertical-align: top;\n",
       "    }\n",
       "\n",
       "    .dataframe thead th {\n",
       "        text-align: right;\n",
       "    }\n",
       "</style>\n",
       "<table border=\"1\" class=\"dataframe\">\n",
       "  <thead>\n",
       "    <tr style=\"text-align: right;\">\n",
       "      <th></th>\n",
       "      <th>Area Code</th>\n",
       "      <th>Area Code (M49)</th>\n",
       "      <th>Area</th>\n",
       "      <th>Item Code</th>\n",
       "      <th>Item</th>\n",
       "      <th>Element Code</th>\n",
       "      <th>Element</th>\n",
       "      <th>Year Code</th>\n",
       "      <th>Year</th>\n",
       "      <th>Unit</th>\n",
       "      <th>Value</th>\n",
       "      <th>Flag</th>\n",
       "      <th>Note</th>\n",
       "    </tr>\n",
       "  </thead>\n",
       "  <tbody>\n",
       "    <tr>\n",
       "      <th>0</th>\n",
       "      <td>2</td>\n",
       "      <td>'004</td>\n",
       "      <td>Afghanistan</td>\n",
       "      <td>3010</td>\n",
       "      <td>Population - Est. &amp; Proj.</td>\n",
       "      <td>511</td>\n",
       "      <td>Total Population - Both sexes</td>\n",
       "      <td>1950</td>\n",
       "      <td>1950</td>\n",
       "      <td>1000 No</td>\n",
       "      <td>7776.176</td>\n",
       "      <td>X</td>\n",
       "      <td>NaN</td>\n",
       "    </tr>\n",
       "    <tr>\n",
       "      <th>1</th>\n",
       "      <td>2</td>\n",
       "      <td>'004</td>\n",
       "      <td>Afghanistan</td>\n",
       "      <td>3010</td>\n",
       "      <td>Population - Est. &amp; Proj.</td>\n",
       "      <td>511</td>\n",
       "      <td>Total Population - Both sexes</td>\n",
       "      <td>1951</td>\n",
       "      <td>1951</td>\n",
       "      <td>1000 No</td>\n",
       "      <td>7879.339</td>\n",
       "      <td>X</td>\n",
       "      <td>NaN</td>\n",
       "    </tr>\n",
       "    <tr>\n",
       "      <th>2</th>\n",
       "      <td>2</td>\n",
       "      <td>'004</td>\n",
       "      <td>Afghanistan</td>\n",
       "      <td>3010</td>\n",
       "      <td>Population - Est. &amp; Proj.</td>\n",
       "      <td>511</td>\n",
       "      <td>Total Population - Both sexes</td>\n",
       "      <td>1952</td>\n",
       "      <td>1952</td>\n",
       "      <td>1000 No</td>\n",
       "      <td>7987.783</td>\n",
       "      <td>X</td>\n",
       "      <td>NaN</td>\n",
       "    </tr>\n",
       "    <tr>\n",
       "      <th>3</th>\n",
       "      <td>2</td>\n",
       "      <td>'004</td>\n",
       "      <td>Afghanistan</td>\n",
       "      <td>3010</td>\n",
       "      <td>Population - Est. &amp; Proj.</td>\n",
       "      <td>511</td>\n",
       "      <td>Total Population - Both sexes</td>\n",
       "      <td>1953</td>\n",
       "      <td>1953</td>\n",
       "      <td>1000 No</td>\n",
       "      <td>8096.698</td>\n",
       "      <td>X</td>\n",
       "      <td>NaN</td>\n",
       "    </tr>\n",
       "    <tr>\n",
       "      <th>4</th>\n",
       "      <td>2</td>\n",
       "      <td>'004</td>\n",
       "      <td>Afghanistan</td>\n",
       "      <td>3010</td>\n",
       "      <td>Population - Est. &amp; Proj.</td>\n",
       "      <td>511</td>\n",
       "      <td>Total Population - Both sexes</td>\n",
       "      <td>1954</td>\n",
       "      <td>1954</td>\n",
       "      <td>1000 No</td>\n",
       "      <td>8207.950</td>\n",
       "      <td>X</td>\n",
       "      <td>NaN</td>\n",
       "    </tr>\n",
       "  </tbody>\n",
       "</table>\n",
       "</div>"
      ],
      "text/plain": [
       "   Area Code Area Code (M49)         Area  Item Code  \\\n",
       "0          2            '004  Afghanistan       3010   \n",
       "1          2            '004  Afghanistan       3010   \n",
       "2          2            '004  Afghanistan       3010   \n",
       "3          2            '004  Afghanistan       3010   \n",
       "4          2            '004  Afghanistan       3010   \n",
       "\n",
       "                        Item  Element Code                        Element  \\\n",
       "0  Population - Est. & Proj.           511  Total Population - Both sexes   \n",
       "1  Population - Est. & Proj.           511  Total Population - Both sexes   \n",
       "2  Population - Est. & Proj.           511  Total Population - Both sexes   \n",
       "3  Population - Est. & Proj.           511  Total Population - Both sexes   \n",
       "4  Population - Est. & Proj.           511  Total Population - Both sexes   \n",
       "\n",
       "   Year Code  Year     Unit     Value Flag  Note  \n",
       "0       1950  1950  1000 No  7776.176    X   NaN  \n",
       "1       1951  1951  1000 No  7879.339    X   NaN  \n",
       "2       1952  1952  1000 No  7987.783    X   NaN  \n",
       "3       1953  1953  1000 No  8096.698    X   NaN  \n",
       "4       1954  1954  1000 No  8207.950    X   NaN  "
      ]
     },
     "execution_count": 2,
     "metadata": {},
     "output_type": "execute_result"
    }
   ],
   "source": [
    "# Loading data\n",
    "raw_data = pd.read_csv('Datasets_MS_Project/Annual_population/Population_E_All_Data_(Normalized)/Population_E_All_Data_(Normalized).csv')\n",
    "raw_data.head()"
   ]
  },
  {
   "cell_type": "code",
   "execution_count": 3,
   "id": "2cb77a76",
   "metadata": {},
   "outputs": [
    {
     "data": {
      "text/plain": [
       "(168689, 13)"
      ]
     },
     "execution_count": 3,
     "metadata": {},
     "output_type": "execute_result"
    }
   ],
   "source": [
    "raw_data.shape"
   ]
  },
  {
   "cell_type": "code",
   "execution_count": 4,
   "id": "09e51f9f",
   "metadata": {},
   "outputs": [
    {
     "data": {
      "text/plain": [
       "array(['Population - Est. & Proj.'], dtype=object)"
      ]
     },
     "execution_count": 4,
     "metadata": {},
     "output_type": "execute_result"
    }
   ],
   "source": [
    "raw_data['Item'].unique()"
   ]
  },
  {
   "cell_type": "code",
   "execution_count": 5,
   "id": "88fd74a8",
   "metadata": {},
   "outputs": [
    {
     "data": {
      "text/plain": [
       "array(['Total Population - Both sexes', 'Total Population - Male',\n",
       "       'Total Population - Female', 'Rural population',\n",
       "       'Urban population'], dtype=object)"
      ]
     },
     "execution_count": 5,
     "metadata": {},
     "output_type": "execute_result"
    }
   ],
   "source": [
    "raw_data['Element'].unique()"
   ]
  },
  {
   "cell_type": "markdown",
   "id": "2a39ade5",
   "metadata": {},
   "source": [
    "This dataset regarding annual population is simple. There is just one item and \n",
    "five elements. Out of the five elements, we would filter the data for three- \n",
    "total population, rural population, and urban population. For the kind of analysis \n",
    "we are doing, we don't need to go into details like male and female populations \n",
    "separately."
   ]
  },
  {
   "cell_type": "code",
   "execution_count": 6,
   "id": "deae758d",
   "metadata": {},
   "outputs": [
    {
     "data": {
      "text/html": [
       "<div>\n",
       "<style scoped>\n",
       "    .dataframe tbody tr th:only-of-type {\n",
       "        vertical-align: middle;\n",
       "    }\n",
       "\n",
       "    .dataframe tbody tr th {\n",
       "        vertical-align: top;\n",
       "    }\n",
       "\n",
       "    .dataframe thead th {\n",
       "        text-align: right;\n",
       "    }\n",
       "</style>\n",
       "<table border=\"1\" class=\"dataframe\">\n",
       "  <thead>\n",
       "    <tr style=\"text-align: right;\">\n",
       "      <th></th>\n",
       "      <th>Area Code</th>\n",
       "      <th>Area Code (M49)</th>\n",
       "      <th>Area</th>\n",
       "      <th>Item Code</th>\n",
       "      <th>Item</th>\n",
       "      <th>Element Code</th>\n",
       "      <th>Element</th>\n",
       "      <th>Year Code</th>\n",
       "      <th>Year</th>\n",
       "      <th>Unit</th>\n",
       "      <th>Value</th>\n",
       "      <th>Flag</th>\n",
       "      <th>Note</th>\n",
       "    </tr>\n",
       "  </thead>\n",
       "  <tbody>\n",
       "    <tr>\n",
       "      <th>0</th>\n",
       "      <td>2</td>\n",
       "      <td>'004</td>\n",
       "      <td>Afghanistan</td>\n",
       "      <td>3010</td>\n",
       "      <td>Population - Est. &amp; Proj.</td>\n",
       "      <td>511</td>\n",
       "      <td>Total Population - Both sexes</td>\n",
       "      <td>1950</td>\n",
       "      <td>1950</td>\n",
       "      <td>1000 No</td>\n",
       "      <td>7776.176</td>\n",
       "      <td>X</td>\n",
       "      <td>NaN</td>\n",
       "    </tr>\n",
       "    <tr>\n",
       "      <th>1</th>\n",
       "      <td>2</td>\n",
       "      <td>'004</td>\n",
       "      <td>Afghanistan</td>\n",
       "      <td>3010</td>\n",
       "      <td>Population - Est. &amp; Proj.</td>\n",
       "      <td>511</td>\n",
       "      <td>Total Population - Both sexes</td>\n",
       "      <td>1951</td>\n",
       "      <td>1951</td>\n",
       "      <td>1000 No</td>\n",
       "      <td>7879.339</td>\n",
       "      <td>X</td>\n",
       "      <td>NaN</td>\n",
       "    </tr>\n",
       "    <tr>\n",
       "      <th>2</th>\n",
       "      <td>2</td>\n",
       "      <td>'004</td>\n",
       "      <td>Afghanistan</td>\n",
       "      <td>3010</td>\n",
       "      <td>Population - Est. &amp; Proj.</td>\n",
       "      <td>511</td>\n",
       "      <td>Total Population - Both sexes</td>\n",
       "      <td>1952</td>\n",
       "      <td>1952</td>\n",
       "      <td>1000 No</td>\n",
       "      <td>7987.783</td>\n",
       "      <td>X</td>\n",
       "      <td>NaN</td>\n",
       "    </tr>\n",
       "    <tr>\n",
       "      <th>3</th>\n",
       "      <td>2</td>\n",
       "      <td>'004</td>\n",
       "      <td>Afghanistan</td>\n",
       "      <td>3010</td>\n",
       "      <td>Population - Est. &amp; Proj.</td>\n",
       "      <td>511</td>\n",
       "      <td>Total Population - Both sexes</td>\n",
       "      <td>1953</td>\n",
       "      <td>1953</td>\n",
       "      <td>1000 No</td>\n",
       "      <td>8096.698</td>\n",
       "      <td>X</td>\n",
       "      <td>NaN</td>\n",
       "    </tr>\n",
       "    <tr>\n",
       "      <th>4</th>\n",
       "      <td>2</td>\n",
       "      <td>'004</td>\n",
       "      <td>Afghanistan</td>\n",
       "      <td>3010</td>\n",
       "      <td>Population - Est. &amp; Proj.</td>\n",
       "      <td>511</td>\n",
       "      <td>Total Population - Both sexes</td>\n",
       "      <td>1954</td>\n",
       "      <td>1954</td>\n",
       "      <td>1000 No</td>\n",
       "      <td>8207.950</td>\n",
       "      <td>X</td>\n",
       "      <td>NaN</td>\n",
       "    </tr>\n",
       "  </tbody>\n",
       "</table>\n",
       "</div>"
      ],
      "text/plain": [
       "   Area Code Area Code (M49)         Area  Item Code  \\\n",
       "0          2            '004  Afghanistan       3010   \n",
       "1          2            '004  Afghanistan       3010   \n",
       "2          2            '004  Afghanistan       3010   \n",
       "3          2            '004  Afghanistan       3010   \n",
       "4          2            '004  Afghanistan       3010   \n",
       "\n",
       "                        Item  Element Code                        Element  \\\n",
       "0  Population - Est. & Proj.           511  Total Population - Both sexes   \n",
       "1  Population - Est. & Proj.           511  Total Population - Both sexes   \n",
       "2  Population - Est. & Proj.           511  Total Population - Both sexes   \n",
       "3  Population - Est. & Proj.           511  Total Population - Both sexes   \n",
       "4  Population - Est. & Proj.           511  Total Population - Both sexes   \n",
       "\n",
       "   Year Code  Year     Unit     Value Flag  Note  \n",
       "0       1950  1950  1000 No  7776.176    X   NaN  \n",
       "1       1951  1951  1000 No  7879.339    X   NaN  \n",
       "2       1952  1952  1000 No  7987.783    X   NaN  \n",
       "3       1953  1953  1000 No  8096.698    X   NaN  \n",
       "4       1954  1954  1000 No  8207.950    X   NaN  "
      ]
     },
     "execution_count": 6,
     "metadata": {},
     "output_type": "execute_result"
    }
   ],
   "source": [
    "elements_to_keep = ['Total Population - Both sexes', 'Rural population',\n",
    "       'Urban population']\n",
    "filtered_data = raw_data.loc[raw_data['Element'].isin(elements_to_keep)]\n",
    "filtered_data.head()"
   ]
  },
  {
   "cell_type": "code",
   "execution_count": 8,
   "id": "0c388858",
   "metadata": {},
   "outputs": [
    {
     "data": {
      "text/plain": [
       "array(['Total Population - Both sexes', 'Rural population',\n",
       "       'Urban population'], dtype=object)"
      ]
     },
     "execution_count": 8,
     "metadata": {},
     "output_type": "execute_result"
    }
   ],
   "source": [
    "filtered_data['Element'].unique()"
   ]
  },
  {
   "cell_type": "code",
   "execution_count": 9,
   "id": "9a4a40c9",
   "metadata": {},
   "outputs": [
    {
     "data": {
      "text/plain": [
       "Element\n",
       "Total Population - Both sexes    39049\n",
       "Rural population                 25771\n",
       "Urban population                 25771\n",
       "Name: count, dtype: int64"
      ]
     },
     "execution_count": 9,
     "metadata": {},
     "output_type": "execute_result"
    }
   ],
   "source": [
    "filtered_data['Element'].value_counts()"
   ]
  },
  {
   "cell_type": "code",
   "execution_count": 11,
   "id": "27895de7",
   "metadata": {},
   "outputs": [
    {
     "data": {
      "text/plain": [
       "array(['1000 No'], dtype=object)"
      ]
     },
     "execution_count": 11,
     "metadata": {},
     "output_type": "execute_result"
    }
   ],
   "source": [
    "filtered_data['Unit'].unique()"
   ]
  },
  {
   "cell_type": "code",
   "execution_count": null,
   "id": "83422981",
   "metadata": {},
   "outputs": [
    {
     "data": {
      "text/html": [
       "<div>\n",
       "<style scoped>\n",
       "    .dataframe tbody tr th:only-of-type {\n",
       "        vertical-align: middle;\n",
       "    }\n",
       "\n",
       "    .dataframe tbody tr th {\n",
       "        vertical-align: top;\n",
       "    }\n",
       "\n",
       "    .dataframe thead th {\n",
       "        text-align: right;\n",
       "    }\n",
       "</style>\n",
       "<table border=\"1\" class=\"dataframe\">\n",
       "  <thead>\n",
       "    <tr style=\"text-align: right;\">\n",
       "      <th></th>\n",
       "      <th>Area Code</th>\n",
       "      <th>Area</th>\n",
       "      <th>Year Code</th>\n",
       "      <th>Year</th>\n",
       "      <th>Rural population</th>\n",
       "      <th>Total Population - Both sexes</th>\n",
       "      <th>Urban population</th>\n",
       "    </tr>\n",
       "  </thead>\n",
       "  <tbody>\n",
       "    <tr>\n",
       "      <th>0</th>\n",
       "      <td>1</td>\n",
       "      <td>Armenia</td>\n",
       "      <td>1992</td>\n",
       "      <td>1992</td>\n",
       "      <td>1140.314</td>\n",
       "      <td>3571.861</td>\n",
       "      <td>2302.496</td>\n",
       "    </tr>\n",
       "    <tr>\n",
       "      <th>1</th>\n",
       "      <td>1</td>\n",
       "      <td>Armenia</td>\n",
       "      <td>1993</td>\n",
       "      <td>1993</td>\n",
       "      <td>1123.071</td>\n",
       "      <td>3453.332</td>\n",
       "      <td>2240.027</td>\n",
       "    </tr>\n",
       "    <tr>\n",
       "      <th>2</th>\n",
       "      <td>1</td>\n",
       "      <td>Armenia</td>\n",
       "      <td>1994</td>\n",
       "      <td>1994</td>\n",
       "      <td>1105.535</td>\n",
       "      <td>3364.610</td>\n",
       "      <td>2178.125</td>\n",
       "    </tr>\n",
       "    <tr>\n",
       "      <th>3</th>\n",
       "      <td>1</td>\n",
       "      <td>Armenia</td>\n",
       "      <td>1995</td>\n",
       "      <td>1995</td>\n",
       "      <td>1092.052</td>\n",
       "      <td>3307.581</td>\n",
       "      <td>2125.290</td>\n",
       "    </tr>\n",
       "    <tr>\n",
       "      <th>4</th>\n",
       "      <td>1</td>\n",
       "      <td>Armenia</td>\n",
       "      <td>1996</td>\n",
       "      <td>1996</td>\n",
       "      <td>1084.134</td>\n",
       "      <td>3278.735</td>\n",
       "      <td>2084.081</td>\n",
       "    </tr>\n",
       "  </tbody>\n",
       "</table>\n",
       "</div>"
      ],
      "text/plain": [
       "   Area Code     Area  Year Code  Year  Rural population  \\\n",
       "0          1  Armenia       1992  1992          1140.314   \n",
       "1          1  Armenia       1993  1993          1123.071   \n",
       "2          1  Armenia       1994  1994          1105.535   \n",
       "3          1  Armenia       1995  1995          1092.052   \n",
       "4          1  Armenia       1996  1996          1084.134   \n",
       "\n",
       "   Total Population - Both sexes  Urban population  \n",
       "0                       3571.861          2302.496  \n",
       "1                       3453.332          2240.027  \n",
       "2                       3364.610          2178.125  \n",
       "3                       3307.581          2125.290  \n",
       "4                       3278.735          2084.081  "
      ]
     },
     "execution_count": 10,
     "metadata": {},
     "output_type": "execute_result"
    }
   ],
   "source": [
    "# restructuring data from long-format to wide-format\n",
    "pivoted_data = filtered_data.pivot_table(\n",
    "    index = ['Area Code', 'Area', 'Year Code', 'Year'],\n",
    "    columns = 'Element',\n",
    "    values = 'Value'\n",
    ")\n",
    "\n",
    "# resetting row index\n",
    "pivoted_data.reset_index(inplace=True)\n",
    "\n",
    "# setting column index name to None\n",
    "pivoted_data.columns.name = None\n",
    "\n",
    "pivoted_data.head()"
   ]
  },
  {
   "cell_type": "code",
   "execution_count": 12,
   "id": "10ef2cd5",
   "metadata": {},
   "outputs": [
    {
     "name": "stdout",
     "output_type": "stream",
     "text": [
      "<class 'pandas.core.frame.DataFrame'>\n",
      "RangeIndex: 39251 entries, 0 to 39250\n",
      "Data columns (total 7 columns):\n",
      " #   Column                         Non-Null Count  Dtype  \n",
      "---  ------                         --------------  -----  \n",
      " 0   Area Code                      39251 non-null  int64  \n",
      " 1   Area                           39251 non-null  object \n",
      " 2   Year Code                      39251 non-null  int64  \n",
      " 3   Year                           39251 non-null  int64  \n",
      " 4   Rural population               25771 non-null  float64\n",
      " 5   Total Population - Both sexes  39049 non-null  float64\n",
      " 6   Urban population               25771 non-null  float64\n",
      "dtypes: float64(3), int64(3), object(1)\n",
      "memory usage: 2.1+ MB\n"
     ]
    }
   ],
   "source": [
    "pivoted_data.info()"
   ]
  },
  {
   "cell_type": "code",
   "execution_count": 14,
   "id": "36941327",
   "metadata": {},
   "outputs": [
    {
     "data": {
      "text/html": [
       "<div>\n",
       "<style scoped>\n",
       "    .dataframe tbody tr th:only-of-type {\n",
       "        vertical-align: middle;\n",
       "    }\n",
       "\n",
       "    .dataframe tbody tr th {\n",
       "        vertical-align: top;\n",
       "    }\n",
       "\n",
       "    .dataframe thead th {\n",
       "        text-align: right;\n",
       "    }\n",
       "</style>\n",
       "<table border=\"1\" class=\"dataframe\">\n",
       "  <thead>\n",
       "    <tr style=\"text-align: right;\">\n",
       "      <th></th>\n",
       "      <th>area_code</th>\n",
       "      <th>area</th>\n",
       "      <th>year_code</th>\n",
       "      <th>year</th>\n",
       "      <th>rural_population</th>\n",
       "      <th>total_population</th>\n",
       "      <th>urban_population</th>\n",
       "    </tr>\n",
       "  </thead>\n",
       "  <tbody>\n",
       "    <tr>\n",
       "      <th>0</th>\n",
       "      <td>1</td>\n",
       "      <td>Armenia</td>\n",
       "      <td>1992</td>\n",
       "      <td>1992</td>\n",
       "      <td>1140.314</td>\n",
       "      <td>3571.861</td>\n",
       "      <td>2302.496</td>\n",
       "    </tr>\n",
       "    <tr>\n",
       "      <th>1</th>\n",
       "      <td>1</td>\n",
       "      <td>Armenia</td>\n",
       "      <td>1993</td>\n",
       "      <td>1993</td>\n",
       "      <td>1123.071</td>\n",
       "      <td>3453.332</td>\n",
       "      <td>2240.027</td>\n",
       "    </tr>\n",
       "    <tr>\n",
       "      <th>2</th>\n",
       "      <td>1</td>\n",
       "      <td>Armenia</td>\n",
       "      <td>1994</td>\n",
       "      <td>1994</td>\n",
       "      <td>1105.535</td>\n",
       "      <td>3364.610</td>\n",
       "      <td>2178.125</td>\n",
       "    </tr>\n",
       "    <tr>\n",
       "      <th>3</th>\n",
       "      <td>1</td>\n",
       "      <td>Armenia</td>\n",
       "      <td>1995</td>\n",
       "      <td>1995</td>\n",
       "      <td>1092.052</td>\n",
       "      <td>3307.581</td>\n",
       "      <td>2125.290</td>\n",
       "    </tr>\n",
       "    <tr>\n",
       "      <th>4</th>\n",
       "      <td>1</td>\n",
       "      <td>Armenia</td>\n",
       "      <td>1996</td>\n",
       "      <td>1996</td>\n",
       "      <td>1084.134</td>\n",
       "      <td>3278.735</td>\n",
       "      <td>2084.081</td>\n",
       "    </tr>\n",
       "  </tbody>\n",
       "</table>\n",
       "</div>"
      ],
      "text/plain": [
       "   area_code     area  year_code  year  rural_population  total_population  \\\n",
       "0          1  Armenia       1992  1992          1140.314          3571.861   \n",
       "1          1  Armenia       1993  1993          1123.071          3453.332   \n",
       "2          1  Armenia       1994  1994          1105.535          3364.610   \n",
       "3          1  Armenia       1995  1995          1092.052          3307.581   \n",
       "4          1  Armenia       1996  1996          1084.134          3278.735   \n",
       "\n",
       "   urban_population  \n",
       "0          2302.496  \n",
       "1          2240.027  \n",
       "2          2178.125  \n",
       "3          2125.290  \n",
       "4          2084.081  "
      ]
     },
     "execution_count": 14,
     "metadata": {},
     "output_type": "execute_result"
    }
   ],
   "source": [
    "# renaming columns\n",
    "cleaned_data = pivoted_data.rename(\n",
    "    columns = {\n",
    "        'Area Code': 'area_code',\n",
    "        'Area': 'area',\n",
    "        'Year Code': 'year_code',\n",
    "        'Year': 'year',\n",
    "        'Rural population': 'rural_population',\n",
    "        'Total Population - Both sexes': 'total_population',\n",
    "        'Urban population': 'urban_population'\n",
    "    }\n",
    ")\n",
    "cleaned_data.head()"
   ]
  },
  {
   "cell_type": "code",
   "execution_count": 16,
   "id": "5598afe7",
   "metadata": {},
   "outputs": [],
   "source": [
    "# exporting cleaned data as csv file\n",
    "cleaned_data.to_csv('cleaned_datasets/annual_population_cleaned.csv', index='False')"
   ]
  }
 ],
 "metadata": {
  "kernelspec": {
   "display_name": "py312",
   "language": "python",
   "name": "python3"
  },
  "language_info": {
   "codemirror_mode": {
    "name": "ipython",
    "version": 3
   },
   "file_extension": ".py",
   "mimetype": "text/x-python",
   "name": "python",
   "nbconvert_exporter": "python",
   "pygments_lexer": "ipython3",
   "version": "3.12.5"
  }
 },
 "nbformat": 4,
 "nbformat_minor": 5
}
