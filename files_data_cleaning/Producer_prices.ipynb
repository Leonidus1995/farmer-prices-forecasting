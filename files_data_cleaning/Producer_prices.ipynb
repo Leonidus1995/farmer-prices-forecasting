{
 "cells": [
  {
   "cell_type": "code",
   "execution_count": 1,
   "metadata": {},
   "outputs": [],
   "source": [
    "import pandas as pd\n",
    "import numpy as np"
   ]
  },
  {
   "cell_type": "code",
   "execution_count": 6,
   "metadata": {},
   "outputs": [
    {
     "data": {
      "text/html": [
       "<div>\n",
       "<style scoped>\n",
       "    .dataframe tbody tr th:only-of-type {\n",
       "        vertical-align: middle;\n",
       "    }\n",
       "\n",
       "    .dataframe tbody tr th {\n",
       "        vertical-align: top;\n",
       "    }\n",
       "\n",
       "    .dataframe thead th {\n",
       "        text-align: right;\n",
       "    }\n",
       "</style>\n",
       "<table border=\"1\" class=\"dataframe\">\n",
       "  <thead>\n",
       "    <tr style=\"text-align: right;\">\n",
       "      <th></th>\n",
       "      <th>Area Code</th>\n",
       "      <th>Area Code (M49)</th>\n",
       "      <th>Area</th>\n",
       "      <th>Item Code</th>\n",
       "      <th>Item Code (CPC)</th>\n",
       "      <th>Item</th>\n",
       "      <th>Element Code</th>\n",
       "      <th>Element</th>\n",
       "      <th>Year Code</th>\n",
       "      <th>Year</th>\n",
       "      <th>Months Code</th>\n",
       "      <th>Months</th>\n",
       "      <th>Unit</th>\n",
       "      <th>Value</th>\n",
       "      <th>Flag</th>\n",
       "    </tr>\n",
       "  </thead>\n",
       "  <tbody>\n",
       "    <tr>\n",
       "      <th>0</th>\n",
       "      <td>2</td>\n",
       "      <td>'004</td>\n",
       "      <td>Afghanistan</td>\n",
       "      <td>221</td>\n",
       "      <td>'01371</td>\n",
       "      <td>Almonds, in shell</td>\n",
       "      <td>5530</td>\n",
       "      <td>Producer Price (LCU/tonne)</td>\n",
       "      <td>1993</td>\n",
       "      <td>1993</td>\n",
       "      <td>7021</td>\n",
       "      <td>Annual value</td>\n",
       "      <td>LCU</td>\n",
       "      <td>46000.0</td>\n",
       "      <td>A</td>\n",
       "    </tr>\n",
       "    <tr>\n",
       "      <th>1</th>\n",
       "      <td>2</td>\n",
       "      <td>'004</td>\n",
       "      <td>Afghanistan</td>\n",
       "      <td>221</td>\n",
       "      <td>'01371</td>\n",
       "      <td>Almonds, in shell</td>\n",
       "      <td>5530</td>\n",
       "      <td>Producer Price (LCU/tonne)</td>\n",
       "      <td>1994</td>\n",
       "      <td>1994</td>\n",
       "      <td>7021</td>\n",
       "      <td>Annual value</td>\n",
       "      <td>LCU</td>\n",
       "      <td>50000.0</td>\n",
       "      <td>A</td>\n",
       "    </tr>\n",
       "    <tr>\n",
       "      <th>2</th>\n",
       "      <td>2</td>\n",
       "      <td>'004</td>\n",
       "      <td>Afghanistan</td>\n",
       "      <td>221</td>\n",
       "      <td>'01371</td>\n",
       "      <td>Almonds, in shell</td>\n",
       "      <td>5530</td>\n",
       "      <td>Producer Price (LCU/tonne)</td>\n",
       "      <td>1995</td>\n",
       "      <td>1995</td>\n",
       "      <td>7021</td>\n",
       "      <td>Annual value</td>\n",
       "      <td>LCU</td>\n",
       "      <td>62000.0</td>\n",
       "      <td>A</td>\n",
       "    </tr>\n",
       "    <tr>\n",
       "      <th>3</th>\n",
       "      <td>2</td>\n",
       "      <td>'004</td>\n",
       "      <td>Afghanistan</td>\n",
       "      <td>221</td>\n",
       "      <td>'01371</td>\n",
       "      <td>Almonds, in shell</td>\n",
       "      <td>5530</td>\n",
       "      <td>Producer Price (LCU/tonne)</td>\n",
       "      <td>1996</td>\n",
       "      <td>1996</td>\n",
       "      <td>7021</td>\n",
       "      <td>Annual value</td>\n",
       "      <td>LCU</td>\n",
       "      <td>50000.0</td>\n",
       "      <td>A</td>\n",
       "    </tr>\n",
       "    <tr>\n",
       "      <th>4</th>\n",
       "      <td>2</td>\n",
       "      <td>'004</td>\n",
       "      <td>Afghanistan</td>\n",
       "      <td>221</td>\n",
       "      <td>'01371</td>\n",
       "      <td>Almonds, in shell</td>\n",
       "      <td>5530</td>\n",
       "      <td>Producer Price (LCU/tonne)</td>\n",
       "      <td>1997</td>\n",
       "      <td>1997</td>\n",
       "      <td>7021</td>\n",
       "      <td>Annual value</td>\n",
       "      <td>LCU</td>\n",
       "      <td>41000.0</td>\n",
       "      <td>A</td>\n",
       "    </tr>\n",
       "  </tbody>\n",
       "</table>\n",
       "</div>"
      ],
      "text/plain": [
       "   Area Code Area Code (M49)         Area  Item Code Item Code (CPC)  \\\n",
       "0          2            '004  Afghanistan        221          '01371   \n",
       "1          2            '004  Afghanistan        221          '01371   \n",
       "2          2            '004  Afghanistan        221          '01371   \n",
       "3          2            '004  Afghanistan        221          '01371   \n",
       "4          2            '004  Afghanistan        221          '01371   \n",
       "\n",
       "                Item  Element Code                     Element  Year Code  \\\n",
       "0  Almonds, in shell          5530  Producer Price (LCU/tonne)       1993   \n",
       "1  Almonds, in shell          5530  Producer Price (LCU/tonne)       1994   \n",
       "2  Almonds, in shell          5530  Producer Price (LCU/tonne)       1995   \n",
       "3  Almonds, in shell          5530  Producer Price (LCU/tonne)       1996   \n",
       "4  Almonds, in shell          5530  Producer Price (LCU/tonne)       1997   \n",
       "\n",
       "   Year  Months Code        Months Unit    Value Flag  \n",
       "0  1993         7021  Annual value  LCU  46000.0    A  \n",
       "1  1994         7021  Annual value  LCU  50000.0    A  \n",
       "2  1995         7021  Annual value  LCU  62000.0    A  \n",
       "3  1996         7021  Annual value  LCU  50000.0    A  \n",
       "4  1997         7021  Annual value  LCU  41000.0    A  "
      ]
     },
     "execution_count": 6,
     "metadata": {},
     "output_type": "execute_result"
    }
   ],
   "source": [
    "# Loading raw data \n",
    "raw_data = pd.read_csv(\"/Users/gurjitsingh/Desktop/MS Data Science/MS_Project_Python/raw_datasets/Producer_prices/Prices_E_All_Data_(Normalized)/Prices_E_All_Data_(Normalized).csv\")\n",
    "raw_data.head()"
   ]
  },
  {
   "cell_type": "code",
   "execution_count": 7,
   "metadata": {},
   "outputs": [
    {
     "data": {
      "text/plain": [
       "(1261761, 15)"
      ]
     },
     "execution_count": 7,
     "metadata": {},
     "output_type": "execute_result"
    }
   ],
   "source": [
    "raw_data.shape"
   ]
  },
  {
   "cell_type": "code",
   "execution_count": 8,
   "metadata": {},
   "outputs": [
    {
     "name": "stdout",
     "output_type": "stream",
     "text": [
      "<class 'pandas.core.frame.DataFrame'>\n",
      "RangeIndex: 1261761 entries, 0 to 1261760\n",
      "Data columns (total 15 columns):\n",
      " #   Column           Non-Null Count    Dtype  \n",
      "---  ------           --------------    -----  \n",
      " 0   Area Code        1261761 non-null  int64  \n",
      " 1   Area Code (M49)  1261761 non-null  object \n",
      " 2   Area             1261761 non-null  object \n",
      " 3   Item Code        1261761 non-null  int64  \n",
      " 4   Item Code (CPC)  1261761 non-null  object \n",
      " 5   Item             1261761 non-null  object \n",
      " 6   Element Code     1261761 non-null  int64  \n",
      " 7   Element          1261761 non-null  object \n",
      " 8   Year Code        1261761 non-null  int64  \n",
      " 9   Year             1261761 non-null  int64  \n",
      " 10  Months Code      1261761 non-null  int64  \n",
      " 11  Months           1261761 non-null  object \n",
      " 12  Unit             841850 non-null   object \n",
      " 13  Value            1261761 non-null  float64\n",
      " 14  Flag             1261761 non-null  object \n",
      "dtypes: float64(1), int64(6), object(8)\n",
      "memory usage: 144.4+ MB\n"
     ]
    }
   ],
   "source": [
    "raw_data.info()"
   ]
  },
  {
   "cell_type": "code",
   "execution_count": 9,
   "metadata": {},
   "outputs": [
    {
     "data": {
      "text/plain": [
       "Index(['Area Code', 'Area Code (M49)', 'Area', 'Item Code', 'Item Code (CPC)',\n",
       "       'Item', 'Element Code', 'Element', 'Year Code', 'Year', 'Months Code',\n",
       "       'Months', 'Unit', 'Value', 'Flag'],\n",
       "      dtype='object')"
      ]
     },
     "execution_count": 9,
     "metadata": {},
     "output_type": "execute_result"
    }
   ],
   "source": [
    "raw_data.columns"
   ]
  },
  {
   "cell_type": "code",
   "execution_count": 10,
   "metadata": {},
   "outputs": [
    {
     "data": {
      "text/html": [
       "<div>\n",
       "<style scoped>\n",
       "    .dataframe tbody tr th:only-of-type {\n",
       "        vertical-align: middle;\n",
       "    }\n",
       "\n",
       "    .dataframe tbody tr th {\n",
       "        vertical-align: top;\n",
       "    }\n",
       "\n",
       "    .dataframe thead th {\n",
       "        text-align: right;\n",
       "    }\n",
       "</style>\n",
       "<table border=\"1\" class=\"dataframe\">\n",
       "  <thead>\n",
       "    <tr style=\"text-align: right;\">\n",
       "      <th></th>\n",
       "      <th>Area Code</th>\n",
       "      <th>Area</th>\n",
       "      <th>Item Code</th>\n",
       "      <th>Item</th>\n",
       "      <th>Element</th>\n",
       "      <th>Year Code</th>\n",
       "      <th>Year</th>\n",
       "      <th>Months Code</th>\n",
       "      <th>Months</th>\n",
       "      <th>Unit</th>\n",
       "      <th>Value</th>\n",
       "      <th>Flag</th>\n",
       "    </tr>\n",
       "  </thead>\n",
       "  <tbody>\n",
       "    <tr>\n",
       "      <th>0</th>\n",
       "      <td>2</td>\n",
       "      <td>Afghanistan</td>\n",
       "      <td>221</td>\n",
       "      <td>Almonds, in shell</td>\n",
       "      <td>Producer Price (LCU/tonne)</td>\n",
       "      <td>1993</td>\n",
       "      <td>1993</td>\n",
       "      <td>7021</td>\n",
       "      <td>Annual value</td>\n",
       "      <td>LCU</td>\n",
       "      <td>46000.0</td>\n",
       "      <td>A</td>\n",
       "    </tr>\n",
       "    <tr>\n",
       "      <th>1</th>\n",
       "      <td>2</td>\n",
       "      <td>Afghanistan</td>\n",
       "      <td>221</td>\n",
       "      <td>Almonds, in shell</td>\n",
       "      <td>Producer Price (LCU/tonne)</td>\n",
       "      <td>1994</td>\n",
       "      <td>1994</td>\n",
       "      <td>7021</td>\n",
       "      <td>Annual value</td>\n",
       "      <td>LCU</td>\n",
       "      <td>50000.0</td>\n",
       "      <td>A</td>\n",
       "    </tr>\n",
       "    <tr>\n",
       "      <th>2</th>\n",
       "      <td>2</td>\n",
       "      <td>Afghanistan</td>\n",
       "      <td>221</td>\n",
       "      <td>Almonds, in shell</td>\n",
       "      <td>Producer Price (LCU/tonne)</td>\n",
       "      <td>1995</td>\n",
       "      <td>1995</td>\n",
       "      <td>7021</td>\n",
       "      <td>Annual value</td>\n",
       "      <td>LCU</td>\n",
       "      <td>62000.0</td>\n",
       "      <td>A</td>\n",
       "    </tr>\n",
       "    <tr>\n",
       "      <th>3</th>\n",
       "      <td>2</td>\n",
       "      <td>Afghanistan</td>\n",
       "      <td>221</td>\n",
       "      <td>Almonds, in shell</td>\n",
       "      <td>Producer Price (LCU/tonne)</td>\n",
       "      <td>1996</td>\n",
       "      <td>1996</td>\n",
       "      <td>7021</td>\n",
       "      <td>Annual value</td>\n",
       "      <td>LCU</td>\n",
       "      <td>50000.0</td>\n",
       "      <td>A</td>\n",
       "    </tr>\n",
       "    <tr>\n",
       "      <th>4</th>\n",
       "      <td>2</td>\n",
       "      <td>Afghanistan</td>\n",
       "      <td>221</td>\n",
       "      <td>Almonds, in shell</td>\n",
       "      <td>Producer Price (LCU/tonne)</td>\n",
       "      <td>1997</td>\n",
       "      <td>1997</td>\n",
       "      <td>7021</td>\n",
       "      <td>Annual value</td>\n",
       "      <td>LCU</td>\n",
       "      <td>41000.0</td>\n",
       "      <td>A</td>\n",
       "    </tr>\n",
       "  </tbody>\n",
       "</table>\n",
       "</div>"
      ],
      "text/plain": [
       "   Area Code         Area  Item Code               Item  \\\n",
       "0          2  Afghanistan        221  Almonds, in shell   \n",
       "1          2  Afghanistan        221  Almonds, in shell   \n",
       "2          2  Afghanistan        221  Almonds, in shell   \n",
       "3          2  Afghanistan        221  Almonds, in shell   \n",
       "4          2  Afghanistan        221  Almonds, in shell   \n",
       "\n",
       "                      Element  Year Code  Year  Months Code        Months  \\\n",
       "0  Producer Price (LCU/tonne)       1993  1993         7021  Annual value   \n",
       "1  Producer Price (LCU/tonne)       1994  1994         7021  Annual value   \n",
       "2  Producer Price (LCU/tonne)       1995  1995         7021  Annual value   \n",
       "3  Producer Price (LCU/tonne)       1996  1996         7021  Annual value   \n",
       "4  Producer Price (LCU/tonne)       1997  1997         7021  Annual value   \n",
       "\n",
       "  Unit    Value Flag  \n",
       "0  LCU  46000.0    A  \n",
       "1  LCU  50000.0    A  \n",
       "2  LCU  62000.0    A  \n",
       "3  LCU  50000.0    A  \n",
       "4  LCU  41000.0    A  "
      ]
     },
     "execution_count": 10,
     "metadata": {},
     "output_type": "execute_result"
    }
   ],
   "source": [
    "# Dropping the unnecessary columns\n",
    "filtered_1 = raw_data.drop(['Area Code (M49)','Item Code (CPC)','Element Code'], axis=1)\n",
    "filtered_1.head()"
   ]
  },
  {
   "cell_type": "code",
   "execution_count": 11,
   "metadata": {},
   "outputs": [
    {
     "data": {
      "text/plain": [
       "array([1991, 1992, 1993, 1994, 1995, 1996, 1997, 1998, 1999, 2000, 2001,\n",
       "       2002, 2003, 2004, 2005, 2006, 2007, 2008, 2009, 2010, 2011, 2012,\n",
       "       2013, 2014, 2015, 2016, 2017, 2018, 2019, 2020, 2021, 2022, 2023,\n",
       "       2024])"
      ]
     },
     "execution_count": 11,
     "metadata": {},
     "output_type": "execute_result"
    }
   ],
   "source": [
    "np.sort(filtered_1['Year'].unique())"
   ]
  },
  {
   "cell_type": "code",
   "execution_count": 193,
   "metadata": {},
   "outputs": [
    {
     "data": {
      "text/plain": [
       "array(['Annual value', 'July', 'August', 'September', 'October',\n",
       "       'November', 'December', 'January', 'February', 'March', 'April',\n",
       "       'May', 'June'], dtype=object)"
      ]
     },
     "execution_count": 193,
     "metadata": {},
     "output_type": "execute_result"
    }
   ],
   "source": [
    "filtered_1['Months'].unique()"
   ]
  },
  {
   "cell_type": "markdown",
   "metadata": {},
   "source": [
    "We would like to keep the producer prices data by the 'Annual value' only.\n",
    "And, we would drop the rows having monthly-data as we are not interested in \n",
    "looking at the monthly-data."
   ]
  },
  {
   "cell_type": "code",
   "execution_count": 12,
   "metadata": {},
   "outputs": [
    {
     "data": {
      "text/html": [
       "<div>\n",
       "<style scoped>\n",
       "    .dataframe tbody tr th:only-of-type {\n",
       "        vertical-align: middle;\n",
       "    }\n",
       "\n",
       "    .dataframe tbody tr th {\n",
       "        vertical-align: top;\n",
       "    }\n",
       "\n",
       "    .dataframe thead th {\n",
       "        text-align: right;\n",
       "    }\n",
       "</style>\n",
       "<table border=\"1\" class=\"dataframe\">\n",
       "  <thead>\n",
       "    <tr style=\"text-align: right;\">\n",
       "      <th></th>\n",
       "      <th>Area Code</th>\n",
       "      <th>Area</th>\n",
       "      <th>Item Code</th>\n",
       "      <th>Item</th>\n",
       "      <th>Element</th>\n",
       "      <th>Year Code</th>\n",
       "      <th>Year</th>\n",
       "      <th>Value</th>\n",
       "    </tr>\n",
       "  </thead>\n",
       "  <tbody>\n",
       "    <tr>\n",
       "      <th>0</th>\n",
       "      <td>2</td>\n",
       "      <td>Afghanistan</td>\n",
       "      <td>221</td>\n",
       "      <td>Almonds, in shell</td>\n",
       "      <td>Producer Price (LCU/tonne)</td>\n",
       "      <td>1993</td>\n",
       "      <td>1993</td>\n",
       "      <td>46000.0</td>\n",
       "    </tr>\n",
       "    <tr>\n",
       "      <th>1</th>\n",
       "      <td>2</td>\n",
       "      <td>Afghanistan</td>\n",
       "      <td>221</td>\n",
       "      <td>Almonds, in shell</td>\n",
       "      <td>Producer Price (LCU/tonne)</td>\n",
       "      <td>1994</td>\n",
       "      <td>1994</td>\n",
       "      <td>50000.0</td>\n",
       "    </tr>\n",
       "    <tr>\n",
       "      <th>2</th>\n",
       "      <td>2</td>\n",
       "      <td>Afghanistan</td>\n",
       "      <td>221</td>\n",
       "      <td>Almonds, in shell</td>\n",
       "      <td>Producer Price (LCU/tonne)</td>\n",
       "      <td>1995</td>\n",
       "      <td>1995</td>\n",
       "      <td>62000.0</td>\n",
       "    </tr>\n",
       "    <tr>\n",
       "      <th>3</th>\n",
       "      <td>2</td>\n",
       "      <td>Afghanistan</td>\n",
       "      <td>221</td>\n",
       "      <td>Almonds, in shell</td>\n",
       "      <td>Producer Price (LCU/tonne)</td>\n",
       "      <td>1996</td>\n",
       "      <td>1996</td>\n",
       "      <td>50000.0</td>\n",
       "    </tr>\n",
       "    <tr>\n",
       "      <th>4</th>\n",
       "      <td>2</td>\n",
       "      <td>Afghanistan</td>\n",
       "      <td>221</td>\n",
       "      <td>Almonds, in shell</td>\n",
       "      <td>Producer Price (LCU/tonne)</td>\n",
       "      <td>1997</td>\n",
       "      <td>1997</td>\n",
       "      <td>41000.0</td>\n",
       "    </tr>\n",
       "  </tbody>\n",
       "</table>\n",
       "</div>"
      ],
      "text/plain": [
       "   Area Code         Area  Item Code               Item  \\\n",
       "0          2  Afghanistan        221  Almonds, in shell   \n",
       "1          2  Afghanistan        221  Almonds, in shell   \n",
       "2          2  Afghanistan        221  Almonds, in shell   \n",
       "3          2  Afghanistan        221  Almonds, in shell   \n",
       "4          2  Afghanistan        221  Almonds, in shell   \n",
       "\n",
       "                      Element  Year Code  Year    Value  \n",
       "0  Producer Price (LCU/tonne)       1993  1993  46000.0  \n",
       "1  Producer Price (LCU/tonne)       1994  1994  50000.0  \n",
       "2  Producer Price (LCU/tonne)       1995  1995  62000.0  \n",
       "3  Producer Price (LCU/tonne)       1996  1996  50000.0  \n",
       "4  Producer Price (LCU/tonne)       1997  1997  41000.0  "
      ]
     },
     "execution_count": 12,
     "metadata": {},
     "output_type": "execute_result"
    }
   ],
   "source": [
    "# filter the data to obtain desired rows\n",
    "filtered_2 = filtered_1.loc[filtered_1['Months'] == 'Annual value'].drop(\n",
    "    ['Months', 'Months Code', 'Unit', 'Flag'], axis=1)\n",
    "filtered_2.head()"
   ]
  },
  {
   "cell_type": "code",
   "execution_count": 195,
   "metadata": {},
   "outputs": [
    {
     "data": {
      "text/plain": [
       "(915217, 8)"
      ]
     },
     "execution_count": 195,
     "metadata": {},
     "output_type": "execute_result"
    }
   ],
   "source": [
    "filtered_2.shape"
   ]
  },
  {
   "cell_type": "code",
   "execution_count": 196,
   "metadata": {},
   "outputs": [
    {
     "data": {
      "text/plain": [
       "array(['Producer Price (LCU/tonne)', 'Producer Price (SLC/tonne)',\n",
       "       'Producer Price Index (2014-2016 = 100)',\n",
       "       'Producer Price (USD/tonne)'], dtype=object)"
      ]
     },
     "execution_count": 196,
     "metadata": {},
     "output_type": "execute_result"
    }
   ],
   "source": [
    "filtered_2['Element'].unique()"
   ]
  },
  {
   "cell_type": "code",
   "execution_count": 13,
   "metadata": {},
   "outputs": [
    {
     "data": {
      "text/html": [
       "<div>\n",
       "<style scoped>\n",
       "    .dataframe tbody tr th:only-of-type {\n",
       "        vertical-align: middle;\n",
       "    }\n",
       "\n",
       "    .dataframe tbody tr th {\n",
       "        vertical-align: top;\n",
       "    }\n",
       "\n",
       "    .dataframe thead th {\n",
       "        text-align: right;\n",
       "    }\n",
       "</style>\n",
       "<table border=\"1\" class=\"dataframe\">\n",
       "  <thead>\n",
       "    <tr style=\"text-align: right;\">\n",
       "      <th></th>\n",
       "      <th></th>\n",
       "      <th></th>\n",
       "      <th></th>\n",
       "      <th></th>\n",
       "      <th>Element</th>\n",
       "      <th>Producer Price (LCU/tonne)</th>\n",
       "      <th>Producer Price (SLC/tonne)</th>\n",
       "      <th>Producer Price (USD/tonne)</th>\n",
       "      <th>Producer Price Index (2014-2016 = 100)</th>\n",
       "    </tr>\n",
       "    <tr>\n",
       "      <th>Area Code</th>\n",
       "      <th>Area</th>\n",
       "      <th>Item Code</th>\n",
       "      <th>Item</th>\n",
       "      <th>Year</th>\n",
       "      <th>Year Code</th>\n",
       "      <th></th>\n",
       "      <th></th>\n",
       "      <th></th>\n",
       "      <th></th>\n",
       "    </tr>\n",
       "  </thead>\n",
       "  <tbody>\n",
       "    <tr>\n",
       "      <th rowspan=\"5\" valign=\"top\">1</th>\n",
       "      <th rowspan=\"5\" valign=\"top\">Armenia</th>\n",
       "      <th rowspan=\"5\" valign=\"top\">15</th>\n",
       "      <th rowspan=\"5\" valign=\"top\">Wheat</th>\n",
       "      <th>1997</th>\n",
       "      <th>1997</th>\n",
       "      <td>110589.0</td>\n",
       "      <td>110589.0</td>\n",
       "      <td>225.3</td>\n",
       "      <td>89.40</td>\n",
       "    </tr>\n",
       "    <tr>\n",
       "      <th>1998</th>\n",
       "      <th>1998</th>\n",
       "      <td>103795.0</td>\n",
       "      <td>103795.0</td>\n",
       "      <td>205.6</td>\n",
       "      <td>83.91</td>\n",
       "    </tr>\n",
       "    <tr>\n",
       "      <th>1999</th>\n",
       "      <th>1999</th>\n",
       "      <td>94996.0</td>\n",
       "      <td>94996.0</td>\n",
       "      <td>177.5</td>\n",
       "      <td>76.79</td>\n",
       "    </tr>\n",
       "    <tr>\n",
       "      <th>2000</th>\n",
       "      <th>2000</th>\n",
       "      <td>88200.0</td>\n",
       "      <td>88200.0</td>\n",
       "      <td>163.5</td>\n",
       "      <td>71.30</td>\n",
       "    </tr>\n",
       "    <tr>\n",
       "      <th>2001</th>\n",
       "      <th>2001</th>\n",
       "      <td>92170.0</td>\n",
       "      <td>92170.0</td>\n",
       "      <td>166.0</td>\n",
       "      <td>74.51</td>\n",
       "    </tr>\n",
       "  </tbody>\n",
       "</table>\n",
       "</div>"
      ],
      "text/plain": [
       "Element                                           Producer Price (LCU/tonne)  \\\n",
       "Area Code Area    Item Code Item  Year Year Code                               \n",
       "1         Armenia 15        Wheat 1997 1997                         110589.0   \n",
       "                                  1998 1998                         103795.0   \n",
       "                                  1999 1999                          94996.0   \n",
       "                                  2000 2000                          88200.0   \n",
       "                                  2001 2001                          92170.0   \n",
       "\n",
       "Element                                           Producer Price (SLC/tonne)  \\\n",
       "Area Code Area    Item Code Item  Year Year Code                               \n",
       "1         Armenia 15        Wheat 1997 1997                         110589.0   \n",
       "                                  1998 1998                         103795.0   \n",
       "                                  1999 1999                          94996.0   \n",
       "                                  2000 2000                          88200.0   \n",
       "                                  2001 2001                          92170.0   \n",
       "\n",
       "Element                                           Producer Price (USD/tonne)  \\\n",
       "Area Code Area    Item Code Item  Year Year Code                               \n",
       "1         Armenia 15        Wheat 1997 1997                            225.3   \n",
       "                                  1998 1998                            205.6   \n",
       "                                  1999 1999                            177.5   \n",
       "                                  2000 2000                            163.5   \n",
       "                                  2001 2001                            166.0   \n",
       "\n",
       "Element                                           Producer Price Index (2014-2016 = 100)  \n",
       "Area Code Area    Item Code Item  Year Year Code                                          \n",
       "1         Armenia 15        Wheat 1997 1997                                        89.40  \n",
       "                                  1998 1998                                        83.91  \n",
       "                                  1999 1999                                        76.79  \n",
       "                                  2000 2000                                        71.30  \n",
       "                                  2001 2001                                        74.51  "
      ]
     },
     "execution_count": 13,
     "metadata": {},
     "output_type": "execute_result"
    }
   ],
   "source": [
    "# Reshaping the dataframe from long to wide format\n",
    "filtered_2_pivoted = filtered_2.pivot_table(\n",
    "    index=['Area Code', 'Area', 'Item Code', 'Item', 'Year', 'Year Code'], \n",
    "    columns='Element', \n",
    "    values='Value')\n",
    "filtered_2_pivoted.head()"
   ]
  },
  {
   "cell_type": "code",
   "execution_count": 14,
   "metadata": {},
   "outputs": [
    {
     "data": {
      "text/html": [
       "<div>\n",
       "<style scoped>\n",
       "    .dataframe tbody tr th:only-of-type {\n",
       "        vertical-align: middle;\n",
       "    }\n",
       "\n",
       "    .dataframe tbody tr th {\n",
       "        vertical-align: top;\n",
       "    }\n",
       "\n",
       "    .dataframe thead th {\n",
       "        text-align: right;\n",
       "    }\n",
       "</style>\n",
       "<table border=\"1\" class=\"dataframe\">\n",
       "  <thead>\n",
       "    <tr style=\"text-align: right;\">\n",
       "      <th>Element</th>\n",
       "      <th>Area Code</th>\n",
       "      <th>Area</th>\n",
       "      <th>Item Code</th>\n",
       "      <th>Item</th>\n",
       "      <th>Year</th>\n",
       "      <th>Year Code</th>\n",
       "      <th>Producer Price (LCU/tonne)</th>\n",
       "      <th>Producer Price (SLC/tonne)</th>\n",
       "      <th>Producer Price (USD/tonne)</th>\n",
       "      <th>Producer Price Index (2014-2016 = 100)</th>\n",
       "    </tr>\n",
       "  </thead>\n",
       "  <tbody>\n",
       "    <tr>\n",
       "      <th>0</th>\n",
       "      <td>1</td>\n",
       "      <td>Armenia</td>\n",
       "      <td>15</td>\n",
       "      <td>Wheat</td>\n",
       "      <td>1997</td>\n",
       "      <td>1997</td>\n",
       "      <td>110589.0</td>\n",
       "      <td>110589.0</td>\n",
       "      <td>225.3</td>\n",
       "      <td>89.40</td>\n",
       "    </tr>\n",
       "    <tr>\n",
       "      <th>1</th>\n",
       "      <td>1</td>\n",
       "      <td>Armenia</td>\n",
       "      <td>15</td>\n",
       "      <td>Wheat</td>\n",
       "      <td>1998</td>\n",
       "      <td>1998</td>\n",
       "      <td>103795.0</td>\n",
       "      <td>103795.0</td>\n",
       "      <td>205.6</td>\n",
       "      <td>83.91</td>\n",
       "    </tr>\n",
       "    <tr>\n",
       "      <th>2</th>\n",
       "      <td>1</td>\n",
       "      <td>Armenia</td>\n",
       "      <td>15</td>\n",
       "      <td>Wheat</td>\n",
       "      <td>1999</td>\n",
       "      <td>1999</td>\n",
       "      <td>94996.0</td>\n",
       "      <td>94996.0</td>\n",
       "      <td>177.5</td>\n",
       "      <td>76.79</td>\n",
       "    </tr>\n",
       "    <tr>\n",
       "      <th>3</th>\n",
       "      <td>1</td>\n",
       "      <td>Armenia</td>\n",
       "      <td>15</td>\n",
       "      <td>Wheat</td>\n",
       "      <td>2000</td>\n",
       "      <td>2000</td>\n",
       "      <td>88200.0</td>\n",
       "      <td>88200.0</td>\n",
       "      <td>163.5</td>\n",
       "      <td>71.30</td>\n",
       "    </tr>\n",
       "    <tr>\n",
       "      <th>4</th>\n",
       "      <td>1</td>\n",
       "      <td>Armenia</td>\n",
       "      <td>15</td>\n",
       "      <td>Wheat</td>\n",
       "      <td>2001</td>\n",
       "      <td>2001</td>\n",
       "      <td>92170.0</td>\n",
       "      <td>92170.0</td>\n",
       "      <td>166.0</td>\n",
       "      <td>74.51</td>\n",
       "    </tr>\n",
       "  </tbody>\n",
       "</table>\n",
       "</div>"
      ],
      "text/plain": [
       "Element  Area Code     Area  Item Code   Item  Year  Year Code  \\\n",
       "0                1  Armenia         15  Wheat  1997       1997   \n",
       "1                1  Armenia         15  Wheat  1998       1998   \n",
       "2                1  Armenia         15  Wheat  1999       1999   \n",
       "3                1  Armenia         15  Wheat  2000       2000   \n",
       "4                1  Armenia         15  Wheat  2001       2001   \n",
       "\n",
       "Element  Producer Price (LCU/tonne)  Producer Price (SLC/tonne)  \\\n",
       "0                          110589.0                    110589.0   \n",
       "1                          103795.0                    103795.0   \n",
       "2                           94996.0                     94996.0   \n",
       "3                           88200.0                     88200.0   \n",
       "4                           92170.0                     92170.0   \n",
       "\n",
       "Element  Producer Price (USD/tonne)  Producer Price Index (2014-2016 = 100)  \n",
       "0                             225.3                                   89.40  \n",
       "1                             205.6                                   83.91  \n",
       "2                             177.5                                   76.79  \n",
       "3                             163.5                                   71.30  \n",
       "4                             166.0                                   74.51  "
      ]
     },
     "execution_count": 14,
     "metadata": {},
     "output_type": "execute_result"
    }
   ],
   "source": [
    "# Resetting the index is important after pivoting\n",
    "filtered_2_pivoted = filtered_2_pivoted.reset_index()\n",
    "filtered_2_pivoted.head()"
   ]
  },
  {
   "cell_type": "code",
   "execution_count": 199,
   "metadata": {},
   "outputs": [
    {
     "data": {
      "text/plain": [
       "(423530, 10)"
      ]
     },
     "execution_count": 199,
     "metadata": {},
     "output_type": "execute_result"
    }
   ],
   "source": [
    "filtered_2_pivoted.shape"
   ]
  },
  {
   "cell_type": "markdown",
   "metadata": {},
   "source": [
    " When you .reset_index(), it only resets the index for rows, not for columns. Column MultiIndexes persist unless explicitly removed."
   ]
  },
  {
   "cell_type": "code",
   "execution_count": 200,
   "metadata": {},
   "outputs": [
    {
     "data": {
      "text/plain": [
       "Index(['Area Code', 'Area', 'Item Code', 'Item', 'Year', 'Year Code',\n",
       "       'Producer Price (LCU/tonne)', 'Producer Price (SLC/tonne)',\n",
       "       'Producer Price (USD/tonne)', 'Producer Price Index (2014-2016 = 100)'],\n",
       "      dtype='object', name='Element')"
      ]
     },
     "execution_count": 200,
     "metadata": {},
     "output_type": "execute_result"
    }
   ],
   "source": [
    "filtered_2_pivoted.columns"
   ]
  },
  {
   "cell_type": "code",
   "execution_count": 15,
   "metadata": {},
   "outputs": [
    {
     "data": {
      "text/plain": [
       "Index(['Area Code', 'Area', 'Item Code', 'Item', 'Year', 'Year Code',\n",
       "       'Producer Price (LCU/tonne)', 'Producer Price (SLC/tonne)',\n",
       "       'Producer Price (USD/tonne)', 'Producer Price Index (2014-2016 = 100)'],\n",
       "      dtype='object')"
      ]
     },
     "execution_count": 15,
     "metadata": {},
     "output_type": "execute_result"
    }
   ],
   "source": [
    "filtered_2_pivoted.columns.name = None\n",
    "filtered_2_pivoted.columns"
   ]
  },
  {
   "cell_type": "code",
   "execution_count": 8,
   "metadata": {},
   "outputs": [
    {
     "data": {
      "text/html": [
       "<div>\n",
       "<style scoped>\n",
       "    .dataframe tbody tr th:only-of-type {\n",
       "        vertical-align: middle;\n",
       "    }\n",
       "\n",
       "    .dataframe tbody tr th {\n",
       "        vertical-align: top;\n",
       "    }\n",
       "\n",
       "    .dataframe thead th {\n",
       "        text-align: right;\n",
       "    }\n",
       "</style>\n",
       "<table border=\"1\" class=\"dataframe\">\n",
       "  <thead>\n",
       "    <tr style=\"text-align: right;\">\n",
       "      <th></th>\n",
       "      <th>Area Code</th>\n",
       "      <th>Area</th>\n",
       "      <th>Item Code</th>\n",
       "      <th>Item</th>\n",
       "      <th>Year</th>\n",
       "      <th>Year Code</th>\n",
       "      <th>Producer Price (LCU/tonne)</th>\n",
       "      <th>Producer Price (SLC/tonne)</th>\n",
       "      <th>Producer Price (USD/tonne)</th>\n",
       "      <th>Producer Price Index (2014-2016 = 100)</th>\n",
       "    </tr>\n",
       "  </thead>\n",
       "  <tbody>\n",
       "    <tr>\n",
       "      <th>0</th>\n",
       "      <td>1</td>\n",
       "      <td>Armenia</td>\n",
       "      <td>15</td>\n",
       "      <td>Wheat</td>\n",
       "      <td>1997</td>\n",
       "      <td>1997</td>\n",
       "      <td>110589.0</td>\n",
       "      <td>110589.0</td>\n",
       "      <td>225.3</td>\n",
       "      <td>89.40</td>\n",
       "    </tr>\n",
       "    <tr>\n",
       "      <th>1</th>\n",
       "      <td>1</td>\n",
       "      <td>Armenia</td>\n",
       "      <td>15</td>\n",
       "      <td>Wheat</td>\n",
       "      <td>1998</td>\n",
       "      <td>1998</td>\n",
       "      <td>103795.0</td>\n",
       "      <td>103795.0</td>\n",
       "      <td>205.6</td>\n",
       "      <td>83.91</td>\n",
       "    </tr>\n",
       "    <tr>\n",
       "      <th>2</th>\n",
       "      <td>1</td>\n",
       "      <td>Armenia</td>\n",
       "      <td>15</td>\n",
       "      <td>Wheat</td>\n",
       "      <td>1999</td>\n",
       "      <td>1999</td>\n",
       "      <td>94996.0</td>\n",
       "      <td>94996.0</td>\n",
       "      <td>177.5</td>\n",
       "      <td>76.79</td>\n",
       "    </tr>\n",
       "    <tr>\n",
       "      <th>3</th>\n",
       "      <td>1</td>\n",
       "      <td>Armenia</td>\n",
       "      <td>15</td>\n",
       "      <td>Wheat</td>\n",
       "      <td>2000</td>\n",
       "      <td>2000</td>\n",
       "      <td>88200.0</td>\n",
       "      <td>88200.0</td>\n",
       "      <td>163.5</td>\n",
       "      <td>71.30</td>\n",
       "    </tr>\n",
       "    <tr>\n",
       "      <th>4</th>\n",
       "      <td>1</td>\n",
       "      <td>Armenia</td>\n",
       "      <td>15</td>\n",
       "      <td>Wheat</td>\n",
       "      <td>2001</td>\n",
       "      <td>2001</td>\n",
       "      <td>92170.0</td>\n",
       "      <td>92170.0</td>\n",
       "      <td>166.0</td>\n",
       "      <td>74.51</td>\n",
       "    </tr>\n",
       "  </tbody>\n",
       "</table>\n",
       "</div>"
      ],
      "text/plain": [
       "   Area Code     Area  Item Code   Item  Year  Year Code  \\\n",
       "0          1  Armenia         15  Wheat  1997       1997   \n",
       "1          1  Armenia         15  Wheat  1998       1998   \n",
       "2          1  Armenia         15  Wheat  1999       1999   \n",
       "3          1  Armenia         15  Wheat  2000       2000   \n",
       "4          1  Armenia         15  Wheat  2001       2001   \n",
       "\n",
       "   Producer Price (LCU/tonne)  Producer Price (SLC/tonne)  \\\n",
       "0                    110589.0                    110589.0   \n",
       "1                    103795.0                    103795.0   \n",
       "2                     94996.0                     94996.0   \n",
       "3                     88200.0                     88200.0   \n",
       "4                     92170.0                     92170.0   \n",
       "\n",
       "   Producer Price (USD/tonne)  Producer Price Index (2014-2016 = 100)  \n",
       "0                       225.3                                   89.40  \n",
       "1                       205.6                                   83.91  \n",
       "2                       177.5                                   76.79  \n",
       "3                       163.5                                   71.30  \n",
       "4                       166.0                                   74.51  "
      ]
     },
     "execution_count": 8,
     "metadata": {},
     "output_type": "execute_result"
    }
   ],
   "source": [
    "filtered_2_pivoted.head()"
   ]
  },
  {
   "cell_type": "code",
   "execution_count": 14,
   "metadata": {},
   "outputs": [
    {
     "name": "stdout",
     "output_type": "stream",
     "text": [
      "<class 'pandas.core.frame.DataFrame'>\n",
      "RangeIndex: 423530 entries, 0 to 423529\n",
      "Data columns (total 10 columns):\n",
      " #   Column                                  Non-Null Count   Dtype  \n",
      "---  ------                                  --------------   -----  \n",
      " 0   Area Code                               423530 non-null  int64  \n",
      " 1   Area                                    423530 non-null  object \n",
      " 2   Item Code                               423530 non-null  int64  \n",
      " 3   Item                                    423530 non-null  object \n",
      " 4   Year                                    423530 non-null  int64  \n",
      " 5   Year Code                               423530 non-null  int64  \n",
      " 6   Producer Price (LCU/tonne)              166330 non-null  float64\n",
      " 7   Producer Price (SLC/tonne)              166274 non-null  float64\n",
      " 8   Producer Price (USD/tonne)              162702 non-null  float64\n",
      " 9   Producer Price Index (2014-2016 = 100)  419911 non-null  float64\n",
      "dtypes: float64(4), int64(4), object(2)\n",
      "memory usage: 32.3+ MB\n"
     ]
    }
   ],
   "source": [
    "filtered_2_pivoted.info()"
   ]
  },
  {
   "cell_type": "markdown",
   "metadata": {},
   "source": [
    "We are removing the producer prices in LCU and SLC, while keeping the other two. \n",
    "Another thing important to keep in mind here is that there are lots of missing values\n",
    "for the regular producer prices. May be we can go forward to forecast producer price \n",
    "indexes. However, we need to further remove some rows before we decide."
   ]
  },
  {
   "cell_type": "code",
   "execution_count": 16,
   "metadata": {},
   "outputs": [
    {
     "data": {
      "text/html": [
       "<div>\n",
       "<style scoped>\n",
       "    .dataframe tbody tr th:only-of-type {\n",
       "        vertical-align: middle;\n",
       "    }\n",
       "\n",
       "    .dataframe tbody tr th {\n",
       "        vertical-align: top;\n",
       "    }\n",
       "\n",
       "    .dataframe thead th {\n",
       "        text-align: right;\n",
       "    }\n",
       "</style>\n",
       "<table border=\"1\" class=\"dataframe\">\n",
       "  <thead>\n",
       "    <tr style=\"text-align: right;\">\n",
       "      <th></th>\n",
       "      <th>Area Code</th>\n",
       "      <th>Area</th>\n",
       "      <th>Item Code</th>\n",
       "      <th>Item</th>\n",
       "      <th>Year</th>\n",
       "      <th>Year Code</th>\n",
       "      <th>Producer Price (USD/tonne)</th>\n",
       "      <th>Producer Price Index (2014-2016 = 100)</th>\n",
       "    </tr>\n",
       "  </thead>\n",
       "  <tbody>\n",
       "    <tr>\n",
       "      <th>0</th>\n",
       "      <td>1</td>\n",
       "      <td>Armenia</td>\n",
       "      <td>15</td>\n",
       "      <td>Wheat</td>\n",
       "      <td>1997</td>\n",
       "      <td>1997</td>\n",
       "      <td>225.3</td>\n",
       "      <td>89.40</td>\n",
       "    </tr>\n",
       "    <tr>\n",
       "      <th>1</th>\n",
       "      <td>1</td>\n",
       "      <td>Armenia</td>\n",
       "      <td>15</td>\n",
       "      <td>Wheat</td>\n",
       "      <td>1998</td>\n",
       "      <td>1998</td>\n",
       "      <td>205.6</td>\n",
       "      <td>83.91</td>\n",
       "    </tr>\n",
       "    <tr>\n",
       "      <th>2</th>\n",
       "      <td>1</td>\n",
       "      <td>Armenia</td>\n",
       "      <td>15</td>\n",
       "      <td>Wheat</td>\n",
       "      <td>1999</td>\n",
       "      <td>1999</td>\n",
       "      <td>177.5</td>\n",
       "      <td>76.79</td>\n",
       "    </tr>\n",
       "    <tr>\n",
       "      <th>3</th>\n",
       "      <td>1</td>\n",
       "      <td>Armenia</td>\n",
       "      <td>15</td>\n",
       "      <td>Wheat</td>\n",
       "      <td>2000</td>\n",
       "      <td>2000</td>\n",
       "      <td>163.5</td>\n",
       "      <td>71.30</td>\n",
       "    </tr>\n",
       "    <tr>\n",
       "      <th>4</th>\n",
       "      <td>1</td>\n",
       "      <td>Armenia</td>\n",
       "      <td>15</td>\n",
       "      <td>Wheat</td>\n",
       "      <td>2001</td>\n",
       "      <td>2001</td>\n",
       "      <td>166.0</td>\n",
       "      <td>74.51</td>\n",
       "    </tr>\n",
       "  </tbody>\n",
       "</table>\n",
       "</div>"
      ],
      "text/plain": [
       "   Area Code     Area  Item Code   Item  Year  Year Code  \\\n",
       "0          1  Armenia         15  Wheat  1997       1997   \n",
       "1          1  Armenia         15  Wheat  1998       1998   \n",
       "2          1  Armenia         15  Wheat  1999       1999   \n",
       "3          1  Armenia         15  Wheat  2000       2000   \n",
       "4          1  Armenia         15  Wheat  2001       2001   \n",
       "\n",
       "   Producer Price (USD/tonne)  Producer Price Index (2014-2016 = 100)  \n",
       "0                       225.3                                   89.40  \n",
       "1                       205.6                                   83.91  \n",
       "2                       177.5                                   76.79  \n",
       "3                       163.5                                   71.30  \n",
       "4                       166.0                                   74.51  "
      ]
     },
     "execution_count": 16,
     "metadata": {},
     "output_type": "execute_result"
    }
   ],
   "source": [
    "filtered_3_pivoted = filtered_2_pivoted.drop(\n",
    "    ['Producer Price (LCU/tonne)', 'Producer Price (SLC/tonne)'], \n",
    "    axis=1)\n",
    "filtered_3_pivoted.head()"
   ]
  },
  {
   "cell_type": "code",
   "execution_count": 205,
   "metadata": {},
   "outputs": [
    {
     "name": "stdout",
     "output_type": "stream",
     "text": [
      "<class 'pandas.core.frame.DataFrame'>\n",
      "RangeIndex: 423530 entries, 0 to 423529\n",
      "Data columns (total 8 columns):\n",
      " #   Column                                  Non-Null Count   Dtype  \n",
      "---  ------                                  --------------   -----  \n",
      " 0   Area Code                               423530 non-null  int64  \n",
      " 1   Area                                    423530 non-null  object \n",
      " 2   Item Code                               423530 non-null  int64  \n",
      " 3   Item                                    423530 non-null  object \n",
      " 4   Year                                    423530 non-null  int64  \n",
      " 5   Year Code                               423530 non-null  int64  \n",
      " 6   Producer Price (USD/tonne)              162702 non-null  float64\n",
      " 7   Producer Price Index (2014-2016 = 100)  419911 non-null  float64\n",
      "dtypes: float64(2), int64(4), object(2)\n",
      "memory usage: 25.9+ MB\n"
     ]
    }
   ],
   "source": [
    "filtered_3_pivoted.info()"
   ]
  },
  {
   "cell_type": "code",
   "execution_count": 17,
   "metadata": {},
   "outputs": [
    {
     "data": {
      "text/plain": [
       "Area Code                                      0\n",
       "Area                                           0\n",
       "Item Code                                      0\n",
       "Item                                           0\n",
       "Year                                           0\n",
       "Year Code                                      0\n",
       "Producer Price (USD/tonne)                260828\n",
       "Producer Price Index (2014-2016 = 100)      3619\n",
       "dtype: int64"
      ]
     },
     "execution_count": 17,
     "metadata": {},
     "output_type": "execute_result"
    }
   ],
   "source": [
    "# Finding the number of missing values in each column\n",
    "filtered_3_pivoted.isna().sum()"
   ]
  },
  {
   "cell_type": "code",
   "execution_count": 207,
   "metadata": {},
   "outputs": [
    {
     "data": {
      "text/plain": [
       "181"
      ]
     },
     "execution_count": 207,
     "metadata": {},
     "output_type": "execute_result"
    }
   ],
   "source": [
    "filtered_3_pivoted['Area'].unique().shape[0]"
   ]
  },
  {
   "cell_type": "code",
   "execution_count": 18,
   "metadata": {},
   "outputs": [
    {
     "data": {
      "text/plain": [
       "Area\n",
       "Saint Kitts and Nevis       273\n",
       "Samoa                       235\n",
       "Central African Republic    214\n",
       "Uzbekistan                  116\n",
       "Bahrain                     105\n",
       "Belgium-Luxembourg           76\n",
       "Ethiopia PDR                 72\n",
       "Tonga                        42\n",
       "Lesotho                      40\n",
       "Sudan                        13\n",
       "Réunion                      11\n",
       "Mauritania                   11\n",
       "Czechoslovakia                7\n",
       "Comoros                       7\n",
       "Haiti                         5\n",
       "Martinique                    5\n",
       "Guadeloupe                    4\n",
       "Guatemala                     4\n",
       "French Guiana                 4\n",
       "French Polynesia              2\n",
       "Name: count, dtype: int64"
      ]
     },
     "execution_count": 18,
     "metadata": {},
     "output_type": "execute_result"
    }
   ],
   "source": [
    "filtered_3_pivoted['Area'].value_counts().tail(20)"
   ]
  },
  {
   "cell_type": "code",
   "execution_count": 19,
   "metadata": {},
   "outputs": [
    {
     "data": {
      "text/plain": [
       "15"
      ]
     },
     "execution_count": 19,
     "metadata": {},
     "output_type": "execute_result"
    }
   ],
   "source": [
    "# Number of countries with fewer than 100 rows of data\n",
    "country_counts = pd.DataFrame(filtered_3_pivoted['Area'].value_counts())\n",
    "undesired_countries = country_counts.loc[country_counts['count'] < 100].index.to_list()\n",
    "len(undesired_countries)"
   ]
  },
  {
   "cell_type": "code",
   "execution_count": 34,
   "metadata": {},
   "outputs": [
    {
     "data": {
      "text/plain": [
       "234"
      ]
     },
     "execution_count": 34,
     "metadata": {},
     "output_type": "execute_result"
    }
   ],
   "source": [
    "filtered_3_pivoted['Item'].unique().shape[0]"
   ]
  },
  {
   "cell_type": "code",
   "execution_count": 211,
   "metadata": {},
   "outputs": [
    {
     "data": {
      "text/plain": [
       "Item\n",
       "Agriculture                                                       5051\n",
       "Roots and Tubers, Total                                           4958\n",
       "Livestock                                                         4930\n",
       "Vegetables&Melons, Total                                          4886\n",
       "Raw milk of cattle                                                4871\n",
       "                                                                  ... \n",
       "Stillingia oil                                                      34\n",
       "Vegetable tallow                                                    34\n",
       "Meat of other domestic camelids, fresh or chilled                   34\n",
       "Meat of other domestic camelids, fresh or chilled (biological)      34\n",
       "Kapok fruit                                                         34\n",
       "Name: count, Length: 234, dtype: int64"
      ]
     },
     "execution_count": 211,
     "metadata": {},
     "output_type": "execute_result"
    }
   ],
   "source": [
    "filtered_3_pivoted['Item'].value_counts()"
   ]
  },
  {
   "cell_type": "code",
   "execution_count": 20,
   "metadata": {},
   "outputs": [
    {
     "data": {
      "text/plain": [
       "['Hempseed',\n",
       " 'Other pome fruits',\n",
       " 'Other bananas (excluding cavendish and cooking bananas)',\n",
       " 'Meat of pigeons and other birds n.e.c., fresh, chilled or frozen (biological)',\n",
       " 'Cooking bananas',\n",
       " 'Balata, gutta-percha, guayule, chicle and similar natural gums in primary forms or in plates, sheets or strip',\n",
       " 'Meat of other domestic rodents, fresh or chilled',\n",
       " 'Meat of other domestic rodents, fresh or chilled (biological)',\n",
       " 'Tea nes (herbal tea)',\n",
       " 'Stillingia oil']"
      ]
     },
     "execution_count": 20,
     "metadata": {},
     "output_type": "execute_result"
    }
   ],
   "source": [
    "# Items with fewer than 100 rows of data (considered undesired)\n",
    "item_counts = pd.DataFrame(filtered_3_pivoted['Item'].value_counts())\n",
    "undesired_items_1 = item_counts.loc[item_counts['count'] < 100].index.to_list()\n",
    "undesired_items_1[0:10]"
   ]
  },
  {
   "cell_type": "code",
   "execution_count": 230,
   "metadata": {},
   "outputs": [
    {
     "data": {
      "text/plain": [
       "array(['Wheat', 'Barley', 'Maize (corn)', 'Rye', 'Oats', 'Cereals n.e.c.',\n",
       "       'Potatoes', 'Sugar beet', 'Beans, dry', 'Peas, dry',\n",
       "       'Lentils, dry', 'Vetches', 'Other pulses n.e.c.',\n",
       "       'Walnuts, in shell', 'Cabbages', 'Tomatoes',\n",
       "       'Cauliflowers and broccoli', 'Cucumbers and gherkins',\n",
       "       'Eggplants (aubergines)',\n",
       "       'Chillies and peppers, green (Capsicum spp. and Pimenta spp.)',\n",
       "       'Onions and shallots, green',\n",
       "       'Onions and shallots, dry (excluding dehydrated)', 'Green garlic',\n",
       "       'Other beans, green', 'Peas, green', 'Carrots and turnips',\n",
       "       'Mushrooms and truffles', 'Other vegetables, fresh n.e.c.',\n",
       "       'Apples', 'Pears', 'Quinces', 'Apricots', 'Cherries',\n",
       "       'Peaches and nectarines', 'Plums and sloes', 'Other stone fruits',\n",
       "       'Strawberries', 'Raspberries', 'Currants', 'Grapes', 'Watermelons',\n",
       "       'Figs', 'Other fruits, n.e.c.', 'Unmanufactured tobacco',\n",
       "       'Meat of cattle with the bone, fresh or chilled',\n",
       "       'Raw milk of cattle',\n",
       "       'Meat of cattle with the bone, fresh or chilled (biological)',\n",
       "       'Meat of sheep, fresh or chilled', 'Raw milk of sheep',\n",
       "       'Shorn wool, greasy, including fleece-washed shorn wool',\n",
       "       'Meat of sheep, fresh or chilled (biological)',\n",
       "       'Raw milk of goats', 'Meat of pig with the bone, fresh or chilled',\n",
       "       'Meat of pig with the bone, fresh or chilled (biological)',\n",
       "       'Meat of chickens, fresh or chilled', 'Hen eggs in shell, fresh',\n",
       "       'Eggs from other birds in shell, fresh, n.e.c.',\n",
       "       'Meat of chickens, fresh or chilled (biological)',\n",
       "       'Meat of rabbits and hares, fresh or chilled',\n",
       "       'Meat of rabbits and hares, fresh or chilled (biological)',\n",
       "       'Natural honey', 'Cereals, primary', 'Roots and Tubers, Total',\n",
       "       'Pulses, Total', 'Treenuts, Total', 'Vegetables Primary',\n",
       "       'Fruit Primary', 'Meat, Total', 'Milk, Total', 'Eggs Primary',\n",
       "       'Vegetables&Melons, Total', 'Fruit excl Melons, Total',\n",
       "       'Coarse Grain, Total', 'Livestock', 'Agriculture', 'Rice',\n",
       "       'Millet', 'Sugar cane', 'Almonds, in shell',\n",
       "       'Pistachios, in shell',\n",
       "       'Other nuts (excluding wild edible nuts and groundnuts), in shell, n.e.c.',\n",
       "       'Olives', 'Sunflower seed', 'Sesame seed', 'Seed cotton, unginned',\n",
       "       'Cotton seed', 'Linseed', 'Oranges', 'Other citrus fruit, n.e.c.',\n",
       "       'Cantaloupes and other melons',\n",
       "       'Anise, badian, coriander, cumin, caraway, fennel and juniper berries, raw',\n",
       "       'Cotton lint, ginned', 'Meat of goat, fresh or chilled',\n",
       "       'Meat of goat, fresh or chilled (biological)',\n",
       "       'Meat of camels, fresh or chilled', 'Raw milk of camel',\n",
       "       'Meat of camels, fresh or chilled (biological)',\n",
       "       'Game meat, fresh, chilled or frozen',\n",
       "       'Silk-worm cocoons suitable for reeling',\n",
       "       'Oilcrops, Oil Equivalent', 'Fibre Crops Primary',\n",
       "       'Citrus Fruit, Total', 'Sorghum',\n",
       "       'Broad beans and horse beans, dry', 'Chestnuts, in shell',\n",
       "       'Soya beans', 'Lettuce and chicory', 'Spinach',\n",
       "       'Pumpkins, squash and gourds',\n",
       "       'Leeks and other alliaceous vegetables',\n",
       "       'Broad beans and horse beans, green', 'Okra',\n",
       "       'Tangerines, mandarins, clementines', 'Lemons and limes',\n",
       "       'Sour cherries', 'Dates', 'Hop cones',\n",
       "       'Other stimulant, spice and aromatic crops, n.e.c.',\n",
       "       'Raw milk of buffalo',\n",
       "       'Meat of ducks, fresh or chilled (biological)',\n",
       "       'Meat of geese, fresh or chilled (biological)',\n",
       "       'Meat of turkeys, fresh or chilled',\n",
       "       'Meat of turkeys, fresh or chilled (biological)', 'Triticale',\n",
       "       'Chick peas, dry', 'Groundnuts, excluding shelled',\n",
       "       'Rape or colza seed', 'Artichokes', 'Locust beans (carobs)',\n",
       "       'Pomelos and grapefruits',\n",
       "       'Chillies and peppers, dry (Capsicum spp., Pimenta spp.), raw',\n",
       "       'Horse meat, fresh or chilled',\n",
       "       'Horse meat, fresh or chilled (biological)', 'Sweet potatoes',\n",
       "       'Cassava, fresh', 'Bananas', 'Mangoes, guavas and mangosteens',\n",
       "       'Avocados', 'Pineapples', 'Coffee, green', 'Yams',\n",
       "       'Bananas cavendish', 'Canary seed', 'Lupins', 'Tung nuts',\n",
       "       'Safflower seed', 'Other oil seeds, n.e.c.', 'Asparagus',\n",
       "       'String beans', 'Papayas', 'Tea leaves', 'Maté leaves',\n",
       "       'Flax, processed but not spun', 'Other fibre crops, raw, n.e.c.',\n",
       "       'Meat of ducks, fresh or chilled',\n",
       "       'Meat of geese, fresh or chilled', 'Beeswax', 'Cow peas, dry',\n",
       "       'Green corn (maize)',\n",
       "       'Other berries and fruits of the genus vaccinium n.e.c.',\n",
       "       'Persimmons', 'Kiwi fruit', 'Other tropical fruits, n.e.c.',\n",
       "       'Mixed grain', 'Poppy seed', 'Gooseberries', 'Taro',\n",
       "       'Coconuts, in shell',\n",
       "       'Other bananas (excluding cavendish and cooking bananas)',\n",
       "       'Plantains', 'Cooking bananas', 'Plantains and cooking bananas',\n",
       "       'Other sugar crops n.e.c.', 'Pigeon peas, dry',\n",
       "       'Cashew nuts, in shell', 'Areca nuts', 'Castor oil seeds',\n",
       "       'Ginger, raw', 'Jute, raw or retted',\n",
       "       'Kenaf, and other textile bast fibres, raw or retted',\n",
       "       'Natural rubber in primary forms',\n",
       "       'Meat of buffalo, fresh or chilled',\n",
       "       'Meat of buffalo, fresh or chilled (biological)',\n",
       "       'Jute & Jute-like Fibres', 'Buckwheat',\n",
       "       'Edible roots and tubers with high starch or inulin content, n.e.c., fresh',\n",
       "       'Mustard seed', 'Nutmeg, mace, cardamoms, raw',\n",
       "       'Other meat of mammals, fresh or chilled', 'Quinoa',\n",
       "       'Brazil nuts, in shell', 'Cocoa beans', 'Pepper (Piper spp.), raw',\n",
       "       'Meat of asses, fresh or chilled',\n",
       "       'Meat of asses, fresh or chilled (biological)',\n",
       "       'Meat of other domestic rodents, fresh or chilled',\n",
       "       'Meat of other domestic rodents, fresh or chilled (biological)',\n",
       "       'Oil palm fruit', 'Palm kernels', 'Palm oil', 'Cashewapple',\n",
       "       'Ramie, raw or retted', 'Sisal, raw',\n",
       "       'Balata, gutta-percha, guayule, chicle and similar natural gums in primary forms or in plates, sheets or strip',\n",
       "       'Yautia', 'Cinnamon and cinnamon-tree flowers, raw',\n",
       "       'Hazelnuts, in shell', 'Melonseed', 'Peppermint, spearmint',\n",
       "       'Meat of pigeons and other birds n.e.c., fresh, chilled or frozen',\n",
       "       'Meat of pigeons and other birds n.e.c., fresh, chilled or frozen (biological)',\n",
       "       'Blueberries', 'Cranberries', 'Cloves (whole stems), raw',\n",
       "       'Meat of mules, fresh or chilled',\n",
       "       'Meat of mules, fresh or chilled (biological)', 'Vegetable tallow',\n",
       "       'Stillingia oil', 'Hempseed', 'Vanilla, raw',\n",
       "       'Agave fibres, raw, n.e.c.', 'Abaca, manila hemp, raw',\n",
       "       'Other pome fruits', 'Pyrethrum, dried flowers', 'Chicory roots',\n",
       "       'Fonio', 'Kola nuts', 'Karite nuts (sheanuts)',\n",
       "       'True hemp, raw or retted', 'Tea nes (herbal tea)',\n",
       "       'Bambara beans, dry',\n",
       "       'Meat of other domestic camelids, fresh or chilled',\n",
       "       'Meat of other domestic camelids, fresh or chilled (biological)',\n",
       "       'Kapok fruit'], dtype=object)"
      ]
     },
     "execution_count": 230,
     "metadata": {},
     "output_type": "execute_result"
    }
   ],
   "source": [
    "filtered_3_pivoted['Item'].unique()"
   ]
  },
  {
   "cell_type": "code",
   "execution_count": 21,
   "metadata": {},
   "outputs": [],
   "source": [
    "# list of more undesired items\n",
    "undesired_items_2 = ['Meat of other domestic camelids, fresh or chilled',\n",
    "                   'Meat of other domestic camelids, fresh or chilled (biological)',\n",
    "                   'Other pome fruits', 'Other sugar crops n.e.c.',\n",
    "                   'Meat of pigeons and other birds n.e.c., fresh, chilled or frozen (biological)',\n",
    "                   'Meat of pigeons and other birds n.e.c., fresh, chilled or frozen',\n",
    "                   'Meat of other domestic rodents, fresh or chilled',\n",
    "                   'Meat of other domestic rodents, fresh or chilled (biological)',\n",
    "                   'Other meat of mammals, fresh or chilled',\n",
    "                   'Edible roots and tubers with high starch or inulin content, n.e.c., fresh',\n",
    "                   'Other tropical fruits, n.e.c.', 'Other berries and fruits of the genus vaccinium n.e.c.',\n",
    "                   'Other fibre crops, raw, n.e.c.', 'Other oil seeds, n.e.c.',\n",
    "                   'Other stimulant, spice and aromatic crops, n.e.c.',\n",
    "                   'Fibre Crops Primary', 'Other citrus fruit, n.e.c.', \n",
    "                   'Other nuts (excluding wild edible nuts and groundnuts), in shell, n.e.c.',\n",
    "                   'Eggs from other birds in shell, fresh, n.e.c.', \n",
    "                   'Other stone fruits', 'Other vegetables, fresh n.e.c.', \n",
    "                   'Other pulses n.e.c.', 'Cereals n.e.c.', 'Other fruits, n.e.c.']"
   ]
  },
  {
   "cell_type": "code",
   "execution_count": 22,
   "metadata": {},
   "outputs": [
    {
     "data": {
      "text/plain": [
       "32"
      ]
     },
     "execution_count": 22,
     "metadata": {},
     "output_type": "execute_result"
    }
   ],
   "source": [
    "# total number of undesired items to be removed\n",
    "items_to_remove = list(set(undesired_items_1 + undesired_items_2))\n",
    "len(items_to_remove)"
   ]
  },
  {
   "cell_type": "code",
   "execution_count": 23,
   "metadata": {},
   "outputs": [
    {
     "data": {
      "text/html": [
       "<div>\n",
       "<style scoped>\n",
       "    .dataframe tbody tr th:only-of-type {\n",
       "        vertical-align: middle;\n",
       "    }\n",
       "\n",
       "    .dataframe tbody tr th {\n",
       "        vertical-align: top;\n",
       "    }\n",
       "\n",
       "    .dataframe thead th {\n",
       "        text-align: right;\n",
       "    }\n",
       "</style>\n",
       "<table border=\"1\" class=\"dataframe\">\n",
       "  <thead>\n",
       "    <tr style=\"text-align: right;\">\n",
       "      <th></th>\n",
       "      <th>Area Code</th>\n",
       "      <th>Area</th>\n",
       "      <th>Item Code</th>\n",
       "      <th>Item</th>\n",
       "      <th>Year</th>\n",
       "      <th>Year Code</th>\n",
       "      <th>Producer Price (USD/tonne)</th>\n",
       "      <th>Producer Price Index (2014-2016 = 100)</th>\n",
       "    </tr>\n",
       "  </thead>\n",
       "  <tbody>\n",
       "    <tr>\n",
       "      <th>0</th>\n",
       "      <td>1</td>\n",
       "      <td>Armenia</td>\n",
       "      <td>15</td>\n",
       "      <td>Wheat</td>\n",
       "      <td>1997</td>\n",
       "      <td>1997</td>\n",
       "      <td>225.3</td>\n",
       "      <td>89.40</td>\n",
       "    </tr>\n",
       "    <tr>\n",
       "      <th>1</th>\n",
       "      <td>1</td>\n",
       "      <td>Armenia</td>\n",
       "      <td>15</td>\n",
       "      <td>Wheat</td>\n",
       "      <td>1998</td>\n",
       "      <td>1998</td>\n",
       "      <td>205.6</td>\n",
       "      <td>83.91</td>\n",
       "    </tr>\n",
       "    <tr>\n",
       "      <th>2</th>\n",
       "      <td>1</td>\n",
       "      <td>Armenia</td>\n",
       "      <td>15</td>\n",
       "      <td>Wheat</td>\n",
       "      <td>1999</td>\n",
       "      <td>1999</td>\n",
       "      <td>177.5</td>\n",
       "      <td>76.79</td>\n",
       "    </tr>\n",
       "    <tr>\n",
       "      <th>3</th>\n",
       "      <td>1</td>\n",
       "      <td>Armenia</td>\n",
       "      <td>15</td>\n",
       "      <td>Wheat</td>\n",
       "      <td>2000</td>\n",
       "      <td>2000</td>\n",
       "      <td>163.5</td>\n",
       "      <td>71.30</td>\n",
       "    </tr>\n",
       "    <tr>\n",
       "      <th>4</th>\n",
       "      <td>1</td>\n",
       "      <td>Armenia</td>\n",
       "      <td>15</td>\n",
       "      <td>Wheat</td>\n",
       "      <td>2001</td>\n",
       "      <td>2001</td>\n",
       "      <td>166.0</td>\n",
       "      <td>74.51</td>\n",
       "    </tr>\n",
       "  </tbody>\n",
       "</table>\n",
       "</div>"
      ],
      "text/plain": [
       "   Area Code     Area  Item Code   Item  Year  Year Code  \\\n",
       "0          1  Armenia         15  Wheat  1997       1997   \n",
       "1          1  Armenia         15  Wheat  1998       1998   \n",
       "2          1  Armenia         15  Wheat  1999       1999   \n",
       "3          1  Armenia         15  Wheat  2000       2000   \n",
       "4          1  Armenia         15  Wheat  2001       2001   \n",
       "\n",
       "   Producer Price (USD/tonne)  Producer Price Index (2014-2016 = 100)  \n",
       "0                       225.3                                   89.40  \n",
       "1                       205.6                                   83.91  \n",
       "2                       177.5                                   76.79  \n",
       "3                       163.5                                   71.30  \n",
       "4                       166.0                                   74.51  "
      ]
     },
     "execution_count": 23,
     "metadata": {},
     "output_type": "execute_result"
    }
   ],
   "source": [
    "# filtering data by removing undesired countries and items\n",
    "cleaned_data = filtered_3_pivoted.loc[\n",
    "    (~filtered_3_pivoted['Item'].isin(items_to_remove)) & \n",
    "    (~filtered_3_pivoted['Area'].isin(undesired_countries)), :]\n",
    "cleaned_data.head()"
   ]
  },
  {
   "cell_type": "code",
   "execution_count": 23,
   "metadata": {},
   "outputs": [
    {
     "data": {
      "text/plain": [
       "(392948, 8)"
      ]
     },
     "execution_count": 23,
     "metadata": {},
     "output_type": "execute_result"
    }
   ],
   "source": [
    "cleaned_data.shape"
   ]
  },
  {
   "cell_type": "code",
   "execution_count": 218,
   "metadata": {},
   "outputs": [
    {
     "name": "stdout",
     "output_type": "stream",
     "text": [
      "<class 'pandas.core.frame.DataFrame'>\n",
      "Index: 390695 entries, 0 to 423529\n",
      "Data columns (total 8 columns):\n",
      " #   Column                                  Non-Null Count   Dtype  \n",
      "---  ------                                  --------------   -----  \n",
      " 0   Area Code                               390695 non-null  int64  \n",
      " 1   Area                                    390695 non-null  object \n",
      " 2   Item Code                               390695 non-null  int64  \n",
      " 3   Item                                    390695 non-null  object \n",
      " 4   Year                                    390695 non-null  int64  \n",
      " 5   Year Code                               390695 non-null  int64  \n",
      " 6   Producer Price (USD/tonne)              157025 non-null  float64\n",
      " 7   Producer Price Index (2014-2016 = 100)  387794 non-null  float64\n",
      "dtypes: float64(2), int64(4), object(2)\n",
      "memory usage: 26.8+ MB\n"
     ]
    }
   ],
   "source": [
    "cleaned_data.info()"
   ]
  },
  {
   "cell_type": "code",
   "execution_count": 40,
   "metadata": {},
   "outputs": [
    {
     "data": {
      "text/plain": [
       "202"
      ]
     },
     "execution_count": 40,
     "metadata": {},
     "output_type": "execute_result"
    }
   ],
   "source": [
    "len(cleaned_data['Item'].unique())"
   ]
  },
  {
   "cell_type": "code",
   "execution_count": 24,
   "metadata": {},
   "outputs": [
    {
     "data": {
      "text/plain": [
       "(92, 8)"
      ]
     },
     "execution_count": 24,
     "metadata": {},
     "output_type": "execute_result"
    }
   ],
   "source": [
    "# Finding rows where both PPI and PP are missing\n",
    "missing_data = cleaned_data.loc[(cleaned_data['Producer Price Index (2014-2016 = 100)'].isna()) &\n",
    "                 (cleaned_data['Producer Price (USD/tonne)'].isna()), :]\n",
    "missing_data.shape"
   ]
  },
  {
   "cell_type": "code",
   "execution_count": 25,
   "metadata": {},
   "outputs": [
    {
     "data": {
      "text/plain": [
       "(392856, 8)"
      ]
     },
     "execution_count": 25,
     "metadata": {},
     "output_type": "execute_result"
    }
   ],
   "source": [
    "# Removing the rows where both PP and PPI are missing\n",
    "cleaned_data_1 = cleaned_data.drop(missing_data.index, axis=0)\n",
    "cleaned_data_1.shape"
   ]
  },
  {
   "cell_type": "code",
   "execution_count": 26,
   "metadata": {},
   "outputs": [
    {
     "name": "stdout",
     "output_type": "stream",
     "text": [
      "<class 'pandas.core.frame.DataFrame'>\n",
      "Index: 3062 entries, 644 to 415470\n",
      "Data columns (total 8 columns):\n",
      " #   Column                                  Non-Null Count  Dtype  \n",
      "---  ------                                  --------------  -----  \n",
      " 0   Area Code                               3062 non-null   int64  \n",
      " 1   Area                                    3062 non-null   object \n",
      " 2   Item Code                               3062 non-null   int64  \n",
      " 3   Item                                    3062 non-null   object \n",
      " 4   Year                                    3062 non-null   int64  \n",
      " 5   Year Code                               3062 non-null   int64  \n",
      " 6   Producer Price (USD/tonne)              3062 non-null   float64\n",
      " 7   Producer Price Index (2014-2016 = 100)  0 non-null      float64\n",
      "dtypes: float64(2), int64(4), object(2)\n",
      "memory usage: 215.3+ KB\n"
     ]
    }
   ],
   "source": [
    "cleaned_data_1.loc[cleaned_data_1['Producer Price Index (2014-2016 = 100)'].isna(), :].info()"
   ]
  },
  {
   "cell_type": "code",
   "execution_count": null,
   "metadata": {},
   "outputs": [
    {
     "name": "stdout",
     "output_type": "stream",
     "text": [
      "<class 'pandas.core.frame.DataFrame'>\n",
      "Index: 390603 entries, 0 to 423529\n",
      "Data columns (total 8 columns):\n",
      " #   Column                                  Non-Null Count   Dtype  \n",
      "---  ------                                  --------------   -----  \n",
      " 0   Area Code                               390603 non-null  int64  \n",
      " 1   Area                                    390603 non-null  object \n",
      " 2   Item Code                               390603 non-null  int64  \n",
      " 3   Item                                    390603 non-null  object \n",
      " 4   Year                                    390603 non-null  int64  \n",
      " 5   Year Code                               390603 non-null  int64  \n",
      " 6   Producer Price (USD/tonne)              157025 non-null  float64\n",
      " 7   Producer Price Index (2014-2016 = 100)  387794 non-null  float64\n",
      "dtypes: float64(2), int64(4), object(2)\n",
      "memory usage: 26.8+ MB\n"
     ]
    }
   ],
   "source": [
    "# This is our final dataset for Producer Prices\n",
    "cleaned_data_1.info()"
   ]
  },
  {
   "cell_type": "code",
   "execution_count": null,
   "metadata": {},
   "outputs": [
    {
     "data": {
      "text/plain": [
       "166"
      ]
     },
     "execution_count": 20,
     "metadata": {},
     "output_type": "execute_result"
    }
   ],
   "source": [
    "len(cleaned_data_1['Area'].unique())"
   ]
  },
  {
   "cell_type": "code",
   "execution_count": 45,
   "metadata": {},
   "outputs": [
    {
     "data": {
      "text/plain": [
       "202"
      ]
     },
     "execution_count": 45,
     "metadata": {},
     "output_type": "execute_result"
    }
   ],
   "source": [
    "len(cleaned_data_1['Item'].unique())"
   ]
  },
  {
   "cell_type": "code",
   "execution_count": 27,
   "metadata": {},
   "outputs": [
    {
     "data": {
      "text/html": [
       "<div>\n",
       "<style scoped>\n",
       "    .dataframe tbody tr th:only-of-type {\n",
       "        vertical-align: middle;\n",
       "    }\n",
       "\n",
       "    .dataframe tbody tr th {\n",
       "        vertical-align: top;\n",
       "    }\n",
       "\n",
       "    .dataframe thead th {\n",
       "        text-align: right;\n",
       "    }\n",
       "</style>\n",
       "<table border=\"1\" class=\"dataframe\">\n",
       "  <thead>\n",
       "    <tr style=\"text-align: right;\">\n",
       "      <th></th>\n",
       "      <th>Area Code</th>\n",
       "      <th>Area</th>\n",
       "      <th>Item Code</th>\n",
       "      <th>Item</th>\n",
       "      <th>Year</th>\n",
       "      <th>Year Code</th>\n",
       "      <th>Producer Price (USD/tonne)</th>\n",
       "      <th>Producer Price Index (2014-2016 = 100)</th>\n",
       "    </tr>\n",
       "  </thead>\n",
       "  <tbody>\n",
       "    <tr>\n",
       "      <th>0</th>\n",
       "      <td>1</td>\n",
       "      <td>Armenia</td>\n",
       "      <td>15</td>\n",
       "      <td>Wheat</td>\n",
       "      <td>1997</td>\n",
       "      <td>1997</td>\n",
       "      <td>225.3</td>\n",
       "      <td>89.40</td>\n",
       "    </tr>\n",
       "    <tr>\n",
       "      <th>1</th>\n",
       "      <td>1</td>\n",
       "      <td>Armenia</td>\n",
       "      <td>15</td>\n",
       "      <td>Wheat</td>\n",
       "      <td>1998</td>\n",
       "      <td>1998</td>\n",
       "      <td>205.6</td>\n",
       "      <td>83.91</td>\n",
       "    </tr>\n",
       "    <tr>\n",
       "      <th>2</th>\n",
       "      <td>1</td>\n",
       "      <td>Armenia</td>\n",
       "      <td>15</td>\n",
       "      <td>Wheat</td>\n",
       "      <td>1999</td>\n",
       "      <td>1999</td>\n",
       "      <td>177.5</td>\n",
       "      <td>76.79</td>\n",
       "    </tr>\n",
       "    <tr>\n",
       "      <th>3</th>\n",
       "      <td>1</td>\n",
       "      <td>Armenia</td>\n",
       "      <td>15</td>\n",
       "      <td>Wheat</td>\n",
       "      <td>2000</td>\n",
       "      <td>2000</td>\n",
       "      <td>163.5</td>\n",
       "      <td>71.30</td>\n",
       "    </tr>\n",
       "    <tr>\n",
       "      <th>4</th>\n",
       "      <td>1</td>\n",
       "      <td>Armenia</td>\n",
       "      <td>15</td>\n",
       "      <td>Wheat</td>\n",
       "      <td>2001</td>\n",
       "      <td>2001</td>\n",
       "      <td>166.0</td>\n",
       "      <td>74.51</td>\n",
       "    </tr>\n",
       "  </tbody>\n",
       "</table>\n",
       "</div>"
      ],
      "text/plain": [
       "   Area Code     Area  Item Code   Item  Year  Year Code  \\\n",
       "0          1  Armenia         15  Wheat  1997       1997   \n",
       "1          1  Armenia         15  Wheat  1998       1998   \n",
       "2          1  Armenia         15  Wheat  1999       1999   \n",
       "3          1  Armenia         15  Wheat  2000       2000   \n",
       "4          1  Armenia         15  Wheat  2001       2001   \n",
       "\n",
       "   Producer Price (USD/tonne)  Producer Price Index (2014-2016 = 100)  \n",
       "0                       225.3                                   89.40  \n",
       "1                       205.6                                   83.91  \n",
       "2                       177.5                                   76.79  \n",
       "3                       163.5                                   71.30  \n",
       "4                       166.0                                   74.51  "
      ]
     },
     "execution_count": 27,
     "metadata": {},
     "output_type": "execute_result"
    }
   ],
   "source": [
    "cleaned_data_1.head()"
   ]
  },
  {
   "cell_type": "code",
   "execution_count": 28,
   "metadata": {},
   "outputs": [
    {
     "data": {
      "text/html": [
       "<div>\n",
       "<style scoped>\n",
       "    .dataframe tbody tr th:only-of-type {\n",
       "        vertical-align: middle;\n",
       "    }\n",
       "\n",
       "    .dataframe tbody tr th {\n",
       "        vertical-align: top;\n",
       "    }\n",
       "\n",
       "    .dataframe thead th {\n",
       "        text-align: right;\n",
       "    }\n",
       "</style>\n",
       "<table border=\"1\" class=\"dataframe\">\n",
       "  <thead>\n",
       "    <tr style=\"text-align: right;\">\n",
       "      <th></th>\n",
       "      <th>area_code</th>\n",
       "      <th>area</th>\n",
       "      <th>item_code</th>\n",
       "      <th>item</th>\n",
       "      <th>year</th>\n",
       "      <th>year_code</th>\n",
       "      <th>producer_price_USD_per_tonne</th>\n",
       "      <th>producer_price_index</th>\n",
       "    </tr>\n",
       "  </thead>\n",
       "  <tbody>\n",
       "    <tr>\n",
       "      <th>0</th>\n",
       "      <td>1</td>\n",
       "      <td>Armenia</td>\n",
       "      <td>15</td>\n",
       "      <td>Wheat</td>\n",
       "      <td>1997</td>\n",
       "      <td>1997</td>\n",
       "      <td>225.3</td>\n",
       "      <td>89.40</td>\n",
       "    </tr>\n",
       "    <tr>\n",
       "      <th>1</th>\n",
       "      <td>1</td>\n",
       "      <td>Armenia</td>\n",
       "      <td>15</td>\n",
       "      <td>Wheat</td>\n",
       "      <td>1998</td>\n",
       "      <td>1998</td>\n",
       "      <td>205.6</td>\n",
       "      <td>83.91</td>\n",
       "    </tr>\n",
       "    <tr>\n",
       "      <th>2</th>\n",
       "      <td>1</td>\n",
       "      <td>Armenia</td>\n",
       "      <td>15</td>\n",
       "      <td>Wheat</td>\n",
       "      <td>1999</td>\n",
       "      <td>1999</td>\n",
       "      <td>177.5</td>\n",
       "      <td>76.79</td>\n",
       "    </tr>\n",
       "    <tr>\n",
       "      <th>3</th>\n",
       "      <td>1</td>\n",
       "      <td>Armenia</td>\n",
       "      <td>15</td>\n",
       "      <td>Wheat</td>\n",
       "      <td>2000</td>\n",
       "      <td>2000</td>\n",
       "      <td>163.5</td>\n",
       "      <td>71.30</td>\n",
       "    </tr>\n",
       "    <tr>\n",
       "      <th>4</th>\n",
       "      <td>1</td>\n",
       "      <td>Armenia</td>\n",
       "      <td>15</td>\n",
       "      <td>Wheat</td>\n",
       "      <td>2001</td>\n",
       "      <td>2001</td>\n",
       "      <td>166.0</td>\n",
       "      <td>74.51</td>\n",
       "    </tr>\n",
       "  </tbody>\n",
       "</table>\n",
       "</div>"
      ],
      "text/plain": [
       "   area_code     area  item_code   item  year  year_code  \\\n",
       "0          1  Armenia         15  Wheat  1997       1997   \n",
       "1          1  Armenia         15  Wheat  1998       1998   \n",
       "2          1  Armenia         15  Wheat  1999       1999   \n",
       "3          1  Armenia         15  Wheat  2000       2000   \n",
       "4          1  Armenia         15  Wheat  2001       2001   \n",
       "\n",
       "   producer_price_USD_per_tonne  producer_price_index  \n",
       "0                         225.3                 89.40  \n",
       "1                         205.6                 83.91  \n",
       "2                         177.5                 76.79  \n",
       "3                         163.5                 71.30  \n",
       "4                         166.0                 74.51  "
      ]
     },
     "execution_count": 28,
     "metadata": {},
     "output_type": "execute_result"
    }
   ],
   "source": [
    "# renaming columns\n",
    "cleaned_data_2 = cleaned_data_1.rename(\n",
    "    columns = {\n",
    "       'Area Code': 'area_code', \n",
    "       'Area': 'area', \n",
    "       'Item Code': 'item_code', \n",
    "       'Item': 'item', \n",
    "       'Year': 'year', \n",
    "       'Year Code': 'year_code',\n",
    "       'Producer Price (USD/tonne)': 'producer_price_USD_per_tonne', \n",
    "       'Producer Price Index (2014-2016 = 100)': 'producer_price_index'\n",
    "    }\n",
    ")\n",
    "cleaned_data_2.head()"
   ]
  },
  {
   "cell_type": "code",
   "execution_count": null,
   "metadata": {},
   "outputs": [],
   "source": [
    "# exporting cleaned data as csv file\n",
    "cleaned_data_2.to_csv('cleaned_datasets/producer_prices_cleaned.csv', index=False)"
   ]
  }
 ],
 "metadata": {
  "kernelspec": {
   "display_name": "py312",
   "language": "python",
   "name": "python3"
  },
  "language_info": {
   "codemirror_mode": {
    "name": "ipython",
    "version": 3
   },
   "file_extension": ".py",
   "mimetype": "text/x-python",
   "name": "python",
   "nbconvert_exporter": "python",
   "pygments_lexer": "ipython3",
   "version": "3.12.5"
  }
 },
 "nbformat": 4,
 "nbformat_minor": 2
}
