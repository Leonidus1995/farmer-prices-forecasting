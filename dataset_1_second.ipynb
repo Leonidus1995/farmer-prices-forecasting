{
 "cells": [
  {
   "cell_type": "code",
   "execution_count": 6,
   "id": "aa037d4d",
   "metadata": {},
   "outputs": [],
   "source": [
    "import pandas as pd\n",
    "import matplotlib.pyplot as plt\n",
    "import numpy as np\n",
    "import sdv\n",
    "import torch\n",
    "from sklearn.model_selection import train_test_split\n",
    "from sklearn.metrics import (\n",
    "    mean_absolute_error, r2_score, root_mean_squared_error\n",
    ")\n",
    "from sdv.metadata import SingleTableMetadata\n",
    "from sdv.single_table import TVAESynthesizer"
   ]
  },
  {
   "cell_type": "code",
   "execution_count": 15,
   "id": "8fcc6e1d",
   "metadata": {},
   "outputs": [
    {
     "data": {
      "text/plain": [
       "(3267, 94)"
      ]
     },
     "execution_count": 15,
     "metadata": {},
     "output_type": "execute_result"
    }
   ],
   "source": [
    "df_raw = pd.read_csv('dataset_1_item_independent.csv')\n",
    "df_raw.shape"
   ]
  },
  {
   "cell_type": "code",
   "execution_count": null,
   "id": "f5b0a9fa",
   "metadata": {},
   "outputs": [
    {
     "data": {
      "text/plain": [
       "emission_share_agri_waste_mgt              32\n",
       "total_fdi_inflows                          32\n",
       "emission_share_farmgate                    32\n",
       "emission_share_land_use_change             32\n",
       "emission_share_energy_use                  32\n",
       "emission_share_crops                       32\n",
       "emission_share_pre_and_post_production     32\n",
       "value_added_aff_per_total_fdi              32\n",
       "emission_share_end_to_end_agrifood         32\n",
       "emission_share_ipcc_agriculture            32\n",
       "total_pesticide_export_value               46\n",
       "phosphorus_production                      47\n",
       "potassium_agri_use                         48\n",
       "emission_share_livestock                   54\n",
       "aoi_credit_to_ag_forest_fish              979\n",
       "dtype: int64"
      ]
     },
     "execution_count": 16,
     "metadata": {},
     "output_type": "execute_result"
    }
   ],
   "source": [
    "col_miss = df_raw.isna().sum().sort_values()\n",
    "col_miss.tail(15)"
   ]
  },
  {
   "cell_type": "code",
   "execution_count": 45,
   "id": "87cb4679",
   "metadata": {},
   "outputs": [
    {
     "name": "stdout",
     "output_type": "stream",
     "text": [
      "Locked sdtypes:\n",
      "area -> categorical\n",
      "year -> categorical\n",
      "area_agri_land -> numerical\n",
      "area_arable_land -> numerical\n",
      "area_cropland -> numerical\n",
      "area_with_irrigation -> numerical\n",
      "area_permanent_crops -> numerical\n",
      "area_temporary_crops -> numerical\n",
      "value_per_unit_agri_land -> numerical\n",
      "cropland_area_per_capita -> numerical\n",
      "gross_domestic_product -> numerical\n",
      "gross_fixed_capital_formation -> numerical\n",
      "value_added_ag_forest_fish -> numerical\n",
      "gdp_annual_growth -> numerical\n",
      "gfcf_annual_growth -> numerical\n",
      "value_added_ag_forest_fish_annual_growth -> numerical\n",
      "gfcf_share_in_total_gdp -> numerical\n",
      "ag_forest_fish_share_in_total_gdp -> numerical\n",
      "total_fdi_inflows -> numerical\n",
      "agri_orientation_index_govt_expenditure -> numerical\n",
      "govt_expenditure_on_ag_forest_fish -> numerical\n",
      "total_govt_expenditure -> numerical\n",
      "credit_to_ag_forest_fish -> numerical\n",
      "credit_to_ag_forest_fish_share_total_credit -> numerical\n",
      "aoi_credit_to_ag_forest_fish -> numerical\n",
      "total_credit -> numerical\n",
      "emission_share_farmgate -> numerical\n",
      "emission_share_land_use_change -> numerical\n",
      "emission_share_pre_and_post_production -> numerical\n",
      "emission_share_end_to_end_agrifood -> numerical\n",
      "emission_share_crops -> numerical\n",
      "emission_share_livestock -> numerical\n",
      "emission_share_ipcc_agriculture -> numerical\n",
      "emission_share_energy_use -> numerical\n",
      "emission_share_agri_waste_mgt -> numerical\n",
      "value_added_per_worker -> numerical\n",
      "employment_in_agri -> numerical\n",
      "agri_employment_share_in_total_employment -> numerical\n",
      "total_employment_afs -> numerical\n",
      "afs_employment_share_in_total_employment -> numerical\n",
      "rural_population -> numerical\n",
      "urban_population -> numerical\n",
      "total_population -> numerical\n",
      "nitrogen_agri_use -> numerical\n",
      "nitrogen_export_quantity -> numerical\n",
      "nitrogen_import_quantity -> numerical\n",
      "nitrogen_production -> numerical\n",
      "nitrogen_use_per_area_of_cropland -> numerical\n",
      "nitrogen_use_per_capita -> numerical\n",
      "nitrogen_use_per_value_of_ag_production -> numerical\n",
      "phosphorus_agri_use -> numerical\n",
      "phosphorus_export_quantity -> numerical\n",
      "phosphorus_import_quantity -> numerical\n",
      "phosphorus_production -> numerical\n",
      "phosphorus_use_per_area_of_cropland -> numerical\n",
      "phosphorus_use_per_capita -> numerical\n",
      "phosphorus_use_per_value_of_ag_production -> numerical\n",
      "potassium_agri_use -> numerical\n",
      "potassium_export_quantity -> numerical\n",
      "potassium_import_quantity -> numerical\n",
      "potassium_use_per_area_of_cropland -> numerical\n",
      "potassium_use_per_capita -> numerical\n",
      "potassium_use_per_value_of_ag_production -> numerical\n",
      "cropland_nitrogen_per_unit_area -> numerical\n",
      "cropland_nitrogen_use_efficiency -> numerical\n",
      "cropland_phosphorus_per_unit_area -> numerical\n",
      "cropland_phosphorus_use_efficiency -> numerical\n",
      "cropland_potassium_per_unit_area -> numerical\n",
      "cropland_potassium_use_efficiency -> numerical\n",
      "total_pesticide_use_for_agriculture -> numerical\n",
      "total_pesticide_use_per_area_of_cropland -> numerical\n",
      "total_pesticide_use_per_capita -> numerical\n",
      "total_pesticide_use_per_value_of_agri_production -> numerical\n",
      "total_pesticide_export_quantity -> numerical\n",
      "total_pesticide_export_value -> numerical\n",
      "total_pesticide_import_quantity -> numerical\n",
      "total_pesticide_import_value -> numerical\n",
      "value_added_aff_per_total_fdi -> numerical\n",
      "region -> categorical\n",
      "sub_region -> categorical\n",
      "european_union_country -> boolean\n",
      "least_developed_country -> boolean\n",
      "land_locked_developing_country -> boolean\n",
      "small_island_developing_state -> boolean\n",
      "low_income_food_deficit_country -> boolean\n",
      "net_food_importing_developing_country -> boolean\n",
      "temp_change_meteorological_year -> numerical\n",
      "temp_change_dec_jan_feb -> numerical\n",
      "temp_change_jun_jul_aug -> numerical\n",
      "temp_change_sep_oct_nov -> numerical\n",
      "temp_change_mar_apr_may -> numerical\n"
     ]
    }
   ],
   "source": [
    "# Step 1: create and lock metadata\n",
    "df = df_raw.copy()\n",
    "\n",
    "categorical_cols = [\"area\", \"region\", \"sub_region\", \"year\"]\n",
    "exclude_cols = [\"area_code\", \"area_code_m49\", \"year_code\"]\n",
    "\n",
    "df = df.drop(columns=exclude_cols, axis=1)\n",
    "df['year'] = df['year'].astype('string')\n",
    "for c in categorical_cols:\n",
    "    if c in df.columns:\n",
    "        df[c] = df[c].astype('object')\n",
    "\n",
    "# identify numeric and binary columns\n",
    "numeric_cols = df.select_dtypes(include=[np.number]).columns.to_list()\n",
    "\n",
    "numeric_cols = [c for c in numeric_cols if c not in categorical_cols]\n",
    "\n",
    "binary_cols = []\n",
    "for c in numeric_cols:\n",
    "    unique_vals = df[c].dropna().unique()\n",
    "    if len(unique_vals) > 0 and set(unique_vals).issubset({0,1}):\n",
    "        binary_cols.append(c)\n",
    "        df[c] = df[c].map({0: False, 1: True})\n",
    "\n",
    "# build metadata\n",
    "md = SingleTableMetadata()\n",
    "md.detect_from_dataframe(df) # baseline detection\n",
    "\n",
    "# Force your sdtypes\n",
    "for c in df.columns:\n",
    "    if c in categorical_cols:\n",
    "        md.update_column(c, sdtype=\"categorical\")\n",
    "    elif c in binary_cols:\n",
    "        md.update_column(c, sdtype=\"boolean\")\n",
    "    else:\n",
    "        md.update_column(c, sdtype=\"numerical\")\n",
    "\n",
    "md.validate()\n",
    "\n",
    "print(\"Locked sdtypes:\")\n",
    "for c in df.columns:\n",
    "    print(f\"{c} -> {md.columns[c]['sdtype']}\")"
   ]
  },
  {
   "cell_type": "code",
   "execution_count": null,
   "id": "fa7feafb",
   "metadata": {},
   "outputs": [],
   "source": [
    "# Step 2: Fit a tiny TVAE (smoke test)\n",
    "np.random.seed(42)\n",
    "synth = TVAESynthesizer(\n",
    "    metadata=md,\n",
    "    epochs=30,\n",
    "    batch_size=512,\n",
    "    embedding_dim=64,\n",
    "    compress_dims=(128, 64),\n",
    "    decompress_dims=(64, 128),\n",
    "    l2scale=1e-5,\n",
    "    verbose=True,\n",
    "    cuda=None\n",
    ")\n",
    "\n",
    "synth.fit(df)\n",
    "print(\"TVAE smoke-fit complete.\")"
   ]
  },
  {
   "cell_type": "code",
   "execution_count": null,
   "id": "a6775e54",
   "metadata": {},
   "outputs": [
    {
     "name": "stdout",
     "output_type": "stream",
     "text": [
      "Conditions DataFrame ready. Columns fixed (non-NaN): ['area', 'region', 'sub_region', 'year']\n",
      "          area region  sub_region  year\n",
      "0  Afghanistan   Asia  South Asia  2001\n",
      "1  Afghanistan   Asia  South Asia  2002\n",
      "2  Afghanistan   Asia  South Asia  2003\n",
      "3  Afghanistan   Asia  South Asia  2004\n",
      "4  Afghanistan   Asia  South Asia  2005\n"
     ]
    }
   ],
   "source": [
    "# Step 3a: Build light conditions with only 4 categoricals fixed\n",
    "categorical_keys = [\"area\", \"region\", \"sub_region\", \"year\"]\n",
    "\n",
    "# Make a conditions copy the same shape as df\n",
    "conditions_df = df.copy()\n",
    "\n",
    "# For every non-key column, blank it out so TVAE can generate it\n",
    "for c in conditions_df.columns:\n",
    "    if c not in categorical_keys:\n",
    "        conditions_df[c] = pd.NA # leave as missing --> to be sampled\n",
    "\n",
    "print(\"Conditions DataFrame ready. Columns fixed (non-NaN):\", categorical_keys)\n",
    "print(conditions_df[categorical_keys].head())"
   ]
  },
  {
   "cell_type": "code",
   "execution_count": null,
   "id": "7433e96d",
   "metadata": {},
   "outputs": [],
   "source": [
    "# Step 3b: Sample remaininng columns from TVAE using only the 4 keys\n",
    "\n",
    "# Vectorized sampling: fills all non-key columns, keeping keys fixed\n",
    "sampled_full = synth.sample_remaining_columns(conditions_df[categorical_keys])\n",
    "\n",
    "sampled_full.head()"
   ]
  }
 ],
 "metadata": {
  "kernelspec": {
   "display_name": "sdv_impute",
   "language": "python",
   "name": "python3"
  },
  "language_info": {
   "codemirror_mode": {
    "name": "ipython",
    "version": 3
   },
   "file_extension": ".py",
   "mimetype": "text/x-python",
   "name": "python",
   "nbconvert_exporter": "python",
   "pygments_lexer": "ipython3",
   "version": "3.12.11"
  }
 },
 "nbformat": 4,
 "nbformat_minor": 5
}
