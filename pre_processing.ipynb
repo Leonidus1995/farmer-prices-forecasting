{
 "cells": [
  {
   "cell_type": "code",
   "execution_count": 5,
   "id": "ef42372a",
   "metadata": {},
   "outputs": [],
   "source": [
    "# loading required libraries\n",
    "import pandas as pd\n",
    "import matplotlib.pyplot as plt\n",
    "from collections import Counter"
   ]
  },
  {
   "cell_type": "code",
   "execution_count": 6,
   "id": "b50fd985",
   "metadata": {},
   "outputs": [
    {
     "data": {
      "text/html": [
       "<div>\n",
       "<style scoped>\n",
       "    .dataframe tbody tr th:only-of-type {\n",
       "        vertical-align: middle;\n",
       "    }\n",
       "\n",
       "    .dataframe tbody tr th {\n",
       "        vertical-align: top;\n",
       "    }\n",
       "\n",
       "    .dataframe thead th {\n",
       "        text-align: right;\n",
       "    }\n",
       "</style>\n",
       "<table border=\"1\" class=\"dataframe\">\n",
       "  <thead>\n",
       "    <tr style=\"text-align: right;\">\n",
       "      <th></th>\n",
       "      <th>area_code</th>\n",
       "      <th>area</th>\n",
       "      <th>year_code</th>\n",
       "      <th>year</th>\n",
       "      <th>item_code</th>\n",
       "      <th>item</th>\n",
       "      <th>producer_price</th>\n",
       "      <th>producer_price_index</th>\n",
       "      <th>area_harvested</th>\n",
       "      <th>laying</th>\n",
       "      <th>...</th>\n",
       "      <th>total_pesticide_use_per_value_of_agri_production</th>\n",
       "      <th>total_pesticide_export_quantity</th>\n",
       "      <th>total_pesticide_export_value</th>\n",
       "      <th>total_pesticide_import_quantity</th>\n",
       "      <th>total_pesticide_import_value</th>\n",
       "      <th>temp_change_dec_jan_feb</th>\n",
       "      <th>temp_change_mar_apr_may</th>\n",
       "      <th>temp_change_jun_jul_aug</th>\n",
       "      <th>temp_change_sep_oct_nov</th>\n",
       "      <th>temp_change_meteorological_year</th>\n",
       "    </tr>\n",
       "  </thead>\n",
       "  <tbody>\n",
       "    <tr>\n",
       "      <th>0</th>\n",
       "      <td>1</td>\n",
       "      <td>Armenia</td>\n",
       "      <td>1997</td>\n",
       "      <td>1997</td>\n",
       "      <td>15</td>\n",
       "      <td>Wheat</td>\n",
       "      <td>225.3</td>\n",
       "      <td>89.40</td>\n",
       "      <td>108000.0</td>\n",
       "      <td>NaN</td>\n",
       "      <td>...</td>\n",
       "      <td>0.05</td>\n",
       "      <td>3.604</td>\n",
       "      <td>3.687</td>\n",
       "      <td>117.861</td>\n",
       "      <td>298.379</td>\n",
       "      <td>2.166</td>\n",
       "      <td>-0.319</td>\n",
       "      <td>0.870</td>\n",
       "      <td>0.184</td>\n",
       "      <td>0.725</td>\n",
       "    </tr>\n",
       "    <tr>\n",
       "      <th>1</th>\n",
       "      <td>1</td>\n",
       "      <td>Armenia</td>\n",
       "      <td>1998</td>\n",
       "      <td>1998</td>\n",
       "      <td>15</td>\n",
       "      <td>Wheat</td>\n",
       "      <td>205.6</td>\n",
       "      <td>83.91</td>\n",
       "      <td>118300.0</td>\n",
       "      <td>NaN</td>\n",
       "      <td>...</td>\n",
       "      <td>0.06</td>\n",
       "      <td>3.604</td>\n",
       "      <td>3.687</td>\n",
       "      <td>207.171</td>\n",
       "      <td>340.124</td>\n",
       "      <td>-0.259</td>\n",
       "      <td>1.483</td>\n",
       "      <td>2.145</td>\n",
       "      <td>2.027</td>\n",
       "      <td>1.349</td>\n",
       "    </tr>\n",
       "    <tr>\n",
       "      <th>2</th>\n",
       "      <td>1</td>\n",
       "      <td>Armenia</td>\n",
       "      <td>1999</td>\n",
       "      <td>1999</td>\n",
       "      <td>15</td>\n",
       "      <td>Wheat</td>\n",
       "      <td>177.5</td>\n",
       "      <td>76.79</td>\n",
       "      <td>110129.0</td>\n",
       "      <td>NaN</td>\n",
       "      <td>...</td>\n",
       "      <td>0.07</td>\n",
       "      <td>3.604</td>\n",
       "      <td>3.687</td>\n",
       "      <td>296.481</td>\n",
       "      <td>381.869</td>\n",
       "      <td>3.535</td>\n",
       "      <td>0.814</td>\n",
       "      <td>1.611</td>\n",
       "      <td>0.264</td>\n",
       "      <td>1.556</td>\n",
       "    </tr>\n",
       "    <tr>\n",
       "      <th>3</th>\n",
       "      <td>1</td>\n",
       "      <td>Armenia</td>\n",
       "      <td>2000</td>\n",
       "      <td>2000</td>\n",
       "      <td>15</td>\n",
       "      <td>Wheat</td>\n",
       "      <td>163.5</td>\n",
       "      <td>71.30</td>\n",
       "      <td>106581.0</td>\n",
       "      <td>NaN</td>\n",
       "      <td>...</td>\n",
       "      <td>0.08</td>\n",
       "      <td>3.604</td>\n",
       "      <td>3.687</td>\n",
       "      <td>160.902</td>\n",
       "      <td>482.955</td>\n",
       "      <td>1.148</td>\n",
       "      <td>0.723</td>\n",
       "      <td>2.166</td>\n",
       "      <td>0.364</td>\n",
       "      <td>1.100</td>\n",
       "    </tr>\n",
       "    <tr>\n",
       "      <th>4</th>\n",
       "      <td>1</td>\n",
       "      <td>Armenia</td>\n",
       "      <td>2001</td>\n",
       "      <td>2001</td>\n",
       "      <td>15</td>\n",
       "      <td>Wheat</td>\n",
       "      <td>166.0</td>\n",
       "      <td>74.51</td>\n",
       "      <td>108554.0</td>\n",
       "      <td>NaN</td>\n",
       "      <td>...</td>\n",
       "      <td>0.09</td>\n",
       "      <td>1.145</td>\n",
       "      <td>9.068</td>\n",
       "      <td>200.884</td>\n",
       "      <td>698.022</td>\n",
       "      <td>1.818</td>\n",
       "      <td>2.072</td>\n",
       "      <td>1.578</td>\n",
       "      <td>0.409</td>\n",
       "      <td>1.469</td>\n",
       "    </tr>\n",
       "  </tbody>\n",
       "</table>\n",
       "<p>5 rows × 117 columns</p>\n",
       "</div>"
      ],
      "text/plain": [
       "   area_code     area  year_code  year  item_code   item  producer_price  \\\n",
       "0          1  Armenia       1997  1997         15  Wheat           225.3   \n",
       "1          1  Armenia       1998  1998         15  Wheat           205.6   \n",
       "2          1  Armenia       1999  1999         15  Wheat           177.5   \n",
       "3          1  Armenia       2000  2000         15  Wheat           163.5   \n",
       "4          1  Armenia       2001  2001         15  Wheat           166.0   \n",
       "\n",
       "   producer_price_index  area_harvested  laying  ...  \\\n",
       "0                 89.40        108000.0     NaN  ...   \n",
       "1                 83.91        118300.0     NaN  ...   \n",
       "2                 76.79        110129.0     NaN  ...   \n",
       "3                 71.30        106581.0     NaN  ...   \n",
       "4                 74.51        108554.0     NaN  ...   \n",
       "\n",
       "   total_pesticide_use_per_value_of_agri_production  \\\n",
       "0                                              0.05   \n",
       "1                                              0.06   \n",
       "2                                              0.07   \n",
       "3                                              0.08   \n",
       "4                                              0.09   \n",
       "\n",
       "   total_pesticide_export_quantity  total_pesticide_export_value  \\\n",
       "0                            3.604                         3.687   \n",
       "1                            3.604                         3.687   \n",
       "2                            3.604                         3.687   \n",
       "3                            3.604                         3.687   \n",
       "4                            1.145                         9.068   \n",
       "\n",
       "   total_pesticide_import_quantity  total_pesticide_import_value  \\\n",
       "0                          117.861                       298.379   \n",
       "1                          207.171                       340.124   \n",
       "2                          296.481                       381.869   \n",
       "3                          160.902                       482.955   \n",
       "4                          200.884                       698.022   \n",
       "\n",
       "   temp_change_dec_jan_feb  temp_change_mar_apr_may  temp_change_jun_jul_aug  \\\n",
       "0                    2.166                   -0.319                    0.870   \n",
       "1                   -0.259                    1.483                    2.145   \n",
       "2                    3.535                    0.814                    1.611   \n",
       "3                    1.148                    0.723                    2.166   \n",
       "4                    1.818                    2.072                    1.578   \n",
       "\n",
       "   temp_change_sep_oct_nov  temp_change_meteorological_year  \n",
       "0                    0.184                            0.725  \n",
       "1                    2.027                            1.349  \n",
       "2                    0.264                            1.556  \n",
       "3                    0.364                            1.100  \n",
       "4                    0.409                            1.469  \n",
       "\n",
       "[5 rows x 117 columns]"
      ]
     },
     "execution_count": 6,
     "metadata": {},
     "output_type": "execute_result"
    }
   ],
   "source": [
    "# loading integrated dataset\n",
    "data = pd.read_csv(\"integrated_data.csv\")\n",
    "data.head()"
   ]
  },
  {
   "cell_type": "code",
   "execution_count": 9,
   "id": "e241fbbf",
   "metadata": {},
   "outputs": [
    {
     "name": "stdout",
     "output_type": "stream",
     "text": [
      "<class 'pandas.core.frame.DataFrame'>\n",
      "RangeIndex: 392856 entries, 0 to 392855\n",
      "Data columns (total 117 columns):\n",
      " #    Column                                            Dtype  \n",
      "---   ------                                            -----  \n",
      " 0    area_code                                         int64  \n",
      " 1    area                                              object \n",
      " 2    year_code                                         int64  \n",
      " 3    year                                              int64  \n",
      " 4    item_code                                         int64  \n",
      " 5    item                                              object \n",
      " 6    producer_price                                    float64\n",
      " 7    producer_price_index                              float64\n",
      " 8    area_harvested                                    float64\n",
      " 9    laying                                            float64\n",
      " 10   milk_animals                                      float64\n",
      " 11   producing_animals_or_slaughtered                  float64\n",
      " 12   production                                        float64\n",
      " 13   yield                                             float64\n",
      " 14   yield_or_carcass_weight                           float64\n",
      " 15   gross_production_value                            float64\n",
      " 16   gross_production_index                            float64\n",
      " 17   area_agri_land                                    float64\n",
      " 18   area_arable_land                                  float64\n",
      " 19   area_cropland                                     float64\n",
      " 20   area_with_irrigation                              float64\n",
      " 21   area_permanent_crops                              float64\n",
      " 22   area_temporary_crops                              float64\n",
      " 23   value_per_unit_agri_land                          float64\n",
      " 24   cropland_area_per_capita                          float64\n",
      " 25   export_quantity                                   float64\n",
      " 26   export_value                                      float64\n",
      " 27   import_quantity                                   float64\n",
      " 28   import_value                                      float64\n",
      " 29   export_market_concentration_index                 float64\n",
      " 30   import_dependency_ratio                           float64\n",
      " 31   import_market_concentration_index                 float64\n",
      " 32   revealed_comparative_advantage_index              float64\n",
      " 33   self_sufficiency_ratio                            float64\n",
      " 34   terms_of_trade                                    float64\n",
      " 35   export_quantity_index                             float64\n",
      " 36   export_value_index                                float64\n",
      " 37   import_quantity_index                             float64\n",
      " 38   import_value_index                                float64\n",
      " 39   gross_domestic_product                            float64\n",
      " 40   gross_fixed_capital_formation                     float64\n",
      " 41   value_added_ag_forest_fish                        float64\n",
      " 42   gdp_annual_growth                                 float64\n",
      " 43   gfcf_annual_growth                                float64\n",
      " 44   value_added_ag_forest_fish_annual_growth          float64\n",
      " 45   gfcf_share_in_total_gdp                           float64\n",
      " 46   ag_forest_fish_share_in_total_gdp                 float64\n",
      " 47   fdi_ag_forest_fish                                float64\n",
      " 48   fdi_food_industry                                 float64\n",
      " 49   total_fdi_inflows                                 float64\n",
      " 50   fdi_ag_forest_fish_share                          float64\n",
      " 51   fdi_food_industry_share                           float64\n",
      " 52   agri_orientation_index_govt_expenditure           float64\n",
      " 53   govt_expenditure_on_ag_forest_fish                float64\n",
      " 54   total_govt_expenditure                            float64\n",
      " 55   credit_to_ag_forest_fish                          float64\n",
      " 56   credit_to_ag_forest_fish_share_total_credit       float64\n",
      " 57   aoi_credit_to_ag_forest_fish                      float64\n",
      " 58   total_credit                                      float64\n",
      " 59   emission_share_farmgate                           float64\n",
      " 60   emission_share_land_use_change                    float64\n",
      " 61   emission_share_pre_and_post_production            float64\n",
      " 62   emission_share_end_to_end_agrifood                float64\n",
      " 63   emission_share_crops                              float64\n",
      " 64   emission_share_livestock                          float64\n",
      " 65   emission_share_ipcc_agriculture                   float64\n",
      " 66   emission_share_energy_use                         float64\n",
      " 67   emission_share_agri_waste_mgt                     float64\n",
      " 68   value_added_per_worker                            float64\n",
      " 69   employment_in_agri                                float64\n",
      " 70   agri_employment_share_in_total_employment         float64\n",
      " 71   total_employment_afs                              float64\n",
      " 72   afs_employment_share_in_total_employment          float64\n",
      " 73   rural_population                                  float64\n",
      " 74   urban_population                                  float64\n",
      " 75   total_population                                  float64\n",
      " 76   agri_trade_openness_index                         float64\n",
      " 77   share_of_agri_exports_to_gdp                      float64\n",
      " 78   nitrogen_agri_use                                 float64\n",
      " 79   nitrogen_export_quantity                          float64\n",
      " 80   nitrogen_import_quantity                          float64\n",
      " 81   nitrogen_production                               float64\n",
      " 82   nitrogen_use_per_area_of_cropland                 float64\n",
      " 83   nitrogen_use_per_capita                           float64\n",
      " 84   nitrogen_use_per_value_of_ag_production           float64\n",
      " 85   phosphorus_agri_use                               float64\n",
      " 86   phosphorus_export_quantity                        float64\n",
      " 87   phosphorus_import_quantity                        float64\n",
      " 88   phosphorus_production                             float64\n",
      " 89   phosphorus_use_per_area_of_cropland               float64\n",
      " 90   phosphorus_use_per_capita                         float64\n",
      " 91   phosphorus_use_per_value_of_ag_production         float64\n",
      " 92   potassium_agri_use                                float64\n",
      " 93   potassium_export_quantity                         float64\n",
      " 94   potassium_import_quantity                         float64\n",
      " 95   potassium_use_per_area_of_cropland                float64\n",
      " 96   potassium_use_per_capita                          float64\n",
      " 97   potassium_use_per_value_of_ag_production          float64\n",
      " 98   cropland_nitrogen_per_unit_area                   float64\n",
      " 99   cropland_nitrogen_use_efficiency                  float64\n",
      " 100  cropland_phosphorus_per_unit_area                 float64\n",
      " 101  cropland_phosphorus_use_efficiency                float64\n",
      " 102  cropland_potassium_per_unit_area                  float64\n",
      " 103  cropland_potassium_use_efficiency                 float64\n",
      " 104  total_pesticide_use_for_agriculture               float64\n",
      " 105  total_pesticide_use_per_area_of_cropland          float64\n",
      " 106  total_pesticide_use_per_capita                    float64\n",
      " 107  total_pesticide_use_per_value_of_agri_production  float64\n",
      " 108  total_pesticide_export_quantity                   float64\n",
      " 109  total_pesticide_export_value                      float64\n",
      " 110  total_pesticide_import_quantity                   float64\n",
      " 111  total_pesticide_import_value                      float64\n",
      " 112  temp_change_dec_jan_feb                           float64\n",
      " 113  temp_change_mar_apr_may                           float64\n",
      " 114  temp_change_jun_jul_aug                           float64\n",
      " 115  temp_change_sep_oct_nov                           float64\n",
      " 116  temp_change_meteorological_year                   float64\n",
      "dtypes: float64(111), int64(4), object(2)\n",
      "memory usage: 350.7+ MB\n"
     ]
    }
   ],
   "source": [
    "data.info(verbose=True)"
   ]
  },
  {
   "cell_type": "code",
   "execution_count": 10,
   "id": "24e42edc",
   "metadata": {},
   "outputs": [],
   "source": [
    "# Remove the row-limit so that any Series/DataFrame will print in full\n",
    "pd.set_option('display.max_rows', None)"
   ]
  },
  {
   "cell_type": "code",
   "execution_count": 11,
   "id": "1d9c8b97",
   "metadata": {},
   "outputs": [
    {
     "data": {
      "text/plain": [
       "area_code                                                0\n",
       "area                                                     0\n",
       "year_code                                                0\n",
       "year                                                     0\n",
       "item_code                                                0\n",
       "item                                                     0\n",
       "producer_price                                      234985\n",
       "producer_price_index                                  3062\n",
       "area_harvested                                      160052\n",
       "laying                                              383668\n",
       "milk_animals                                        378227\n",
       "producing_animals_or_slaughtered                    362410\n",
       "production                                           85041\n",
       "yield                                               137470\n",
       "yield_or_carcass_weight                             362643\n",
       "gross_production_value                              158536\n",
       "gross_production_index                              147600\n",
       "area_agri_land                                       24610\n",
       "area_arable_land                                     24576\n",
       "area_cropland                                        24576\n",
       "area_with_irrigation                                 32734\n",
       "area_permanent_crops                                 25505\n",
       "area_temporary_crops                                125418\n",
       "value_per_unit_agri_land                             24671\n",
       "cropland_area_per_capita                             24576\n",
       "export_quantity                                     190849\n",
       "export_value                                        190285\n",
       "import_quantity                                     180505\n",
       "import_value                                        180163\n",
       "export_market_concentration_index                   375024\n",
       "import_dependency_ratio                             374119\n",
       "import_market_concentration_index                   375213\n",
       "revealed_comparative_advantage_index                373017\n",
       "self_sufficiency_ratio                              374119\n",
       "terms_of_trade                                      377895\n",
       "export_quantity_index                               307602\n",
       "export_value_index                                  307030\n",
       "import_quantity_index                               292834\n",
       "import_value_index                                  292195\n",
       "gross_domestic_product                               12795\n",
       "gross_fixed_capital_formation                        12795\n",
       "value_added_ag_forest_fish                           12795\n",
       "gdp_annual_growth                                    12795\n",
       "gfcf_annual_growth                                   12795\n",
       "value_added_ag_forest_fish_annual_growth             12795\n",
       "gfcf_share_in_total_gdp                              12795\n",
       "ag_forest_fish_share_in_total_gdp                    12795\n",
       "fdi_ag_forest_fish                                  248666\n",
       "fdi_food_industry                                   287751\n",
       "total_fdi_inflows                                    21775\n",
       "fdi_ag_forest_fish_share                            248666\n",
       "fdi_food_industry_share                             287751\n",
       "agri_orientation_index_govt_expenditure             137549\n",
       "govt_expenditure_on_ag_forest_fish                  205637\n",
       "total_govt_expenditure                              137188\n",
       "credit_to_ag_forest_fish                            180364\n",
       "credit_to_ag_forest_fish_share_total_credit         180364\n",
       "aoi_credit_to_ag_forest_fish                        180364\n",
       "total_credit                                        125553\n",
       "emission_share_farmgate                              29429\n",
       "emission_share_land_use_change                       29429\n",
       "emission_share_pre_and_post_production               29429\n",
       "emission_share_end_to_end_agrifood                   29429\n",
       "emission_share_crops                                 29429\n",
       "emission_share_livestock                             29897\n",
       "emission_share_ipcc_agriculture                      29429\n",
       "emission_share_energy_use                            29429\n",
       "emission_share_agri_waste_mgt                        29429\n",
       "value_added_per_worker                               34044\n",
       "employment_in_agri                                   29007\n",
       "agri_employment_share_in_total_employment            31479\n",
       "total_employment_afs                                176072\n",
       "afs_employment_share_in_total_employment            184006\n",
       "rural_population                                         0\n",
       "urban_population                                         0\n",
       "total_population                                         0\n",
       "agri_trade_openness_index                           244878\n",
       "share_of_agri_exports_to_gdp                        244878\n",
       "nitrogen_agri_use                                    31327\n",
       "nitrogen_export_quantity                             26944\n",
       "nitrogen_import_quantity                             26863\n",
       "nitrogen_production                                 110939\n",
       "nitrogen_use_per_area_of_cropland                    31327\n",
       "nitrogen_use_per_capita                              31327\n",
       "nitrogen_use_per_value_of_ag_production              31388\n",
       "phosphorus_agri_use                                  37530\n",
       "phosphorus_export_quantity                           26911\n",
       "phosphorus_import_quantity                           26863\n",
       "phosphorus_production                               122243\n",
       "phosphorus_use_per_area_of_cropland                  37530\n",
       "phosphorus_use_per_capita                            37530\n",
       "phosphorus_use_per_value_of_ag_production            37591\n",
       "potassium_agri_use                                   40374\n",
       "potassium_export_quantity                            26966\n",
       "potassium_import_quantity                            26899\n",
       "potassium_use_per_area_of_cropland                   40374\n",
       "potassium_use_per_capita                             40374\n",
       "potassium_use_per_value_of_ag_production             40435\n",
       "cropland_nitrogen_per_unit_area                      27765\n",
       "cropland_nitrogen_use_efficiency                     27765\n",
       "cropland_phosphorus_per_unit_area                    27765\n",
       "cropland_phosphorus_use_efficiency                   27765\n",
       "cropland_potassium_per_unit_area                     27765\n",
       "cropland_potassium_use_efficiency                    27765\n",
       "total_pesticide_use_for_agriculture                  31306\n",
       "total_pesticide_use_per_area_of_cropland             31711\n",
       "total_pesticide_use_per_capita                       31306\n",
       "total_pesticide_use_per_value_of_agri_production     32315\n",
       "total_pesticide_export_quantity                      30510\n",
       "total_pesticide_export_value                         30510\n",
       "total_pesticide_import_quantity                      29760\n",
       "total_pesticide_import_value                         29760\n",
       "temp_change_dec_jan_feb                              19716\n",
       "temp_change_mar_apr_may                              18664\n",
       "temp_change_jun_jul_aug                              18962\n",
       "temp_change_sep_oct_nov                              20250\n",
       "temp_change_meteorological_year                      20428\n",
       "dtype: int64"
      ]
     },
     "execution_count": 11,
     "metadata": {},
     "output_type": "execute_result"
    }
   ],
   "source": [
    "# total number of missing values per column\n",
    "data.isna().sum()"
   ]
  },
  {
   "cell_type": "code",
   "execution_count": 12,
   "id": "280cb839",
   "metadata": {},
   "outputs": [
    {
     "data": {
      "text/plain": [
       "laying                                  97.661230\n",
       "milk_animals                            96.276244\n",
       "terms_of_trade                          96.191734\n",
       "import_market_concentration_index       95.509041\n",
       "export_market_concentration_index       95.460932\n",
       "self_sufficiency_ratio                  95.230568\n",
       "import_dependency_ratio                 95.230568\n",
       "revealed_comparative_advantage_index    94.950058\n",
       "yield_or_carcass_weight                 92.309396\n",
       "producing_animals_or_slaughtered        92.250087\n",
       "dtype: float64"
      ]
     },
     "execution_count": 12,
     "metadata": {},
     "output_type": "execute_result"
    }
   ],
   "source": [
    "# proportion of missing values for each column\n",
    "prop_na_merged = data.isna().mean().sort_values(ascending=False)*100\n",
    "prop_na_merged.head(10)"
   ]
  },
  {
   "cell_type": "code",
   "execution_count": 13,
   "id": "fe533d4f",
   "metadata": {},
   "outputs": [
    {
     "data": {
      "image/png": "[encoded data removed]",
      "text/plain": [
       "<Figure size 800x500 with 1 Axes>"
      ]
     },
     "metadata": {},
     "output_type": "display_data"
    }
   ],
   "source": [
    "# Histogram to better understand the proportion of missing values in the columns\n",
    "plt.figure(figsize=(8,5))\n",
    "\n",
    "# plot histogram and get the counts and bin edges\n",
    "counts, edges, bars = plt.hist(\n",
    "    prop_na_merged,\n",
    "    bins = list(range(0,101,10)),\n",
    "    alpha = 0.8,\n",
    "    edgecolor = 'black'\n",
    ")\n",
    "# add frequency labels above bars\n",
    "for count, edge in zip(counts, edges[:-1]):\n",
    "    plt.text(edge + 5, count + 0.5, str(int(count)), ha='center', fontsize=12)\n",
    "\n",
    "plt.title('Feature distribution: Before data cleaning/pre-processing', fontsize=14, fontweight='bold')\n",
    "plt.xlabel('Proportion of missing values (%)', fontsize=12, fontweight='bold')\n",
    "plt.ylabel('Number of features', fontsize=12, fontweight='bold')\n",
    "plt.xticks(list(range(0,101,10)), fontsize=12)\n",
    "plt.yticks(fontsize=12)\n",
    "plt.ylim(0,85)\n",
    "plt.grid(linestyle='--', alpha=0.5)\n",
    "\n",
    "# saving plot as png image\n",
    "plt.savefig('plots/feat_dist_pre_clean.png', dpi=360, bbox_inches='tight')\n",
    "\n",
    "plt.show()"
   ]
  },
  {
   "cell_type": "markdown",
   "id": "1bc04d65",
   "metadata": {},
   "source": [
    "Out of 117 features in the integrated dataset, 22 of them have missing values \n",
    "over 50%. Whereas, 75 features have missing values below 20%. There are 10 features \n",
    "with over 90% missing values. \n",
    "\n",
    "We have to deal with the missing values before we train our models. \n",
    "\n",
    "The top 10 columns having highest missing values are: \n",
    "\n",
    "1. laying                                  (97.66%)\n",
    "2. milk_animals                            (96.27%)\n",
    "3. terms_of_trade                          (96.19%)\n",
    "4. import_market_concentration_index       (95.50%)\n",
    "5. export_market_concentration_index       (95.46%)\n",
    "6. self_sufficiency_ratio                  (95.23%)\n",
    "7. import_dependency_ratio                 (95.23%)\n",
    "8. revealed_comparative_advantage_index    (94.95%)\n",
    "9. yield_or_carcass_weight                 (92.30%)\n",
    "10. producing_animals_or_slaughtered        (92.25%)\n",
    "\n",
    "We will definitely remove these 10 features having missing values over 90%. We don't have \n",
    "ways to safely impute so many missing values in a column without introducing bias. "
   ]
  },
  {
   "cell_type": "code",
   "execution_count": 37,
   "id": "0d6dcd0c",
   "metadata": {},
   "outputs": [
    {
     "data": {
      "text/plain": [
       "laying                                  97.661230\n",
       "milk_animals                            96.276244\n",
       "terms_of_trade                          96.191734\n",
       "import_market_concentration_index       95.509041\n",
       "export_market_concentration_index       95.460932\n",
       "self_sufficiency_ratio                  95.230568\n",
       "import_dependency_ratio                 95.230568\n",
       "revealed_comparative_advantage_index    94.950058\n",
       "yield_or_carcass_weight                 92.309396\n",
       "producing_animals_or_slaughtered        92.250087\n",
       "export_quantity_index                   78.298919\n",
       "export_value_index                      78.153318\n",
       "import_quantity_index                   74.539780\n",
       "import_value_index                      74.377125\n",
       "fdi_food_industry                       73.245922\n",
       "fdi_food_industry_share                 73.245922\n",
       "fdi_ag_forest_fish_share                63.296984\n",
       "fdi_ag_forest_fish                      63.296984\n",
       "share_of_agri_exports_to_gdp            62.332763\n",
       "agri_trade_openness_index               62.332763\n",
       "dtype: float64"
      ]
     },
     "execution_count": 37,
     "metadata": {},
     "output_type": "execute_result"
    }
   ],
   "source": [
    "# proportion of missing values for each column\n",
    "prop_na_merged = data.isna().mean().sort_values(ascending=False)*100\n",
    "prop_na_merged.head(20)"
   ]
  },
  {
   "cell_type": "markdown",
   "id": "0f42fc55",
   "metadata": {},
   "source": [
    "In addition to the 10 features with over 90% missing values, we also need to evaluate the 36 features with missing values between 10% and 90%. Our goal is to retain as many of these columns as possible, as we aim to minimize data loss.\n",
    "\n",
    "The strategy involves identifying patterns of missingness across these columns—specifically, whether the missing data is concentrated in certain rows. This approach is based on the assumption that for specific food items and countries, data may be consistently unavailable. By removing such rows, we may be able to preserve a greater number of these columns for analysis."
   ]
  },
  {
   "cell_type": "code",
   "execution_count": 15,
   "id": "8d1506d7",
   "metadata": {},
   "outputs": [
    {
     "data": {
      "text/plain": [
       "36"
      ]
     },
     "execution_count": 15,
     "metadata": {},
     "output_type": "execute_result"
    }
   ],
   "source": [
    "# Selecting the columns with missing values between 10 and 90 %\n",
    "feature_list_subset = list(prop_na_merged.loc[(prop_na_merged.values > 10) & (prop_na_merged.values < 90)].index)\n",
    "len(feature_list_subset)"
   ]
  },
  {
   "cell_type": "markdown",
   "id": "7662b47f",
   "metadata": {},
   "source": [
    "There are 36 columns out of 117 having missing data between 10% and 90%."
   ]
  },
  {
   "cell_type": "code",
   "execution_count": 16,
   "id": "97cd311f",
   "metadata": {},
   "outputs": [
    {
     "data": {
      "text/plain": [
       "['export_quantity_index',\n",
       " 'export_value_index',\n",
       " 'import_quantity_index',\n",
       " 'import_value_index',\n",
       " 'fdi_food_industry',\n",
       " 'fdi_food_industry_share']"
      ]
     },
     "execution_count": 16,
     "metadata": {},
     "output_type": "execute_result"
    }
   ],
   "source": [
    "feature_list_subset[0:6]"
   ]
  },
  {
   "cell_type": "markdown",
   "id": "62b5aa62",
   "metadata": {},
   "source": [
    "The original dataset contains a total of 166 countries and 202 items. To investigate the middle 36 columns—those with missing values ranging between 10% and 90%—we need to identify the specific countries and items for which these columns have available data. This step is essential to determine whether the overall missingness in these columns can be reduced by removing countries and items lacking sufficient data. However, this strategy may not always be feasible. Therefore, our first objective is to identify the countries and items that contribute most to the missing data in these 36 columns."
   ]
  },
  {
   "cell_type": "code",
   "execution_count": 17,
   "id": "1ecf4362",
   "metadata": {},
   "outputs": [
    {
     "name": "stdout",
     "output_type": "stream",
     "text": [
      "                                    Feature  Number_of_countries  Number_of_items\n",
      "                      export_quantity_index                  161               51\n",
      "                         export_value_index                  161               51\n",
      "                      import_quantity_index                  163               51\n",
      "                         import_value_index                  163               51\n",
      "                          fdi_food_industry                   71              197\n",
      "                    fdi_food_industry_share                   71              197\n",
      "                   fdi_ag_forest_fish_share                  101              201\n",
      "                         fdi_ag_forest_fish                  101              201\n",
      "               share_of_agri_exports_to_gdp                  156              202\n",
      "                  agri_trade_openness_index                  156              202\n",
      "                             producer_price                  162              185\n",
      "         govt_expenditure_on_ag_forest_fish                  154              202\n",
      "                            export_quantity                  164              157\n",
      "                               export_value                  164              157\n",
      "   afs_employment_share_in_total_employment                  123              202\n",
      "                            import_quantity                  165              158\n",
      "               aoi_credit_to_ag_forest_fish                  118              202\n",
      "                   credit_to_ag_forest_fish                  118              202\n",
      "credit_to_ag_forest_fish_share_total_credit                  118              202\n",
      "                               import_value                  165              158\n",
      "                       total_employment_afs                  130              202\n",
      "                             area_harvested                  166              145\n",
      "                     gross_production_value                  158              170\n",
      "                     gross_production_index                  164              155\n",
      "    agri_orientation_index_govt_expenditure                  163              202\n",
      "                                      yield                  166              153\n",
      "                     total_govt_expenditure                  163              202\n",
      "                               total_credit                  118              202\n",
      "                       area_temporary_crops                  166              202\n",
      "                      phosphorus_production                  165              202\n",
      "                        nitrogen_production                  165              202\n",
      "                                 production                  166              179\n",
      "   potassium_use_per_value_of_ag_production                  166              202\n",
      "                         potassium_agri_use                  166              202\n",
      "                   potassium_use_per_capita                  166              202\n",
      "         potassium_use_per_area_of_cropland                  166              202\n"
     ]
    }
   ],
   "source": [
    "# Initialize empty lists to store the number of countries and items with \n",
    "# non-missing values for each of the 36 selected columns\n",
    "Number_of_countries = []\n",
    "Number_of_items = []\n",
    "\n",
    "# Iterate over each feature in the selected subset of features\n",
    "for feature in feature_list_subset:\n",
    "    # count number of unique countries where this feature is not missing\n",
    "    num_of_countries = len(data.loc[data[feature].notna()]['area'].unique())\n",
    "    Number_of_countries.append(num_of_countries)\n",
    "\n",
    "    # count number of unique items where this feature is not missing\n",
    "    num_of_items = len(data.loc[data[feature].notna()]['item'].unique())\n",
    "    Number_of_items.append(num_of_items)\n",
    "\n",
    "# create a dataframe to summarize the number of non-missing countries and items \n",
    "# for each feature\n",
    "df = pd.DataFrame({\n",
    "    'Feature': feature_list_subset,\n",
    "    'Number_of_countries': Number_of_countries,\n",
    "    'Number_of_items': Number_of_items\n",
    "})\n",
    "\n",
    "# print the entire dataframe without row indices\n",
    "print(df.to_string(index=False))"
   ]
  },
  {
   "cell_type": "markdown",
   "id": "4dd4aa60",
   "metadata": {},
   "source": [
    "As shown in the dataframe above, which summarizes the middle 36 features out of a total of 117 in our integrated dataset, we can begin to assess which of these columns are worth retaining and which might need to be removed.\n",
    "\n",
    "For each of the 36 columns, we have listed the number of countries and items for which data (atleast some) is available. This was important because the missing values in these columns are associated with specific combinations of countries and items.\n",
    "\n",
    "The dataset contains 166 countries and 202 items in total. For example, the column \"fdi_ag_forest_fish\" has approximately 63% missing values. Upon inspection, it has data for only 101 countries but covers almost all items, suggesting that the missingness is primarily due to the absence of country-level data.\n",
    "\n",
    "In contrast, some other columns with high missingness have data for as few as 51 items, indicating that they are largely incomplete at the item level. These columns are strong candidates for removal, as imputing such a large volume of missing values may not be justified.\n",
    "\n",
    "However, before discarding these columns entirely, one possible strategy is to remove rows related to animal and animal product items. This makes logical sense, as four of the top 10 features with more than 90% missing data were related to such items—specifically: 'laying', 'milk_animals', 'yield_or_carcass_weight', and 'producing_animals_or_slaughtered'.\n",
    "\n",
    "Therefore, the next step is to identify and remove rows corresponding to these items and any countries with systematically missing data, in an effort to preserve more features for analysis."
   ]
  },
  {
   "cell_type": "markdown",
   "id": "bcdf84e5",
   "metadata": {},
   "source": [
    "### Removing undesired items"
   ]
  },
  {
   "cell_type": "markdown",
   "id": "de7c4511",
   "metadata": {},
   "source": [
    "Let's begin by focusing on the columns that have data available for 150 to 190 items. We aim to retain these columns by selectively removing specific items for which most of these columns lack data.\n",
    "\n",
    "On the other hand, columns with data for fewer than 100 items will be dropped, as removing a large number of items or imputing such extensive missing data is not desirable. Columns that contain data for more than 190 items are considered reliable and will be retained without modification."
   ]
  },
  {
   "cell_type": "code",
   "execution_count": 18,
   "id": "50fe25ea",
   "metadata": {},
   "outputs": [
    {
     "data": {
      "text/html": [
       "<div>\n",
       "<style scoped>\n",
       "    .dataframe tbody tr th:only-of-type {\n",
       "        vertical-align: middle;\n",
       "    }\n",
       "\n",
       "    .dataframe tbody tr th {\n",
       "        vertical-align: top;\n",
       "    }\n",
       "\n",
       "    .dataframe thead th {\n",
       "        text-align: right;\n",
       "    }\n",
       "</style>\n",
       "<table border=\"1\" class=\"dataframe\">\n",
       "  <thead>\n",
       "    <tr style=\"text-align: right;\">\n",
       "      <th></th>\n",
       "      <th>Feature</th>\n",
       "      <th>Number_of_countries</th>\n",
       "      <th>Number_of_items</th>\n",
       "    </tr>\n",
       "  </thead>\n",
       "  <tbody>\n",
       "    <tr>\n",
       "      <th>10</th>\n",
       "      <td>producer_price</td>\n",
       "      <td>162</td>\n",
       "      <td>185</td>\n",
       "    </tr>\n",
       "    <tr>\n",
       "      <th>12</th>\n",
       "      <td>export_quantity</td>\n",
       "      <td>164</td>\n",
       "      <td>157</td>\n",
       "    </tr>\n",
       "    <tr>\n",
       "      <th>13</th>\n",
       "      <td>export_value</td>\n",
       "      <td>164</td>\n",
       "      <td>157</td>\n",
       "    </tr>\n",
       "    <tr>\n",
       "      <th>15</th>\n",
       "      <td>import_quantity</td>\n",
       "      <td>165</td>\n",
       "      <td>158</td>\n",
       "    </tr>\n",
       "    <tr>\n",
       "      <th>19</th>\n",
       "      <td>import_value</td>\n",
       "      <td>165</td>\n",
       "      <td>158</td>\n",
       "    </tr>\n",
       "    <tr>\n",
       "      <th>22</th>\n",
       "      <td>gross_production_value</td>\n",
       "      <td>158</td>\n",
       "      <td>170</td>\n",
       "    </tr>\n",
       "    <tr>\n",
       "      <th>23</th>\n",
       "      <td>gross_production_index</td>\n",
       "      <td>164</td>\n",
       "      <td>155</td>\n",
       "    </tr>\n",
       "    <tr>\n",
       "      <th>25</th>\n",
       "      <td>yield</td>\n",
       "      <td>166</td>\n",
       "      <td>153</td>\n",
       "    </tr>\n",
       "    <tr>\n",
       "      <th>31</th>\n",
       "      <td>production</td>\n",
       "      <td>166</td>\n",
       "      <td>179</td>\n",
       "    </tr>\n",
       "  </tbody>\n",
       "</table>\n",
       "</div>"
      ],
      "text/plain": [
       "                   Feature  Number_of_countries  Number_of_items\n",
       "10          producer_price                  162              185\n",
       "12         export_quantity                  164              157\n",
       "13            export_value                  164              157\n",
       "15         import_quantity                  165              158\n",
       "19            import_value                  165              158\n",
       "22  gross_production_value                  158              170\n",
       "23  gross_production_index                  164              155\n",
       "25                   yield                  166              153\n",
       "31              production                  166              179"
      ]
     },
     "execution_count": 18,
     "metadata": {},
     "output_type": "execute_result"
    }
   ],
   "source": [
    "# filtering rows where number of items lie between 150 and 190\n",
    "df_items = df.loc[(df['Number_of_items'] > 150) & (df['Number_of_items'] < 190)]\n",
    "df_items"
   ]
  },
  {
   "cell_type": "code",
   "execution_count": 19,
   "id": "5503e95d",
   "metadata": {},
   "outputs": [
    {
     "data": {
      "text/plain": [
       "['Raw milk of cattle',\n",
       " 'Meat of cattle with the bone, fresh or chilled (biological)',\n",
       " 'Meat of sheep, fresh or chilled',\n",
       " 'Raw milk of sheep',\n",
       " 'Shorn wool, greasy, including fleece-washed shorn wool',\n",
       " 'Meat of sheep, fresh or chilled (biological)',\n",
       " 'Raw milk of goats',\n",
       " 'Meat of pig with the bone, fresh or chilled',\n",
       " 'Meat of pig with the bone, fresh or chilled (biological)',\n",
       " 'Pulses, Total',\n",
       " 'Meat of chickens, fresh or chilled',\n",
       " 'Hen eggs in shell, fresh',\n",
       " 'Meat of chickens, fresh or chilled (biological)',\n",
       " 'Meat of rabbits and hares, fresh or chilled',\n",
       " 'Meat of rabbits and hares, fresh or chilled (biological)',\n",
       " 'Natural honey',\n",
       " 'Cereals, primary',\n",
       " 'Roots and Tubers, Total',\n",
       " 'Treenuts, Total',\n",
       " 'Vegetables Primary']"
      ]
     },
     "execution_count": 19,
     "metadata": {},
     "output_type": "execute_result"
    }
   ],
   "source": [
    "items = list(data['item'].unique())\n",
    "items[40:60]"
   ]
  },
  {
   "cell_type": "code",
   "execution_count": 20,
   "id": "16ddb2f1",
   "metadata": {},
   "outputs": [
    {
     "name": "stdout",
     "output_type": "stream",
     "text": [
      "Number of animal related items: 43\n"
     ]
    }
   ],
   "source": [
    "# removing items related to animals or animal-based products\n",
    "keywords = [\n",
    "    'meat', 'milk', 'eggs', 'wool', 'leather', 'animals', 'birds', 'cattle', \n",
    "    'honey', 'silk-worm', 'livestock', 'beeswax'\n",
    "]\n",
    "\n",
    "animal_related_items = []\n",
    "\n",
    "for item in items:\n",
    "    if any(keyword in item.lower() for keyword in keywords):\n",
    "        animal_related_items.append(item)\n",
    "\n",
    "print(f\"Number of animal related items: {len(animal_related_items)}\")\n",
    "\n"
   ]
  },
  {
   "cell_type": "code",
   "execution_count": 79,
   "id": "3129ecaa",
   "metadata": {},
   "outputs": [
    {
     "data": {
      "text/plain": [
       "['Meat of cattle with the bone, fresh or chilled',\n",
       " 'Raw milk of cattle',\n",
       " 'Meat of cattle with the bone, fresh or chilled (biological)',\n",
       " 'Meat of sheep, fresh or chilled',\n",
       " 'Raw milk of sheep',\n",
       " 'Shorn wool, greasy, including fleece-washed shorn wool',\n",
       " 'Meat of sheep, fresh or chilled (biological)',\n",
       " 'Raw milk of goats',\n",
       " 'Meat of pig with the bone, fresh or chilled',\n",
       " 'Meat of pig with the bone, fresh or chilled (biological)']"
      ]
     },
     "execution_count": 79,
     "metadata": {},
     "output_type": "execute_result"
    }
   ],
   "source": [
    "animal_related_items[0:10]"
   ]
  },
  {
   "cell_type": "code",
   "execution_count": 21,
   "id": "19eb6252",
   "metadata": {},
   "outputs": [
    {
     "data": {
      "text/plain": [
       "159"
      ]
     },
     "execution_count": 21,
     "metadata": {},
     "output_type": "execute_result"
    }
   ],
   "source": [
    "# filtering rows by excluding animal related items\n",
    "filtered_data_1 = data.loc[~data['item'].isin(animal_related_items)]\n",
    "len(filtered_data_1['item'].unique())"
   ]
  },
  {
   "cell_type": "code",
   "execution_count": 22,
   "id": "366c68e8",
   "metadata": {},
   "outputs": [
    {
     "data": {
      "text/plain": [
       "31"
      ]
     },
     "execution_count": 22,
     "metadata": {},
     "output_type": "execute_result"
    }
   ],
   "source": [
    "# list of problematic features (items between 150 and 190) \n",
    "features_items = list(df_items['Feature'].unique())\n",
    "\n",
    "# initializing an empty list for the items to be removed\n",
    "items_to_remove = []\n",
    "\n",
    "for feature in features_items:\n",
    "    # list containing items for which the corresponding features has at least some data\n",
    "    item_list = list(filtered_data_1.loc[filtered_data_1[feature].notna()]['item'].unique())\n",
    "    # list of total items\n",
    "    total_items = list(filtered_data_1['item'].unique())\n",
    "    # list of items for which the feature has no data at all\n",
    "    remaining_items = list(set(total_items) - set(item_list))\n",
    "    # adding these to the list of items to be removed\n",
    "    items_to_remove += remaining_items\n",
    "\n",
    "# converting list to set in order to keep unique items only\n",
    "items_to_remove = set(items_to_remove)\n",
    "len(items_to_remove)"
   ]
  },
  {
   "cell_type": "code",
   "execution_count": 548,
   "id": "32a641fa",
   "metadata": {},
   "outputs": [
    {
     "data": {
      "text/plain": [
       "['String beans',\n",
       " 'Brazil nuts, in shell',\n",
       " 'Cereals, primary',\n",
       " 'Citrus Fruit, Total',\n",
       " 'Bananas cavendish',\n",
       " 'Vegetables&Melons, Total',\n",
       " 'Agriculture',\n",
       " 'Cashewapple',\n",
       " 'Flax, processed but not spun',\n",
       " 'Peppermint, spearmint',\n",
       " 'Ramie, raw or retted',\n",
       " 'Tung nuts',\n",
       " 'Mushrooms and truffles',\n",
       " 'Palm oil',\n",
       " 'Oilcrops, Oil Equivalent',\n",
       " 'Vegetables Primary',\n",
       " 'Agave fibres, raw, n.e.c.',\n",
       " 'Cotton seed',\n",
       " 'Fruit excl Melons, Total',\n",
       " 'Cotton lint, ginned',\n",
       " 'Fruit Primary',\n",
       " 'Coarse Grain, Total',\n",
       " 'Jute & Jute-like Fibres',\n",
       " 'Palm kernels',\n",
       " 'Pulses, Total',\n",
       " 'True hemp, raw or retted',\n",
       " 'Roots and Tubers, Total',\n",
       " 'Treenuts, Total',\n",
       " 'Plantains',\n",
       " 'Oil palm fruit',\n",
       " 'Seed cotton, unginned']"
      ]
     },
     "execution_count": 548,
     "metadata": {},
     "output_type": "execute_result"
    }
   ],
   "source": [
    "# converting set back to list\n",
    "items_to_remove = list(items_to_remove)\n",
    "items_to_remove"
   ]
  },
  {
   "cell_type": "code",
   "execution_count": 23,
   "id": "8ea045ba",
   "metadata": {},
   "outputs": [
    {
     "data": {
      "text/plain": [
       "item\n",
       "True hemp, raw or retted     101\n",
       "Peppermint, spearmint        102\n",
       "Quinoa                       102\n",
       "Maté leaves                  102\n",
       "Cashewapple                  102\n",
       "Kola nuts                    116\n",
       "Bambara beans, dry           118\n",
       "Bananas cavendish            131\n",
       "Abaca, manila hemp, raw      136\n",
       "Brazil nuts, in shell        136\n",
       "Ramie, raw or retted         136\n",
       "Pyrethrum, dried flowers     136\n",
       "Agave fibres, raw, n.e.c.    170\n",
       "Plantains                    198\n",
       "Tung nuts                    199\n",
       "Name: count, dtype: int64"
      ]
     },
     "execution_count": 23,
     "metadata": {},
     "output_type": "execute_result"
    }
   ],
   "source": [
    "# filtering the items where there is least amount of data\n",
    "filtered_data_1['item'].value_counts().sort_values(ascending=True).head(15)"
   ]
  },
  {
   "cell_type": "code",
   "execution_count": 24,
   "id": "899fcbec",
   "metadata": {},
   "outputs": [
    {
     "data": {
      "text/plain": [
       "25"
      ]
     },
     "execution_count": 24,
     "metadata": {},
     "output_type": "execute_result"
    }
   ],
   "source": [
    "# keeping certain items from the list of items to be removed. \n",
    "# These are important items having significant amount of data for other columns.\n",
    "items_to_keep = [\n",
    "    'Oilcrops, Oil Equivalent', 'Cotton seed', 'Cotton lint, ginned',\n",
    "    'Seed cotton, unginned', 'Palm oil', 'Flax, processed but not spun'\n",
    "    ]\n",
    "\n",
    "items_to_remove = list(set(items_to_remove) - set(items_to_keep))\n",
    "len(items_to_remove)"
   ]
  },
  {
   "cell_type": "code",
   "execution_count": 28,
   "id": "34188aad",
   "metadata": {},
   "outputs": [
    {
     "data": {
      "text/plain": [
       "134"
      ]
     },
     "execution_count": 28,
     "metadata": {},
     "output_type": "execute_result"
    }
   ],
   "source": [
    "# filtering rows by excluding the items in the items_to_remove list\n",
    "filtered_data_2 = filtered_data_1.loc[\n",
    "    (~filtered_data_1['item'].isin(items_to_remove))\n",
    "]\n",
    "\n",
    "len(filtered_data_2['item'].unique())"
   ]
  },
  {
   "cell_type": "markdown",
   "id": "da9fa88a",
   "metadata": {},
   "source": [
    "So, we end up retaining 134 items out of the total 202 items in the dataset."
   ]
  },
  {
   "cell_type": "markdown",
   "id": "12c26865",
   "metadata": {},
   "source": [
    "### Removing problematic countries (significant amount of missing data)"
   ]
  },
  {
   "cell_type": "markdown",
   "id": "59e3d1db",
   "metadata": {},
   "source": [
    "Just as we removed undesired items earlier, we will now identify and remove certain countries that have substantial missing data across key features. To begin, we will focus on features that contain data for 100 to 131 countries. These features will help us pinpoint countries with significant missing values across most variables.\n",
    "\n",
    "Features with data available for fewer than 100 countries will be excluded, as retaining them would require removing too many countries from our dataset or performing extensive imputation—both of which we aim to avoid. "
   ]
  },
  {
   "cell_type": "code",
   "execution_count": 30,
   "id": "9b9659ba",
   "metadata": {},
   "outputs": [
    {
     "data": {
      "text/plain": [
       "['credit_to_ag_forest_fish', 'afs_employment_share_in_total_employment']"
      ]
     },
     "execution_count": 30,
     "metadata": {},
     "output_type": "execute_result"
    }
   ],
   "source": [
    "# creating list of features having at least some data for 100 to 131 countries\n",
    "req_features = [\n",
    "    'credit_to_ag_forest_fish',\n",
    "    'afs_employment_share_in_total_employment'\n",
    "    ]\n",
    "req_features"
   ]
  },
  {
   "cell_type": "code",
   "execution_count": 31,
   "id": "51a70c53",
   "metadata": {},
   "outputs": [
    {
     "name": "stdout",
     "output_type": "stream",
     "text": [
      "Total number of unique countries with missing values for at least one of these columns: 74\n"
     ]
    }
   ],
   "source": [
    "# Initialize a counter to keep track of how many times each country appears with\n",
    "#  missing data\n",
    "country_missing_count = Counter()\n",
    "\n",
    "# Initialize a set to store all unique countries that have missing values for \n",
    "# at least one feature\n",
    "problem_countries = set()\n",
    "\n",
    "# Iterate through each feature of interest\n",
    "for feature in req_features:\n",
    "    # Group the dataset by 'area' (i.e., country), and check if all values \n",
    "    # for this feature are missing within each country\n",
    "    missing_countries = filtered_data_2.groupby('area')[feature].apply(\n",
    "        lambda x: x.isna().all()\n",
    "    )\n",
    "\n",
    "    # Extract the list of countries where all values for the current feature are \n",
    "    # missing\n",
    "    nan_countries = missing_countries.loc[missing_countries == True].index.tolist()\n",
    "\n",
    "    # Add these countries to the set of problem countries\n",
    "    problem_countries.update(nan_countries)\n",
    "\n",
    "    # Update the counter with countries having all missing values for this feature\n",
    "    country_missing_count.update(nan_countries)\n",
    "\n",
    "print(\n",
    "    f\"Total number of unique countries with missing values for at least one \"\n",
    "    f\"of these columns: {len(problem_countries)}\"\n",
    "    )\n"
   ]
  },
  {
   "cell_type": "markdown",
   "id": "8e0893ef",
   "metadata": {},
   "source": [
    "Out of the 166 countries in the dataset, 74 have all data missing for at least one of the 2 features of interest. However, we will not remove all of these countries. Instead, we will apply a threshold: any country missing data for values in both the features will be removed from the dataset."
   ]
  },
  {
   "cell_type": "code",
   "execution_count": 32,
   "id": "08087fb5",
   "metadata": {},
   "outputs": [
    {
     "name": "stdout",
     "output_type": "stream",
     "text": [
      "dict_items([('Algeria', 2), ('Brunei Darussalam', 1), ('Cameroon', 2), ('Central African Republic', 2), ('Chad', 1), ('Chile', 1), ('China, Hong Kong SAR', 1), ('Colombia', 1), ('Congo', 2), ('Cook Islands', 1), ('Croatia', 1), ('Cuba', 2), ('Denmark', 1), ('Equatorial Guinea', 2), ('Eritrea', 2), ('Fiji', 1), ('Guinea', 2), ('Iceland', 1), ('Kuwait', 2), (\"Lao People's Democratic Republic\", 1), ('Latvia', 1), ('Lithuania', 1), ('Luxembourg', 1), ('Madagascar', 1), ('Malta', 1), ('Mauritius', 1), ('Mongolia', 1), ('Myanmar', 1), ('New Caledonia', 1), ('North Macedonia', 1), ('Norway', 1), ('Palestine', 1), ('Paraguay', 2), ('Poland', 1), ('Portugal', 1), ('Puerto Rico', 2), ('Romania', 1), ('Samoa', 1), ('Saudi Arabia', 2), ('Serbia and Montenegro', 2), ('Sierra Leone', 1), ('Slovenia', 1), ('South Africa', 1), ('Sudan (former)', 2), ('Sweden', 1), ('Turkmenistan', 2), ('Uzbekistan', 2), ('Venezuela (Bolivarian Republic of)', 2), ('Antigua and Barbuda', 1), ('Azerbaijan', 1), ('Bahrain', 1), ('Belize', 1), ('Benin', 1), ('Burkina Faso', 1), ('Kazakhstan', 1), ('Malawi', 1), ('Malaysia', 1), ('Morocco', 1), ('New Zealand', 1), ('Oman', 1), ('Qatar', 1), ('Republic of Moldova', 1), ('Russian Federation', 1), ('Rwanda', 1), ('Saint Kitts and Nevis', 1), ('Saint Lucia', 1), ('Saint Vincent and the Grenadines', 1), ('Syrian Arab Republic', 1), ('Uruguay', 1), ('Vanuatu', 1), ('Viet Nam', 1), ('Yemen', 1), ('Zambia', 1), ('Zimbabwe', 1)])\n"
     ]
    }
   ],
   "source": [
    "print(country_missing_count.items())"
   ]
  },
  {
   "cell_type": "code",
   "execution_count": 33,
   "id": "0b513b68",
   "metadata": {},
   "outputs": [
    {
     "name": "stdout",
     "output_type": "stream",
     "text": [
      "Total number of countries to be removed: 17\n",
      "['Algeria', 'Cameroon', 'Central African Republic', 'Congo', 'Cuba', 'Equatorial Guinea', 'Eritrea', 'Guinea', 'Kuwait', 'Paraguay', 'Puerto Rico', 'Saudi Arabia', 'Serbia and Montenegro', 'Sudan (former)', 'Turkmenistan', 'Uzbekistan', 'Venezuela (Bolivarian Republic of)']\n"
     ]
    }
   ],
   "source": [
    "# Set the threshold to remove countries\n",
    "threshold = 1\n",
    "\n",
    "# Initialize a list to store the countries that exceed the missing data threshold\n",
    "countries_to_remove = []\n",
    "\n",
    "# Iterate through the dictionary of countries and their corresponding missing feature counts\n",
    "for country, count in country_missing_count.items():\n",
    "    # If a country is missing all data for more than 1 features, mark it for removal\n",
    "    if count > threshold:\n",
    "        countries_to_remove.append(country)\n",
    "\n",
    "print(\n",
    "    f\"Total number of countries to be removed: {len(countries_to_remove)}\"\n",
    ")\n",
    "\n",
    "print(countries_to_remove)"
   ]
  },
  {
   "cell_type": "code",
   "execution_count": 34,
   "id": "b1186eee",
   "metadata": {},
   "outputs": [
    {
     "data": {
      "text/plain": [
       "149"
      ]
     },
     "execution_count": 34,
     "metadata": {},
     "output_type": "execute_result"
    }
   ],
   "source": [
    "# Filter rows to exclude countries in the countries_to_remove list\n",
    "filtered_data_3 = filtered_data_2.loc[~(filtered_data_2['area'].isin(countries_to_remove))]\n",
    "len(filtered_data_3['area'].unique())"
   ]
  },
  {
   "cell_type": "markdown",
   "id": "ac691b86",
   "metadata": {},
   "source": [
    "So, finally we end up retaining 149 countries out of the 166 total countries."
   ]
  },
  {
   "cell_type": "code",
   "execution_count": 38,
   "id": "09c56dc4",
   "metadata": {},
   "outputs": [
    {
     "data": {
      "text/plain": [
       "yield_or_carcass_weight                        100.000000\n",
       "laying                                         100.000000\n",
       "producing_animals_or_slaughtered               100.000000\n",
       "milk_animals                                   100.000000\n",
       "terms_of_trade                                  93.640465\n",
       "import_market_concentration_index               92.602580\n",
       "export_market_concentration_index               92.520592\n",
       "self_sufficiency_ratio                          92.141456\n",
       "import_dependency_ratio                         92.141456\n",
       "revealed_comparative_advantage_index            91.663744\n",
       "export_quantity_index                           73.276589\n",
       "export_value_index                              73.177066\n",
       "fdi_food_industry                               71.178545\n",
       "fdi_food_industry_share                         71.178545\n",
       "import_quantity_index                           70.408898\n",
       "import_value_index                              70.298001\n",
       "share_of_agri_exports_to_gdp                    60.970778\n",
       "agri_trade_openness_index                       60.970778\n",
       "fdi_ag_forest_fish                              60.389752\n",
       "fdi_ag_forest_fish_share                        60.389752\n",
       "govt_expenditure_on_ag_forest_fish              50.000000\n",
       "producer_price                                  45.325251\n",
       "afs_employment_share_in_total_employment        42.631489\n",
       "aoi_credit_to_ag_forest_fish                    41.298352\n",
       "credit_to_ag_forest_fish_share_total_credit     41.298352\n",
       "credit_to_ag_forest_fish                        41.298352\n",
       "total_employment_afs                            40.752396\n",
       "agri_orientation_index_govt_expenditure         33.370615\n",
       "total_govt_expenditure                          33.291944\n",
       "area_temporary_crops                            31.785826\n",
       "dtype: float64"
      ]
     },
     "execution_count": 38,
     "metadata": {},
     "output_type": "execute_result"
    }
   ],
   "source": [
    "# proportion of missing values for each column\n",
    "prop_na_filtered_3 = filtered_data_3.isna().mean().sort_values(ascending=False)*100\n",
    "prop_na_filtered_3.head(30)"
   ]
  },
  {
   "cell_type": "code",
   "execution_count": 39,
   "id": "badca377",
   "metadata": {},
   "outputs": [
    {
     "data": {
      "text/plain": [
       "['yield_or_carcass_weight',\n",
       " 'laying',\n",
       " 'producing_animals_or_slaughtered',\n",
       " 'milk_animals',\n",
       " 'terms_of_trade',\n",
       " 'import_market_concentration_index',\n",
       " 'export_market_concentration_index',\n",
       " 'self_sufficiency_ratio',\n",
       " 'import_dependency_ratio',\n",
       " 'revealed_comparative_advantage_index',\n",
       " 'export_quantity_index',\n",
       " 'export_value_index',\n",
       " 'fdi_food_industry',\n",
       " 'fdi_food_industry_share',\n",
       " 'import_quantity_index',\n",
       " 'import_value_index',\n",
       " 'share_of_agri_exports_to_gdp',\n",
       " 'agri_trade_openness_index',\n",
       " 'fdi_ag_forest_fish',\n",
       " 'fdi_ag_forest_fish_share']"
      ]
     },
     "execution_count": 39,
     "metadata": {},
     "output_type": "execute_result"
    }
   ],
   "source": [
    "# Removing the top 17 features with significantly high amounts of missing data\n",
    "columns_to_drop = list(prop_na_filtered_3.keys()[0:20])\n",
    "columns_to_drop"
   ]
  },
  {
   "cell_type": "code",
   "execution_count": 40,
   "id": "ed6ee437",
   "metadata": {},
   "outputs": [
    {
     "data": {
      "text/plain": [
       "(211006, 97)"
      ]
     },
     "execution_count": 40,
     "metadata": {},
     "output_type": "execute_result"
    }
   ],
   "source": [
    "# Dropping the undesired columns from that dataset\n",
    "filtered_data_4 = filtered_data_3.drop(columns_to_drop, axis = 1)\n",
    "filtered_data_4.shape"
   ]
  },
  {
   "cell_type": "code",
   "execution_count": 41,
   "id": "6601074e",
   "metadata": {},
   "outputs": [
    {
     "data": {
      "text/html": [
       "<div>\n",
       "<style scoped>\n",
       "    .dataframe tbody tr th:only-of-type {\n",
       "        vertical-align: middle;\n",
       "    }\n",
       "\n",
       "    .dataframe tbody tr th {\n",
       "        vertical-align: top;\n",
       "    }\n",
       "\n",
       "    .dataframe thead th {\n",
       "        text-align: right;\n",
       "    }\n",
       "</style>\n",
       "<table border=\"1\" class=\"dataframe\">\n",
       "  <thead>\n",
       "    <tr style=\"text-align: right;\">\n",
       "      <th></th>\n",
       "      <th>Feature</th>\n",
       "      <th>Num_of_countries</th>\n",
       "      <th>Num_of_items</th>\n",
       "    </tr>\n",
       "  </thead>\n",
       "  <tbody>\n",
       "    <tr>\n",
       "      <th>0</th>\n",
       "      <td>govt_expenditure_on_ag_forest_fish</td>\n",
       "      <td>142</td>\n",
       "      <td>134</td>\n",
       "    </tr>\n",
       "    <tr>\n",
       "      <th>1</th>\n",
       "      <td>producer_price</td>\n",
       "      <td>146</td>\n",
       "      <td>133</td>\n",
       "    </tr>\n",
       "    <tr>\n",
       "      <th>2</th>\n",
       "      <td>afs_employment_share_in_total_employment</td>\n",
       "      <td>123</td>\n",
       "      <td>134</td>\n",
       "    </tr>\n",
       "    <tr>\n",
       "      <th>3</th>\n",
       "      <td>credit_to_ag_forest_fish_share_total_credit</td>\n",
       "      <td>118</td>\n",
       "      <td>134</td>\n",
       "    </tr>\n",
       "    <tr>\n",
       "      <th>4</th>\n",
       "      <td>credit_to_ag_forest_fish</td>\n",
       "      <td>118</td>\n",
       "      <td>134</td>\n",
       "    </tr>\n",
       "    <tr>\n",
       "      <th>5</th>\n",
       "      <td>aoi_credit_to_ag_forest_fish</td>\n",
       "      <td>118</td>\n",
       "      <td>134</td>\n",
       "    </tr>\n",
       "    <tr>\n",
       "      <th>6</th>\n",
       "      <td>total_employment_afs</td>\n",
       "      <td>129</td>\n",
       "      <td>134</td>\n",
       "    </tr>\n",
       "    <tr>\n",
       "      <th>7</th>\n",
       "      <td>agri_orientation_index_govt_expenditure</td>\n",
       "      <td>149</td>\n",
       "      <td>134</td>\n",
       "    </tr>\n",
       "    <tr>\n",
       "      <th>8</th>\n",
       "      <td>total_govt_expenditure</td>\n",
       "      <td>149</td>\n",
       "      <td>134</td>\n",
       "    </tr>\n",
       "    <tr>\n",
       "      <th>9</th>\n",
       "      <td>area_temporary_crops</td>\n",
       "      <td>149</td>\n",
       "      <td>134</td>\n",
       "    </tr>\n",
       "    <tr>\n",
       "      <th>10</th>\n",
       "      <td>phosphorus_production</td>\n",
       "      <td>149</td>\n",
       "      <td>134</td>\n",
       "    </tr>\n",
       "    <tr>\n",
       "      <th>11</th>\n",
       "      <td>export_quantity</td>\n",
       "      <td>149</td>\n",
       "      <td>132</td>\n",
       "    </tr>\n",
       "    <tr>\n",
       "      <th>12</th>\n",
       "      <td>export_value</td>\n",
       "      <td>149</td>\n",
       "      <td>132</td>\n",
       "    </tr>\n",
       "    <tr>\n",
       "      <th>13</th>\n",
       "      <td>gross_production_value</td>\n",
       "      <td>145</td>\n",
       "      <td>129</td>\n",
       "    </tr>\n",
       "    <tr>\n",
       "      <th>14</th>\n",
       "      <td>total_credit</td>\n",
       "      <td>118</td>\n",
       "      <td>134</td>\n",
       "    </tr>\n",
       "    <tr>\n",
       "      <th>15</th>\n",
       "      <td>nitrogen_production</td>\n",
       "      <td>149</td>\n",
       "      <td>134</td>\n",
       "    </tr>\n",
       "    <tr>\n",
       "      <th>16</th>\n",
       "      <td>import_quantity</td>\n",
       "      <td>149</td>\n",
       "      <td>132</td>\n",
       "    </tr>\n",
       "    <tr>\n",
       "      <th>17</th>\n",
       "      <td>import_value</td>\n",
       "      <td>149</td>\n",
       "      <td>132</td>\n",
       "    </tr>\n",
       "    <tr>\n",
       "      <th>18</th>\n",
       "      <td>gross_production_index</td>\n",
       "      <td>149</td>\n",
       "      <td>129</td>\n",
       "    </tr>\n",
       "    <tr>\n",
       "      <th>19</th>\n",
       "      <td>yield</td>\n",
       "      <td>149</td>\n",
       "      <td>130</td>\n",
       "    </tr>\n",
       "    <tr>\n",
       "      <th>20</th>\n",
       "      <td>area_harvested</td>\n",
       "      <td>149</td>\n",
       "      <td>130</td>\n",
       "    </tr>\n",
       "  </tbody>\n",
       "</table>\n",
       "</div>"
      ],
      "text/plain": [
       "                                        Feature  Num_of_countries  \\\n",
       "0            govt_expenditure_on_ag_forest_fish               142   \n",
       "1                                producer_price               146   \n",
       "2      afs_employment_share_in_total_employment               123   \n",
       "3   credit_to_ag_forest_fish_share_total_credit               118   \n",
       "4                      credit_to_ag_forest_fish               118   \n",
       "5                  aoi_credit_to_ag_forest_fish               118   \n",
       "6                          total_employment_afs               129   \n",
       "7       agri_orientation_index_govt_expenditure               149   \n",
       "8                        total_govt_expenditure               149   \n",
       "9                          area_temporary_crops               149   \n",
       "10                        phosphorus_production               149   \n",
       "11                              export_quantity               149   \n",
       "12                                 export_value               149   \n",
       "13                       gross_production_value               145   \n",
       "14                                 total_credit               118   \n",
       "15                          nitrogen_production               149   \n",
       "16                              import_quantity               149   \n",
       "17                                 import_value               149   \n",
       "18                       gross_production_index               149   \n",
       "19                                        yield               149   \n",
       "20                               area_harvested               149   \n",
       "\n",
       "    Num_of_items  \n",
       "0            134  \n",
       "1            133  \n",
       "2            134  \n",
       "3            134  \n",
       "4            134  \n",
       "5            134  \n",
       "6            134  \n",
       "7            134  \n",
       "8            134  \n",
       "9            134  \n",
       "10           134  \n",
       "11           132  \n",
       "12           132  \n",
       "13           129  \n",
       "14           134  \n",
       "15           134  \n",
       "16           132  \n",
       "17           132  \n",
       "18           129  \n",
       "19           130  \n",
       "20           130  "
      ]
     },
     "execution_count": 41,
     "metadata": {},
     "output_type": "execute_result"
    }
   ],
   "source": [
    "# Calculate the percentage of missing values for each feature in the dataset\n",
    "# .isna() returns a boolean DataFrame \n",
    "# .mean() computes the proportion of missing values per column\n",
    "# Multiplying by 100 converts the proportions to percentages\n",
    "# .sort_values() arranges the features from most to least missing\n",
    "prop_na_values = filtered_data_4.isna().mean().sort_values(ascending=False)*100\n",
    "\n",
    "# Select features where the percentage of missing data is between 10% and 60% \n",
    "features = prop_na_values.loc[\n",
    "    (prop_na_values.values > 10) &\n",
    "    (prop_na_values.values < 61)\n",
    "]\n",
    "\n",
    "# Initialize lists to store metadata for each selected feature\n",
    "countries = []\n",
    "items = []\n",
    "feature_list = []\n",
    "\n",
    "# Loop through each selected feature\n",
    "for feature in features.index:\n",
    "    feature_list.append(feature)\n",
    "\n",
    "    # Count how many unique countries have non-missing values for this feature\n",
    "    num_countries = len(filtered_data_4['area'].loc[filtered_data_4[feature].notna()].unique())\n",
    "    countries.append(num_countries)\n",
    "\n",
    "    # Count how many unique items have non-missing values for this feature\n",
    "    num_items = len(filtered_data_4['item'].loc[filtered_data_4[feature].notna()].unique())\n",
    "    items.append(num_items)\n",
    "\n",
    "# Create a DataFrame summarizing the number of countries and items with data for \n",
    "# each selected feature\n",
    "df_4 = pd.DataFrame({\n",
    "    'Feature': feature_list,\n",
    "    'Num_of_countries': countries,\n",
    "    'Num_of_items': items\n",
    "})\n",
    "\n",
    "df_4"
   ]
  },
  {
   "cell_type": "code",
   "execution_count": 42,
   "id": "5d9a5a12",
   "metadata": {},
   "outputs": [
    {
     "data": {
      "text/plain": [
       "govt_expenditure_on_ag_forest_fish             50.000000\n",
       "producer_price                                 45.325251\n",
       "afs_employment_share_in_total_employment       42.631489\n",
       "credit_to_ag_forest_fish_share_total_credit    41.298352\n",
       "credit_to_ag_forest_fish                       41.298352\n",
       "aoi_credit_to_ag_forest_fish                   41.298352\n",
       "total_employment_afs                           40.752396\n",
       "agri_orientation_index_govt_expenditure        33.370615\n",
       "total_govt_expenditure                         33.291944\n",
       "area_temporary_crops                           31.785826\n",
       "phosphorus_production                          28.609139\n",
       "export_quantity                                27.330976\n",
       "export_value                                   27.128612\n",
       "gross_production_value                         26.565595\n",
       "total_credit                                   26.085988\n",
       "nitrogen_production                            26.032435\n",
       "import_quantity                                25.894524\n",
       "import_value                                   25.794053\n",
       "gross_production_index                         13.338009\n",
       "yield                                          11.239017\n",
       "dtype: float64"
      ]
     },
     "execution_count": 42,
     "metadata": {},
     "output_type": "execute_result"
    }
   ],
   "source": [
    "# proportion of missing values for each column\n",
    "prop_na_filtered_4 = filtered_data_4.isna().mean().sort_values(ascending=False)*100\n",
    "prop_na_filtered_4.head(20)"
   ]
  },
  {
   "cell_type": "code",
   "execution_count": 43,
   "id": "1af0d58e",
   "metadata": {},
   "outputs": [
    {
     "data": {
      "image/png": "[encoded data removed]",
      "text/plain": [
       "<Figure size 800x500 with 1 Axes>"
      ]
     },
     "metadata": {},
     "output_type": "display_data"
    }
   ],
   "source": [
    "# Understanding amount of missing data among the features through histogram\n",
    "plt.figure(figsize=(8,5))\n",
    "counts, edges, bars = plt.hist(\n",
    "    prop_na_filtered_4, \n",
    "    edgecolor='black',\n",
    "    bins=list(range(0,101,10))\n",
    "    )\n",
    "plt.title('Feature distribution: After data cleaning/pre-processing', fontsize=14, fontweight='bold')\n",
    "plt.xlabel(\"Proportion of missing values (%)\", fontweight='bold', fontsize=12)\n",
    "plt.ylabel(\"Number of features\", fontweight='bold', fontsize=12)\n",
    "plt.xticks(list(range(0,101,10)) ,fontsize=12)\n",
    "plt.yticks(fontsize=12)\n",
    "plt.ylim(0,85)\n",
    "plt.grid(linestyle='--', alpha=0.5)\n",
    "\n",
    "# adding frequency labels on bars\n",
    "for count, edge in zip(counts, edges[:-1]):\n",
    "    plt.text(edge+5, count+1, str(int(count)), ha='center', fontsize=12)\n",
    "\n",
    "# saving plot as png image\n",
    "plt.savefig('plots/feat_dist_post_clean.png', dpi=360, bbox_inches='tight')\n",
    "\n",
    "plt.show()"
   ]
  },
  {
   "cell_type": "code",
   "execution_count": 44,
   "id": "97b01a4d",
   "metadata": {},
   "outputs": [
    {
     "data": {
      "text/plain": [
       "(211006, 97)"
      ]
     },
     "execution_count": 44,
     "metadata": {},
     "output_type": "execute_result"
    }
   ],
   "source": [
    "filtered_data_4.shape"
   ]
  },
  {
   "cell_type": "markdown",
   "id": "9630d940",
   "metadata": {},
   "source": [
    "After data preprocessing and cleaning, we significantly reduced the number of missing values in the dataset, although some data loss occurred during the process. The original dataset consisted of 392,856 entries and 117 columns. Among these, 71 columns had missing values under 10%, and 94 columns had missing values under 60%. Following the cleaning process, the dataset now contains 211,006 entries and 97 columns. Of these, 76 columns have missing values below 10%, and 90 columns have missing values below 40%."
   ]
  },
  {
   "cell_type": "code",
   "execution_count": 45,
   "id": "be3739b3",
   "metadata": {},
   "outputs": [],
   "source": [
    "# Exporting cleaned data as csv file\n",
    "filtered_data_4.to_csv('pre_processed_data.csv', index=False)"
   ]
  }
 ],
 "metadata": {
  "kernelspec": {
   "display_name": "py312",
   "language": "python",
   "name": "python3"
  },
  "language_info": {
   "codemirror_mode": {
    "name": "ipython",
    "version": 3
   },
   "file_extension": ".py",
   "mimetype": "text/x-python",
   "name": "python",
   "nbconvert_exporter": "python",
   "pygments_lexer": "ipython3",
   "version": "3.12.5"
  }
 },
 "nbformat": 4,
 "nbformat_minor": 5
}
