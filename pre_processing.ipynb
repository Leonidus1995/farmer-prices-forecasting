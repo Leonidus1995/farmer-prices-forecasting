{
 "cells": [
  {
   "cell_type": "code",
   "execution_count": null,
   "id": "ef42372a",
   "metadata": {},
   "outputs": [],
   "source": [
    "# loading plotting library\n",
    "import matplotlib.pyplot as plt"
   ]
  },
  {
   "cell_type": "code",
   "execution_count": null,
   "id": "24e42edc",
   "metadata": {},
   "outputs": [],
   "source": [
    "# Remove the row-limit so that any Series/DataFrame will print in full\n",
    "pd.set_option('display.max_rows', None)"
   ]
  },
  {
   "cell_type": "code",
   "execution_count": null,
   "id": "1d9c8b97",
   "metadata": {},
   "outputs": [],
   "source": [
    "# total number of missing values per column\n",
    "df_merged.isna().sum()"
   ]
  },
  {
   "cell_type": "code",
   "execution_count": null,
   "id": "280cb839",
   "metadata": {},
   "outputs": [],
   "source": [
    "# proportion of missing values for each column\n",
    "prop_na_merged = df_merged.isna().mean().sort_values(ascending=False)*100\n",
    "prop_na_merged.head(20)"
   ]
  },
  {
   "cell_type": "code",
   "execution_count": null,
   "id": "fe533d4f",
   "metadata": {},
   "outputs": [],
   "source": [
    "# Histogram to better understand the proportion of missing values in the columns\n",
    "plt.figure(figsize=(8,5))\n",
    "\n",
    "# plot histogram and get the counts and bin edges\n",
    "counts, edges, bars = plt.hist(\n",
    "    prop_na_merged,\n",
    "    bins = list(range(0,101,10)),\n",
    "    alpha = 0.8,\n",
    "    edgecolor = 'black'\n",
    ")\n",
    "# add frequency labels above bars\n",
    "for count, edge in zip(counts, edges[:-1]):\n",
    "    plt.text(edge + 5, count + 0.5, str(int(count)), ha='center', fontsize=10)\n",
    "\n",
    "plt.title('Distribution of features by percent missing values', fontsize=14)\n",
    "plt.xlabel('Proportion of missing values (%)', fontsize=12)\n",
    "plt.ylabel('Number of features', fontsize=12)\n",
    "plt.xticks(list(range(0,101,10)))\n",
    "plt.grid(linestyle='--', alpha=0.5)\n",
    "plt.show()"
   ]
  },
  {
   "cell_type": "markdown",
   "id": "1bc04d65",
   "metadata": {},
   "source": [
    "Out of 117 features in the integrated dataset, 24 of them have missing values \n",
    "over 50%. Whereas, 75 features have missing values below 20%. There are 10 features \n",
    "with over 90% missing values. \n",
    "\n",
    "We have to deal with the missing values before we train our models. \n",
    "\n",
    "The top 10 columns having highest missing values are: \n",
    "\n",
    "1. laying                                  (97.66%)\n",
    "2. milk_animals                            (96.27%)\n",
    "3. terms_of_trade                          (96.19%)\n",
    "4. import_market_concentration_index       (95.50%)\n",
    "5. export_market_concentration_index       (95.46%)\n",
    "6. self_sufficiency_ratio                  (95.23%)\n",
    "7. import_dependency_ratio                 (95.23%)\n",
    "8. revealed_comparative_advantage_index    (94.95%)\n",
    "9. yield_or_carcass_weight                 (92.30%)\n",
    "10. producing_animals_or_slaughtered        (92.25%)"
   ]
  },
  {
   "cell_type": "code",
   "execution_count": null,
   "id": "a24f2ade",
   "metadata": {},
   "outputs": [],
   "source": []
  }
 ],
 "metadata": {
  "kernelspec": {
   "display_name": "py312",
   "language": "python",
   "name": "python3"
  },
  "language_info": {
   "name": "python",
   "version": "3.12.5"
  }
 },
 "nbformat": 4,
 "nbformat_minor": 5
}
